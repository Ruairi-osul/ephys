{
 "cells": [
  {
   "cell_type": "code",
   "execution_count": 1,
   "metadata": {},
   "outputs": [],
   "source": [
    "import numpy as np\n",
    "import matplotlib.pyplot as plt\n",
    "%matplotlib inline\n"
   ]
  },
  {
   "cell_type": "code",
   "execution_count": 2,
   "metadata": {},
   "outputs": [
    {
     "data": {
      "text/plain": [
       "array([  4.00000000e-03,   3.47000000e-02,   3.53333333e-02, ...,\n",
       "         3.59886180e+03,   3.59897837e+03,   3.59929400e+03])"
      ]
     },
     "execution_count": 2,
     "metadata": {},
     "output_type": "execute_result"
    }
   ],
   "source": [
    "# Load the file specifying the character that separates values, and skipping the first 12 rows\n",
    "data0 = np.genfromtxt('Mouse number 0.csv', dtype=[('clusterid', int), ('time', float), ('category', '<16U')], delimiter=',', skip_header=1, usecols = (0, 1, 4))\n",
    "data0['time']"
   ]
  },
  {
   "cell_type": "code",
   "execution_count": 3,
   "metadata": {},
   "outputs": [],
   "source": [
    "np.genfromtxt?"
   ]
  },
  {
   "cell_type": "code",
   "execution_count": null,
   "metadata": {},
   "outputs": [],
   "source": []
  },
  {
   "cell_type": "code",
   "execution_count": 4,
   "metadata": {},
   "outputs": [
    {
     "data": {
      "text/plain": [
       "array([(130,   4.00000000e-03, 'fast regular'),\n",
       "       (130,   3.47000000e-02, 'fast regular'),\n",
       "       (130,   3.53333333e-02, 'fast regular'), ...,\n",
       "       (136,   3.59886180e+03, 'slow irregular'),\n",
       "       (136,   3.59897837e+03, 'slow irregular'),\n",
       "       (136,   3.59929400e+03, 'slow irregular')],\n",
       "      dtype=[('clusterid', '<i8'), ('time', '<f8'), ('category', '<U16')])"
      ]
     },
     "execution_count": 4,
     "metadata": {},
     "output_type": "execute_result"
    }
   ],
   "source": [
    "data0"
   ]
  },
  {
   "cell_type": "code",
   "execution_count": 5,
   "metadata": {},
   "outputs": [
    {
     "data": {
      "text/plain": [
       "(601542,)"
      ]
     },
     "execution_count": 5,
     "metadata": {},
     "output_type": "execute_result"
    }
   ],
   "source": [
    "data0.shape"
   ]
  },
  {
   "cell_type": "code",
   "execution_count": 6,
   "metadata": {},
   "outputs": [],
   "source": [
    "x=np.unique(data0['clusterid'])"
   ]
  },
  {
   "cell_type": "code",
   "execution_count": 7,
   "metadata": {},
   "outputs": [
    {
     "data": {
      "text/plain": [
       "array([  0,   2,  11,  12,  16,  22,  25,  26,  29,  32,  35,  40,  45,\n",
       "        49,  53,  63,  68,  69,  72,  73,  75,  76,  86,  88, 126, 127,\n",
       "       130, 131, 132, 133, 134, 136, 141, 142, 143, 144, 145])"
      ]
     },
     "execution_count": 7,
     "metadata": {},
     "output_type": "execute_result"
    }
   ],
   "source": [
    "x"
   ]
  },
  {
   "cell_type": "code",
   "execution_count": null,
   "metadata": {},
   "outputs": [],
   "source": []
  },
  {
   "cell_type": "code",
   "execution_count": 8,
   "metadata": {},
   "outputs": [],
   "source": [
    "y = []\n",
    "for i in np.unique(x):\n",
    "    y.append(data0['time'][np.where(data0['clusterid']==i)])\n",
    "    #y[x[i]==data0[:,1]]\n",
    "    "
   ]
  },
  {
   "cell_type": "code",
   "execution_count": 9,
   "metadata": {},
   "outputs": [
    {
     "name": "stdout",
     "output_type": "stream",
     "text": [
      "[  7.97533333e-01   1.53996667e+00   1.95286667e+00 ...,   3.59957150e+03\n",
      "   3.59971943e+03   3.59985117e+03]\n"
     ]
    }
   ],
   "source": [
    "\n",
    "print(y[1])"
   ]
  },
  {
   "cell_type": "code",
   "execution_count": 10,
   "metadata": {},
   "outputs": [
    {
     "data": {
      "text/plain": [
       "[array([  9.69300000e-01,   1.24520000e+00,   1.78626667e+00, ...,\n",
       "          3.59953623e+03,   3.59955050e+03,   3.59989533e+03]),\n",
       " array([  7.97533333e-01,   1.53996667e+00,   1.95286667e+00, ...,\n",
       "          3.59957150e+03,   3.59971943e+03,   3.59985117e+03]),\n",
       " array([  142.24586667,   156.22373333,   234.23556667, ...,  3599.75043333,\n",
       "         3599.90716667,  3599.99973333]),\n",
       " array([  3.42000000e-02,   2.69600000e-01,   6.87900000e-01, ...,\n",
       "          3.59949907e+03,   3.59975473e+03,   3.59998393e+03]),\n",
       " array([  9.17733333e-01,   1.11853333e+00,   2.83320000e+00, ...,\n",
       "          3.59899553e+03,   3.59945533e+03,   3.59985063e+03]),\n",
       " array([  1.61200000e-01,   7.65400000e-01,   1.40010000e+00, ...,\n",
       "          3.59965140e+03,   3.59992823e+03,   3.59997453e+03]),\n",
       " array([  186.7275    ,   278.29336667,   303.02416667, ...,  3598.4579    ,\n",
       "         3598.52456667,  3599.95136667]),\n",
       " array([  5.85566667e-01,   8.40733333e-01,   1.50793333e+00, ...,\n",
       "          3.59880283e+03,   3.59936923e+03,   3.59951237e+03]),\n",
       " array([  6.68400000e-01,   1.35680000e+00,   1.98877333e+01, ...,\n",
       "          3.59946907e+03,   3.59958747e+03,   3.59979253e+03]),\n",
       " array([    5.54283333,    24.08343333,    27.87016667, ...,  3599.55416667,\n",
       "         3599.76193333,  3599.94823333]),\n",
       " array([  162.7659    ,   197.0994    ,   221.53913333, ...,  3598.9174    ,\n",
       "         3599.23023333,  3599.9105    ]),\n",
       " array([  1.20666667e-02,   1.12600000e-01,   4.09133333e-01, ...,\n",
       "          3.59921953e+03,   3.59990647e+03,   3.59997940e+03]),\n",
       " array([    5.37036667,    14.1843    ,    18.16203333,    25.8807    ,\n",
       "           39.4214    ,    48.69396667,    48.95366667,    51.26853333,\n",
       "           54.42936667,   104.3276    ,   211.8557    ,   319.7946    ,\n",
       "          582.0194    ,   641.8001    ,   735.41053333,   756.65883333,\n",
       "          796.2523    ,   820.02993333,   876.63726667,   936.95513333,\n",
       "          960.4438    ,   966.60063333,   970.33126667,   977.07236667,\n",
       "          980.47726667,  1013.21663333,  1043.05956667,  1063.79033333,\n",
       "         1103.62346667,  1113.65313333,  1120.49976667,  1126.40503333,\n",
       "         1129.8466    ,  1130.13243333,  1134.14826667,  1134.5123    ,\n",
       "         1154.52043333,  1167.37816667,  1168.54726667,  1189.79656667,\n",
       "         1191.55156667,  1194.7488    ,  1201.56026667,  1212.70126667,\n",
       "         1252.01373333,  1256.94653333,  1266.53916667,  1267.21826667,\n",
       "         1334.52383333,  1336.39726667,  1346.62303333,  1353.58926667,\n",
       "         1387.07503333,  1400.89433333,  1401.79266667,  1403.11913333,\n",
       "         1412.08376667,  1415.33876667,  1430.5348    ,  1433.03176667,\n",
       "         1433.59023333,  1439.98263333,  1445.03453333,  1458.06006667,\n",
       "         1458.41176667,  1462.31456667,  1463.21586667,  1469.37303333,\n",
       "         1469.5562    ,  1472.3035    ,  1472.61803333,  1477.67116667,\n",
       "         1477.98636667,  1480.4935    ,  1483.97193333,  1488.61356667,\n",
       "         1494.7429    ,  1497.55236667,  1499.2501    ,  1501.8298    ,\n",
       "         1511.46166667,  1511.8894    ,  1513.60463333,  1521.74726667,\n",
       "         1524.40706667,  1526.20166667,  1526.7178    ,  1537.6728    ,\n",
       "         1546.26403333,  1564.99183333,  1566.2511    ,  1575.7187    ,\n",
       "         1576.77733333,  1579.8562    ,  1580.66383333,  1581.62853333,\n",
       "         1582.28316667,  1595.20586667,  1595.6845    ,  1596.3099    ,\n",
       "         1597.32726667,  1599.30453333,  1600.7744    ,  1600.89213333,\n",
       "         1604.08273333,  1605.17756667,  1607.3362    ,  1608.3942    ,\n",
       "         1610.91093333,  1615.22346667,  1618.03966667,  1619.59416667,\n",
       "         1620.17243333,  1621.95686667,  1622.08706667,  1623.0174    ,\n",
       "         1631.34736667,  1633.90486667,  1635.73383333,  1643.07806667,\n",
       "         1643.7957    ,  1645.75303333,  1647.3149    ,  1648.54103333,\n",
       "         1652.69136667,  1656.67906667,  1665.74636667,  1666.68396667,\n",
       "         1670.38366667,  1670.96106667,  1674.597     ,  1675.4814    ,\n",
       "         1676.2003    ,  1679.56156667,  1682.19456667,  1685.4972    ,\n",
       "         1687.64766667,  1691.17953333,  1694.75623333,  1697.05783333,\n",
       "         1700.8465    ,  1701.2022    ,  1702.15823333,  1708.4714    ,\n",
       "         1712.15903333,  1713.7218    ,  1714.2473    ,  1716.18273333,\n",
       "         1718.06743333,  1720.43316667,  1727.55646667,  1735.702     ,\n",
       "         1738.54613333,  1738.90293333,  1742.46996667,  1744.44913333,\n",
       "         1746.0457    ,  1752.21093333,  1754.80696667,  1757.88156667,\n",
       "         1761.11286667,  1763.5011    ,  1764.6085    ,  1765.6293    ,\n",
       "         1768.39383333,  1771.28623333,  1778.52553333,  1780.17573333,\n",
       "         1781.47156667,  1783.8517    ,  1820.02886667,  1820.63036667,\n",
       "         1843.79933333,  1898.47343333,  1899.63283333,  1900.4067    ,\n",
       "         1902.5225    ,  1905.00263333,  1908.49133333,  1912.53453333,\n",
       "         1914.28876667,  1922.51993333,  1923.9721    ,  1929.14386667,\n",
       "         1929.43163333,  1931.93236667,  1932.39583333,  1933.92056667,\n",
       "         1935.31803333,  1938.1617    ,  1940.14856667,  1942.01406667,\n",
       "         1942.28206667,  1942.77923333,  1943.91      ,  1945.92413333,\n",
       "         1950.10883333,  1950.5447    ,  1951.12976667,  1951.7048    ,\n",
       "         1953.8911    ,  1957.8779    ,  1959.1112    ,  1960.60616667,\n",
       "         1963.23263333,  1965.2493    ,  1968.8371    ,  1972.89286667,\n",
       "         1976.81983333,  1984.01033333,  1984.24466667,  1988.30786667,\n",
       "         1989.7065    ,  1989.98973333,  1991.74496667,  1993.03846667,\n",
       "         1994.08116667,  1996.36776667,  1997.0299    ,  2002.67713333,\n",
       "         2005.61726667,  2011.0351    ,  2016.21036667,  2016.68666667,\n",
       "         2017.7047    ,  2021.3003    ,  2021.72066667,  2021.9646    ,\n",
       "         2023.43636667,  2026.63046667,  2028.58126667,  2031.739     ,\n",
       "         2034.24326667,  2035.3156    ,  2036.20103333,  2039.1345    ,\n",
       "         2041.87123333,  2049.47913333,  2051.4192    ,  2051.77813333,\n",
       "         2052.12266667,  2052.5325    ,  2056.378     ,  2057.8622    ,\n",
       "         2058.548     ,  2059.01816667,  2063.58976667,  2064.04343333,\n",
       "         2070.43146667,  2072.5982    ,  2073.0515    ,  2073.609     ,\n",
       "         2075.36223333,  2078.55526667,  2081.30996667,  2083.79636667,\n",
       "         2085.27063333,  2086.34623333,  2097.37046667,  2100.26923333,\n",
       "         2148.3676    ,  2174.65276667,  2175.68833333,  2176.6919    ,\n",
       "         2176.8984    ,  2178.91403333,  2178.95656667,  2179.94966667,\n",
       "         2181.33486667,  2185.54746667,  2190.06836667,  2191.68243333,\n",
       "         2192.39923333,  2192.76466667,  2193.22863333,  2195.56963333,\n",
       "         2197.26526667,  2202.03633333,  2202.8857    ,  2209.61896667,\n",
       "         2210.3631    ,  2214.39626667,  2215.32556667,  2216.12733333,\n",
       "         2216.95146667,  2226.5427    ,  2230.36773333,  2231.99626667,\n",
       "         2232.26186667,  2235.13176667,  2236.7379    ,  2238.6619    ,\n",
       "         2241.95596667,  2247.60403333,  2248.92646667,  2251.6693    ,\n",
       "         2253.1328    ,  2255.03606667,  2255.74676667,  2256.2025    ,\n",
       "         2257.15186667,  2260.05143333,  2263.81763333,  2265.2198    ,\n",
       "         2267.62966667,  2268.09096667,  2270.9102    ,  2281.15803333,\n",
       "         2282.15246667,  2283.4278    ,  2288.27633333,  2289.46136667,\n",
       "         2290.66256667,  2291.329     ,  2291.7213    ,  2291.77683333,\n",
       "         2293.06156667,  2294.23563333,  2302.44383333,  2302.70393333,\n",
       "         2306.0251    ,  2310.69693333,  2314.59233333,  2314.98606667,\n",
       "         2316.48136667,  2317.31563333,  2319.1035    ,  2319.76063333,\n",
       "         2320.9367    ,  2323.68896667,  2330.77856667,  2332.55353333,\n",
       "         2333.84033333,  2335.85346667,  2336.3593    ,  2337.68953333,\n",
       "         2340.40566667,  2340.81163333,  2343.5341    ,  2344.75183333,\n",
       "         2350.2485    ,  2352.61606667,  2353.74996667,  2358.76173333,\n",
       "         2360.78873333,  2361.16363333,  2362.67853333,  2363.64276667,\n",
       "         2366.27566667,  2366.91036667,  2367.99803333,  2371.99233333,\n",
       "         2374.90786667,  2377.41286667,  2383.245     ,  2386.36036667,\n",
       "         2392.2925    ,  2400.6324    ,  2403.98896667,  2409.1926    ,\n",
       "         2420.85093333,  2421.11916667,  2422.79133333,  2425.13626667,\n",
       "         2427.35176667,  2429.07593333,  2430.80506667,  2432.21436667,\n",
       "         2435.26856667,  2443.60783333,  2444.49546667,  2447.43836667,\n",
       "         2449.89303333,  2450.46466667,  2459.3671    ,  2461.5756    ,\n",
       "         2461.86173333,  2463.02823333,  2466.45203333,  2466.98883333,\n",
       "         2467.85676667,  2469.6281    ,  2472.51853333,  2481.08896667,\n",
       "         2483.62863333,  2485.4046    ,  2489.9851    ,  2492.15626667,\n",
       "         2493.3629    ,  2494.3039    ,  2496.3049    ,  2497.57533333,\n",
       "         2498.46626667,  2500.9681    ,  2504.1642    ,  2507.71986667,\n",
       "         2512.94      ,  2515.39906667,  2517.10276667,  2520.0117    ,\n",
       "         2520.32326667,  2521.0317    ,  2521.75193333,  2522.7562    ,\n",
       "         2524.08003333,  2528.7284    ,  2532.71706667,  2535.11796667,\n",
       "         2537.08623333,  2538.9442    ,  2541.18246667,  2546.1568    ,\n",
       "         2547.02116667,  2552.43626667,  2553.5602    ,  2560.5213    ,\n",
       "         2560.8149    ,  2564.4932    ,  2567.2781    ,  2569.47366667,\n",
       "         2570.7342    ,  2572.17976667,  2574.56463333,  2577.4206    ,\n",
       "         2578.2594    ,  2579.6084    ,  2580.69156667,  2583.23346667,\n",
       "         2587.11506667,  2588.56513333,  2589.21096667,  2591.15436667,\n",
       "         2593.77573333,  2596.98673333,  2600.24186667,  2606.79833333,\n",
       "         2607.50073333,  2608.18456667,  2608.5427    ,  2610.25603333,\n",
       "         2614.79043333,  2615.13986667,  2616.5884    ,  2627.84683333,\n",
       "         2628.1887    ,  2629.19303333,  2632.09516667,  2632.26846667,\n",
       "         2632.53503333,  2635.76036667,  2636.58986667,  2637.9785    ,\n",
       "         2642.01286667,  2643.77263333,  2647.29066667,  2658.8685    ,\n",
       "         2663.43096667,  2663.897     ,  2665.61873333,  2665.9294    ,\n",
       "         2666.60323333,  2689.52356667,  2695.68303333,  2730.24106667,\n",
       "         2731.7918    ,  2757.05793333,  2759.68896667,  2760.22543333,\n",
       "         2761.29156667,  2761.65666667,  2765.99326667,  2767.31903333,\n",
       "         2768.63263333,  2770.08893333,  2778.2678    ,  2778.8622    ,\n",
       "         2782.8543    ,  2783.7244    ,  2784.6003    ,  2786.96396667,\n",
       "         2788.59786667,  2788.90083333,  2792.16683333,  2793.3271    ,\n",
       "         2795.88433333,  2799.45426667,  2801.18453333,  2801.54766667,\n",
       "         2801.80583333,  2803.66596667,  2804.67276667,  2805.0876    ,\n",
       "         2806.4111    ,  2807.17646667,  2813.92506667,  2816.40626667,\n",
       "         2819.2289    ,  2819.65276667,  2821.2028    ,  2822.24443333,\n",
       "         2822.86663333,  2823.80526667,  2826.48226667,  2826.80966667,\n",
       "         2827.11496667,  2828.10073333,  2828.42903333,  2828.8825    ,\n",
       "         2829.83163333,  2831.97336667,  2832.2557    ,  2834.00373333,\n",
       "         2834.26036667,  2834.80656667,  2837.46696667,  2837.9793    ,\n",
       "         2842.4986    ,  2846.6495    ,  2846.93593333,  2851.24376667,\n",
       "         2852.24563333,  2854.2857    ,  2857.5933    ,  2859.65423333,\n",
       "         2860.81316667,  2861.64346667,  2863.65913333,  2864.0823    ,\n",
       "         2866.57533333,  2867.0633    ,  2868.2061    ,  2868.73906667,\n",
       "         2871.50666667,  2871.98653333,  2872.587     ,  2873.0636    ,\n",
       "         2873.5577    ,  2877.04053333,  2877.48403333,  2877.98476667,\n",
       "         2878.43036667,  2880.0835    ,  2881.2034    ,  2883.08766667,\n",
       "         2883.98393333,  2886.61843333,  2887.60776667,  2888.92976667,\n",
       "         2889.9426    ,  2891.2807    ,  2891.9448    ,  2893.2079    ,\n",
       "         2894.24333333,  2894.4543    ,  2895.03533333,  2895.73596667,\n",
       "         2897.98813333,  2900.01123333,  2900.8373    ,  2901.68716667,\n",
       "         2902.32546667,  2904.0432    ,  2905.88106667,  2906.3128    ,\n",
       "         2907.9013    ,  2909.42833333,  2909.83013333,  2913.31196667,\n",
       "         2913.8285    ,  2914.6101    ,  2914.9591    ,  2915.58586667,\n",
       "         2917.39586667,  2920.84526667,  2922.29886667,  2924.5588    ,\n",
       "         2924.8866    ,  2926.84806667,  2928.20693333,  2928.63323333,\n",
       "         2929.98286667,  2930.03643333,  2931.22843333,  2932.54546667,\n",
       "         2933.23326667,  2933.734     ,  2941.17933333,  2942.31316667,\n",
       "         2944.68663333,  2947.3199    ,  2949.29626667,  2950.4953    ,\n",
       "         2951.02336667,  2951.0971    ,  2952.63076667,  2955.76536667,\n",
       "         2969.17123333,  2974.33063333,  2977.76286667,  2978.7037    ,\n",
       "         2979.1168    ,  2980.05836667,  2981.43443333,  2982.35553333,\n",
       "         2992.4719    ,  2993.0352    ,  2994.3365    ,  2998.05353333,\n",
       "         3000.86613333,  3003.34876667,  3007.9641    ,  3008.30866667,\n",
       "         3008.64886667,  3009.84136667,  3010.36926667,  3010.6692    ,\n",
       "         3011.396     ,  3015.24623333,  3015.81036667,  3016.2339    ,\n",
       "         3023.88966667,  3024.7994    ,  3025.13543333,  3025.49323333,\n",
       "         3029.16533333,  3030.90083333,  3032.5928    ,  3033.12153333,\n",
       "         3033.32326667,  3037.9479    ,  3038.77313333,  3040.45206667,\n",
       "         3041.39853333,  3044.6675    ,  3046.32933333,  3047.27203333,\n",
       "         3048.70553333,  3049.3641    ,  3050.25626667,  3051.79606667,\n",
       "         3054.8624    ,  3056.2135    ,  3057.25693333,  3057.77793333,\n",
       "         3058.00736667,  3061.52743333,  3062.7038    ,  3069.98023333,\n",
       "         3070.88986667,  3071.5666    ,  3072.31016667,  3073.32156667,\n",
       "         3075.16296667,  3075.7995    ,  3076.70126667,  3077.19213333,\n",
       "         3077.95056667,  3079.18896667,  3079.60633333,  3080.34193333,\n",
       "         3080.79413333,  3082.22476667,  3086.6315    ,  3087.50613333,\n",
       "         3091.28836667,  3092.50206667,  3093.0581    ,  3093.9334    ,\n",
       "         3094.7451    ,  3094.9789    ,  3095.3259    ,  3096.81443333,\n",
       "         3097.46456667,  3099.19276667,  3099.66123333,  3100.15756667,\n",
       "         3103.97346667,  3104.64433333,  3104.89316667,  3105.3798    ,\n",
       "         3107.2172    ,  3112.09593333,  3115.1233    ,  3117.29913333,\n",
       "         3117.6828    ,  3118.12116667,  3119.90266667,  3120.49933333,\n",
       "         3120.97853333,  3122.84946667,  3123.2923    ,  3123.57593333,\n",
       "         3125.12083333,  3126.74683333,  3127.03173333,  3131.1248    ,\n",
       "         3132.45893333,  3133.5098    ,  3135.38423333,  3136.56323333,\n",
       "         3139.25296667,  3139.7545    ,  3140.23733333,  3143.2842    ,\n",
       "         3146.2723    ,  3147.12916667,  3148.10766667,  3149.3375    ,\n",
       "         3149.83596667,  3153.27393333,  3154.3895    ,  3157.06326667,\n",
       "         3159.44926667,  3164.94263333,  3167.64833333,  3168.0935    ,\n",
       "         3169.09453333,  3169.4764    ,  3170.70963333,  3172.244     ,\n",
       "         3173.24126667,  3176.0803    ,  3176.3198    ,  3177.17253333,\n",
       "         3178.7562    ,  3179.9372    ,  3181.2089    ,  3182.0011    ,\n",
       "         3182.2361    ,  3182.6995    ,  3184.06486667,  3184.97993333,\n",
       "         3185.39843333,  3188.80873333,  3193.23083333,  3197.38203333,\n",
       "         3199.8839    ,  3200.34713333,  3200.69203333,  3201.25313333,\n",
       "         3201.604     ,  3202.59843333,  3204.06193333,  3207.8746    ,\n",
       "         3209.10426667,  3212.73003333,  3213.66383333,  3213.78253333,\n",
       "         3214.0243    ,  3214.75786667,  3215.79033333,  3216.32953333,\n",
       "         3217.4136    ,  3219.1133    ,  3220.11      ,  3221.0167    ,\n",
       "         3223.58326667,  3223.92453333,  3224.6195    ,  3225.2481    ,\n",
       "         3229.01523333,  3229.59646667,  3230.24423333,  3231.9279    ,\n",
       "         3234.7227    ,  3236.73516667,  3240.45366667,  3242.37306667,\n",
       "         3247.1615    ,  3252.62586667,  3253.19043333,  3257.9757    ,\n",
       "         3262.65056667,  3262.99336667,  3263.51076667,  3264.64846667,\n",
       "         3265.7722    ,  3271.05886667,  3273.03073333,  3273.67276667,\n",
       "         3274.8438    ,  3276.33403333,  3276.99756667,  3279.01383333,\n",
       "         3279.62696667,  3291.63586667,  3294.1625    ,  3296.3565    ,\n",
       "         3297.1534    ,  3298.97436667,  3299.50273333,  3302.6121    ,\n",
       "         3302.82376667,  3310.78323333,  3312.25783333,  3324.90866667,\n",
       "         3325.28236667,  3327.18453333,  3327.62976667,  3327.93206667,\n",
       "         3329.5892    ,  3329.78666667,  3331.26563333,  3331.73646667,\n",
       "         3332.06233333,  3332.9219    ,  3333.29206667,  3337.5349    ,\n",
       "         3337.965     ,  3340.94476667,  3342.36613333,  3344.16176667,\n",
       "         3347.4625    ,  3350.3733    ,  3352.66733333,  3353.007     ,\n",
       "         3353.52403333,  3353.81496667,  3354.02536667,  3355.0565    ,\n",
       "         3355.71063333,  3358.13663333,  3359.1967    ,  3360.26443333,\n",
       "         3364.90716667,  3366.25633333,  3368.87543333,  3370.0314    ,\n",
       "         3371.62913333,  3372.1349    ,  3374.6779    ,  3375.05986667,\n",
       "         3378.2002    ,  3380.54066667,  3380.82653333,  3381.08343333,\n",
       "         3381.42956667,  3383.33353333,  3385.2975    ,  3385.75143333,\n",
       "         3386.2456    ,  3387.12093333,  3389.32876667,  3391.31356667,\n",
       "         3391.91496667,  3392.2287    ,  3392.76133333,  3393.61906667,\n",
       "         3396.73156667,  3397.09836667,  3398.4458    ,  3399.51776667,\n",
       "         3400.3501    ,  3400.65376667,  3401.72883333,  3404.3168    ,\n",
       "         3405.7848    ,  3406.207     ,  3407.37413333,  3407.5669    ,\n",
       "         3407.91936667,  3409.30056667,  3410.49113333,  3411.6824    ,\n",
       "         3412.85813333,  3413.81936667,  3414.39716667,  3415.25016667,\n",
       "         3416.23723333,  3418.26876667,  3418.92593333,  3419.4652    ,\n",
       "         3422.5045    ,  3422.885     ,  3423.6488    ,  3424.2762    ,\n",
       "         3425.6163    ,  3426.23516667,  3426.88503333,  3427.71133333,\n",
       "         3428.07483333,  3428.7983    ,  3429.6977    ,  3430.18606667,\n",
       "         3434.73826667,  3435.5218    ,  3435.91933333,  3437.27793333,\n",
       "         3438.48163333,  3439.47376667,  3444.57126667,  3446.9166    ,\n",
       "         3447.05606667,  3448.00566667,  3450.0005    ,  3450.1875    ,\n",
       "         3450.95446667,  3456.56983333,  3456.8988    ,  3458.0521    ,\n",
       "         3458.50573333,  3458.7318    ,  3459.0798    ,  3459.89113333,\n",
       "         3460.58826667,  3461.20383333,  3464.44923333,  3464.8379    ,\n",
       "         3467.07856667,  3469.55576667,  3470.73503333,  3471.7011    ,\n",
       "         3471.99283333,  3472.28863333,  3473.24153333,  3473.8352    ,\n",
       "         3474.56346667,  3475.69056667,  3478.15433333,  3478.64723333,\n",
       "         3479.297     ,  3480.7562    ,  3481.72683333,  3483.51113333,\n",
       "         3487.4278    ,  3488.86963333,  3489.25186667,  3489.75743333,\n",
       "         3490.05593333,  3490.6776    ,  3493.77      ,  3494.23513333,\n",
       "         3494.82593333,  3500.77553333,  3502.2019    ,  3504.73533333,\n",
       "         3505.33236667,  3505.9568    ,  3507.23146667,  3509.3539    ,\n",
       "         3514.2595    ,  3514.67623333,  3516.6079    ,  3517.1744    ,\n",
       "         3522.5437    ,  3524.7806    ,  3529.32053333,  3550.8042    ,\n",
       "         3555.4328    ,  3555.72893333,  3556.03513333,  3556.508     ,\n",
       "         3559.84376667,  3573.29683333,  3573.48206667,  3574.09163333,\n",
       "         3574.97243333,  3575.30223333,  3575.7191    ,  3576.14196667,\n",
       "         3576.5396    ,  3577.15953333,  3578.6287    ,  3578.9716    ,\n",
       "         3579.68736667,  3580.08523333,  3581.2828    ,  3585.39376667,\n",
       "         3586.42813333,  3587.44433333,  3593.42486667,  3598.45256667,\n",
       "         3598.84986667,  3599.25556667]),\n",
       " array([  6.18900000e-01,   1.29720000e+00,   2.55350000e+00, ...,\n",
       "          3.59937183e+03,   3.59954920e+03,   3.59993543e+03]),\n",
       " array([   55.25263333,   327.72033333,   369.31733333, ...,  3597.50646667,\n",
       "         3597.88143333,  3598.3777    ]),\n",
       " array([   17.89163333,    23.0549    ,    26.8776    , ...,  3599.73486667,\n",
       "         3599.80933333,  3599.92203333]),\n",
       " array([  329.3699    ,   352.615     ,   353.55166667, ...,  3522.41716667,\n",
       "         3531.33333333,  3564.11123333]),\n",
       " array([  108.49576667,   111.21223333,   117.09056667, ...,  3599.35636667,\n",
       "         3599.47833333,  3599.85976667]),\n",
       " array([  2.28733333e-01,   4.83400000e-01,   7.30333333e-01, ...,\n",
       "          3.59939240e+03,   3.59968003e+03,   3.59993243e+03]),\n",
       " array([  7.30366667e-01,   5.88750000e+00,   6.70603333e+00, ...,\n",
       "          3.59917757e+03,   3.59947443e+03,   3.59970857e+03]),\n",
       " array([    4.18093333,     6.09046667,    14.282     , ...,  3599.21516667,\n",
       "         3599.50253333,  3599.8636    ]),\n",
       " array([  1.76666667e-02,   6.63000000e-02,   1.73633333e-01, ...,\n",
       "          3.59924207e+03,   3.59932420e+03,   3.59967517e+03]),\n",
       " array([   22.39953333,    28.948     ,    85.05063333, ...,  3598.72353333,\n",
       "         3599.04293333,  3599.82053333]),\n",
       " array([  2.28833333e-01,   9.92633333e-01,   1.22206667e+00, ...,\n",
       "          3.59601523e+03,   3.59826120e+03,   3.59943320e+03]),\n",
       " array([  150.85      ,   357.45673333,   389.10986667, ...,  3599.6236    ,\n",
       "         3599.82616667,  3599.97406667]),\n",
       " array([  1.95440000e+00,   2.97463333e+00,   8.07653333e+00, ...,\n",
       "          3.59958970e+03,   3.59983277e+03,   3.59992877e+03]),\n",
       " array([  4.00000000e-03,   3.47000000e-02,   3.53333333e-02, ...,\n",
       "          3.59963283e+03,   3.59969057e+03,   3.59977193e+03]),\n",
       " array([  403.08396667,   403.7571    ,   406.09826667, ...,  3599.358     ,\n",
       "         3599.58166667,  3599.81476667]),\n",
       " array([  125.92416667,   359.36276667,   372.1562    , ...,  3599.4574    ,\n",
       "         3599.8115    ,  3599.9618    ]),\n",
       " array([    8.7197    ,    20.0902    ,    20.46546667, ...,  3599.694     ,\n",
       "         3599.8317    ,  3599.9333    ]),\n",
       " array([  417.9834    ,   422.2153    ,   424.23426667, ...,  3599.20346667,\n",
       "         3599.47903333,  3599.7765    ]),\n",
       " array([  421.05536667,   423.96153333,   428.89703333, ...,  3598.8618    ,\n",
       "         3598.97836667,  3599.294     ]),\n",
       " array([  4.41233333e-01,   6.27600000e-01,   9.50700000e-01, ...,\n",
       "          3.59947757e+03,   3.59969737e+03,   3.59992983e+03]),\n",
       " array([  1.00800000e-01,   1.61033333e-01,   2.25100000e-01, ...,\n",
       "          3.59953373e+03,   3.59974837e+03,   3.59998877e+03]),\n",
       " array([   59.62733333,    63.09073333,    63.3166    , ...,  3599.52703333,\n",
       "         3599.79043333,  3599.9858    ]),\n",
       " array([  5.00433333e-01,   6.58453333e+00,   8.13150000e+00, ...,\n",
       "          3.59458283e+03,   3.59535057e+03,   3.59577777e+03]),\n",
       " array([  3.77333333e-02,   7.37333333e-02,   1.07433333e-01, ...,\n",
       "          3.59802083e+03,   3.59902843e+03,   3.59927470e+03])]"
      ]
     },
     "execution_count": 10,
     "metadata": {},
     "output_type": "execute_result"
    }
   ],
   "source": [
    "y"
   ]
  },
  {
   "cell_type": "code",
   "execution_count": 11,
   "metadata": {},
   "outputs": [
    {
     "name": "stdout",
     "output_type": "stream",
     "text": [
      "Help on built-in function max in module builtins:\n",
      "\n",
      "max(...)\n",
      "    max(iterable, *[, default=obj, key=func]) -> value\n",
      "    max(arg1, arg2, *args, *[, key=func]) -> value\n",
      "    \n",
      "    With a single iterable argument, return its biggest item. The\n",
      "    default keyword-only argument specifies an object to return if\n",
      "    the provided iterable is empty.\n",
      "    With two or more arguments, return the largest argument.\n",
      "\n"
     ]
    }
   ],
   "source": [
    "import os\n",
    "import neo\n",
    "import pickle\n",
    "import numpy as np\n",
    "# import distutils.util\n",
    "from quantities import s,us\n",
    "import matplotlib.pyplot as plt\n",
    "help(max)"
   ]
  },
  {
   "cell_type": "code",
   "execution_count": 12,
   "metadata": {},
   "outputs": [
    {
     "name": "stdout",
     "output_type": "stream",
     "text": [
      "0.004\n",
      "3599.99973333\n"
     ]
    }
   ],
   "source": [
    "#maximum and minimum time of recordings\n",
    "t_start=min(data0['time'])\n",
    "t_stop=max(data0['time'])\n",
    "print(t_start)\n",
    "print(t_stop)"
   ]
  },
  {
   "cell_type": "code",
   "execution_count": 13,
   "metadata": {},
   "outputs": [],
   "source": [
    "train=[]\n",
    "for i,cl in enumerate(x):\n",
    "  #  train_trial = y[i]\n",
    "    train.append(neo.SpikeTrain(y[i]*s,\n",
    "                            t_start=0*s,\n",
    "                            t_stop=3600*s, name=cl))\n",
    "    \n",
    "    \n",
    "    #append the spike train to the segment\n",
    "\n",
    "    "
   ]
  },
  {
   "cell_type": "code",
   "execution_count": 14,
   "metadata": {},
   "outputs": [
    {
     "data": {
      "image/png": "[encoded data removed]",
      "text/plain": [
       "<Figure size 432x288 with 1 Axes>"
      ]
     },
     "metadata": {},
     "output_type": "display_data"
    }
   ],
   "source": [
    "# plot spike trains\n",
    "%matplotlib inline\n",
    "import matplotlib.pyplot as plt\n",
    "import numpy as np\n",
    "for i, spiketrain in enumerate(train):\n",
    "    t = spiketrain.rescale(s)\n",
    "    plt.plot(t[t<1000], i* np.ones_like(t[t<1000]), 'k.', markersize=2)\n",
    "plt.axis('tight')\n",
    "plt.xlim(0, 1000)\n",
    "plt.xlabel('Time (s)', fontsize=16)\n",
    "plt.ylabel('Spike Train Index', fontsize=16)\n",
    "plt.gca().tick_params(axis='both', which='major', labelsize=14)\n",
    "plt.show()"
   ]
  },
  {
   "cell_type": "code",
   "execution_count": null,
   "metadata": {},
   "outputs": [],
   "source": []
  },
  {
   "cell_type": "code",
   "execution_count": 15,
   "metadata": {},
   "outputs": [],
   "source": [
    "from elephant.statistics import isi, cv\n",
    "cv_list = [cv(isi(spiketrain)) for spiketrain in train]"
   ]
  },
  {
   "cell_type": "code",
   "execution_count": 16,
   "metadata": {},
   "outputs": [
    {
     "data": {
      "image/png": "[encoded data removed]",
      "text/plain": [
       "<Figure size 432x288 with 1 Axes>"
      ]
     },
     "metadata": {},
     "output_type": "display_data"
    }
   ],
   "source": [
    "%matplotlib inline\n",
    "plt.hist(cv_list,bins=np.arange(50)/5)\n",
    "plt.xlabel('CV', fontsize=16)\n",
    "plt.ylabel('count', fontsize=16)\n",
    "plt.gca().tick_params(axis='both', which='major', labelsize=14)\n",
    "plt.show()"
   ]
  },
  {
   "cell_type": "code",
   "execution_count": 17,
   "metadata": {},
   "outputs": [],
   "source": [
    "cv_list = np.asarray(cv_list)\n"
   ]
  },
  {
   "cell_type": "code",
   "execution_count": 18,
   "metadata": {},
   "outputs": [
    {
     "data": {
      "text/plain": [
       "array([ 1.4831947 ,  0.98477649,  4.83700055,  2.45704138,  0.88337189,\n",
       "        7.09563984,  3.86955242,  1.21397654,  3.23917557,  7.02220927,\n",
       "        1.83938145,  1.18397475,  3.20451416,  3.58953704,  5.68868327,\n",
       "        0.7944894 ,  3.10492532,  1.09131111,  2.90325383,  0.32988538,\n",
       "        0.87454449,  1.42776689,  4.4585493 ,  3.65799015,  7.93582083,\n",
       "        1.76882528,  1.20910593,  0.28908549,  7.24367002,  2.06591196,\n",
       "        0.2751732 ,  1.54832968,  0.318583  ,  0.43715019,  0.22300175,\n",
       "        1.70161814,  1.54718052])"
      ]
     },
     "execution_count": 18,
     "metadata": {},
     "output_type": "execute_result"
    }
   ],
   "source": [
    "cv_list"
   ]
  },
  {
   "cell_type": "code",
   "execution_count": 63,
   "metadata": {},
   "outputs": [],
   "source": [
    "plt.hist?\n"
   ]
  },
  {
   "cell_type": "code",
   "execution_count": 47,
   "metadata": {},
   "outputs": [
    {
     "data": {
      "image/png": "[encoded data removed]",
      "text/plain": [
       "<Figure size 432x288 with 1 Axes>"
      ]
     },
     "metadata": {},
     "output_type": "display_data"
    }
   ],
   "source": [
    "isi_spiketrain=isi(spiketrain)\n",
    "plt.hist(isi_spiketrain.magnitude,bins=np.arange(50)/100)\n",
    "plt.semilogy()\n",
    "plt.xlabel('ISI', fontsize=16)\n",
    "plt.ylabel('count', fontsize=16)\n",
    "plt.gca().tick_params(axis='both', which='major', labelsize=14)\n",
    "plt.show()\n",
    "#isi_spiketrain.magnitude"
   ]
  },
  {
   "cell_type": "code",
   "execution_count": null,
   "metadata": {},
   "outputs": [],
   "source": []
  },
  {
   "cell_type": "code",
   "execution_count": 53,
   "metadata": {},
   "outputs": [
    {
     "data": {
      "text/plain": [
       "18360.474729225167"
      ]
     },
     "execution_count": 53,
     "metadata": {},
     "output_type": "execute_result"
    }
   ],
   "source": [
    "import elephant\n",
    "elephant.statistics.fanofactor(train)\n"
   ]
  },
  {
   "cell_type": "code",
   "execution_count": 72,
   "metadata": {},
   "outputs": [
    {
     "name": "stdout",
     "output_type": "stream",
     "text": [
      "[[ 1.75517854]\n",
      " [ 1.75544846]\n",
      " [ 1.75571837]\n",
      " ..., \n",
      " [ 1.01504732]\n",
      " [ 1.01487766]\n",
      " [ 1.01470801]] Hz\n",
      "<class 'neo.core.analogsignal.AnalogSignal'>\n"
     ]
    }
   ],
   "source": [
    "len(train)\n",
    "print(ifr_spiketrain)\n",
    "print(type(ifr_spiketrain))"
   ]
  },
  {
   "cell_type": "code",
   "execution_count": 103,
   "metadata": {},
   "outputs": [
    {
     "data": {
      "text/plain": [
       "37"
      ]
     },
     "execution_count": 103,
     "metadata": {},
     "output_type": "execute_result"
    }
   ],
   "source": [
    "len(train)"
   ]
  },
  {
   "cell_type": "code",
   "execution_count": 154,
   "metadata": {},
   "outputs": [
    {
     "name": "stderr",
     "output_type": "stream",
     "text": [
      "/home/ocnc/.local/lib/python3.6/site-packages/elephant/statistics.py:817: UserWarning: Instantaneous firing rate approximation contains negative values, possibly caused due to machine precision errors.\n",
      "  warnings.warn(\"Instantaneous firing rate approximation contains \"\n"
     ]
    }
   ],
   "source": [
    "#mean firing rate calculation\n",
    "iFr = []\n",
    "for iTr in range(len(train)):\n",
    "    iFr.append(elephant.statistics.instantaneous_rate(train[iTr], .02*s, kernel='auto', \n",
    "                                                        cutoff=5.0, t_start=400*s, t_stop=500*s, trim=False))\n",
    "  #  train_trial = y[i]\n",
    "    \n",
    "    \n",
    "    #ifr_spiketrain [i] = elephant.statistics.instantaneous_rate(train[i], .02*s, kernel='auto', \n",
    "                                                        #cutoff=5.0, t_start=0*s, t_stop=1000*s, trim=False)\n",
    "\n",
    "   # plt.plot(iFr.magnitude)\n",
    "iFr = np.asarray(iFr)\n"
   ]
  },
  {
   "cell_type": "code",
   "execution_count": 122,
   "metadata": {},
   "outputs": [
    {
     "data": {
      "text/plain": [
       "[<matplotlib.lines.Line2D at 0x7f6e17601780>]"
      ]
     },
     "execution_count": 122,
     "metadata": {},
     "output_type": "execute_result"
    },
    {
     "data": {
      "image/png": "[encoded data removed]",
      "text/plain": [
       "<Figure size 432x288 with 1 Axes>"
      ]
     },
     "metadata": {},
     "output_type": "display_data"
    }
   ],
   "source": [
    "plt.plot(iFr[3])"
   ]
  },
  {
   "cell_type": "code",
   "execution_count": 126,
   "metadata": {},
   "outputs": [
    {
     "data": {
      "text/plain": [
       "(37, 5000, 1)"
      ]
     },
     "execution_count": 126,
     "metadata": {},
     "output_type": "execute_result"
    }
   ],
   "source": [
    "iFr.shape\n"
   ]
  },
  {
   "cell_type": "code",
   "execution_count": 127,
   "metadata": {},
   "outputs": [
    {
     "data": {
      "text/plain": [
       "array([[[  1.22504558],\n",
       "        [  1.23081387],\n",
       "        [  1.23658634],\n",
       "        ..., \n",
       "        [  1.67349962],\n",
       "        [  1.66638108],\n",
       "        [  1.65926129]],\n",
       "\n",
       "       [[  1.18305372],\n",
       "        [  1.19203944],\n",
       "        [  1.20104409],\n",
       "        ..., \n",
       "        [  0.43313439],\n",
       "        [  0.42954219],\n",
       "        [  0.42596083]],\n",
       "\n",
       "       [[  1.30032249],\n",
       "        [  1.30721538],\n",
       "        [  1.31410162],\n",
       "        ..., \n",
       "        [  1.40451381],\n",
       "        [  1.39630504],\n",
       "        [  1.38809917]],\n",
       "\n",
       "       ..., \n",
       "       [[  2.07487792],\n",
       "        [  2.07899392],\n",
       "        [  2.08310982],\n",
       "        ..., \n",
       "        [  1.69822603],\n",
       "        [  1.69474711],\n",
       "        [  1.69126869]],\n",
       "\n",
       "       [[  0.58966082],\n",
       "        [  0.59125098],\n",
       "        [  0.5928366 ],\n",
       "        ..., \n",
       "        [  1.6179211 ],\n",
       "        [  1.61229601],\n",
       "        [  1.60666896]],\n",
       "\n",
       "       [[ 16.11750046],\n",
       "        [ 16.17674034],\n",
       "        [ 16.23597917],\n",
       "        ..., \n",
       "        [ 16.87462784],\n",
       "        [ 16.81368994],\n",
       "        [ 16.75274731]]])"
      ]
     },
     "execution_count": 127,
     "metadata": {},
     "output_type": "execute_result"
    }
   ],
   "source": [
    "iFr\n"
   ]
  },
  {
   "cell_type": "code",
   "execution_count": 244,
   "metadata": {},
   "outputs": [
    {
     "data": {
      "image/png": "[encoded data removed]",
      "text/plain": [
       "<Figure size 432x288 with 1 Axes>"
      ]
     },
     "metadata": {},
     "output_type": "display_data"
    }
   ],
   "source": [
    "#correlation coeff between spike trains\n",
    "from elephant.conversion import BinnedSpikeTrain\n",
    "cc_matrix = elephant.spike_train_correlation.corrcoef(BinnedSpikeTrain(train, binsize=.005*s))\n",
    "\n",
    "import numpy as np\n",
    "import matplotlib.mlab as mlab\n",
    "import matplotlib.pyplot as plt\n",
    "\n",
    "plt.hist(cc_matrix[np.tri(cc_matrix.shape[0], k=-1)==True],bins=np.arange(-.01, .0500001, 0.002))\n",
    "#plt.semilogy()\n",
    "plt.xlabel('correlation_coeff', fontsize=16)\n",
    "plt.ylabel('count', fontsize=16)\n",
    "plt.gca().tick_params(axis='both', which='major', labelsize=14)\n",
    "\n",
    "plt.show()"
   ]
  },
  {
   "cell_type": "code",
   "execution_count": 222,
   "metadata": {},
   "outputs": [],
   "source": [
    "np.tri?"
   ]
  },
  {
   "cell_type": "code",
   "execution_count": 211,
   "metadata": {},
   "outputs": [
    {
     "data": {
      "text/plain": [
       "<matplotlib.colorbar.Colorbar at 0x7f6e1727f550>"
      ]
     },
     "execution_count": 211,
     "metadata": {},
     "output_type": "execute_result"
    },
    {
     "data": {
      "image/png": "[encoded data removed]",
      "text/plain": [
       "<Figure size 288x288 with 2 Axes>"
      ]
     },
     "metadata": {},
     "output_type": "display_data"
    }
   ],
   "source": [
    "plt.matshow(cc_matrix,vmin=-0.1,vmax=0.1)\n",
    "plt.colorbar()"
   ]
  },
  {
   "cell_type": "code",
   "execution_count": 196,
   "metadata": {},
   "outputs": [
    {
     "name": "stderr",
     "output_type": "stream",
     "text": [
      "/home/ocnc/anaconda3/envs/ocnc2018/lib/python3.6/site-packages/matplotlib/axes/_axes.py:6462: UserWarning: The 'normed' kwarg is deprecated, and has been replaced by the 'density' kwarg.\n",
      "  warnings.warn(\"The 'normed' kwarg is deprecated, and has been \"\n"
     ]
    },
    {
     "data": {
      "image/png": "[encoded data removed]",
      "text/plain": [
       "<Figure size 432x288 with 1 Axes>"
      ]
     },
     "metadata": {},
     "output_type": "display_data"
    }
   ],
   "source": [
    "# Make a multiple-histogram of data-sets with different length.\n",
    "#x_multi = [np.random.randn(n) for n in [10000, 5000, 2000]]\n",
    "n_bins = 20\n",
    "\n",
    "plt.hist(cc_matrix, n_bins, normed=1, histtype='bar')\n",
    "\n",
    "\n",
    "\n",
    "fig.tight_layout()\n",
    "plt.show()"
   ]
  },
  {
   "cell_type": "code",
   "execution_count": 170,
   "metadata": {},
   "outputs": [
    {
     "data": {
      "text/plain": [
       "array([[  1.00000000e+00,   2.08295535e-03,   3.23209681e-03, ...,\n",
       "         -1.64642381e-03,   1.16885411e-03,  -4.25293094e-03],\n",
       "       [  2.08295535e-03,   1.00000000e+00,   2.53011724e-03, ...,\n",
       "          2.80981279e-03,  -6.18758127e-04,  -1.17152634e-03],\n",
       "       [  3.23209681e-03,   2.53011724e-03,   1.00000000e+00, ...,\n",
       "          2.46708488e-03,   3.24519156e-03,  -1.38601022e-03],\n",
       "       ..., \n",
       "       [ -1.64642381e-03,   2.80981279e-03,   2.46708488e-03, ...,\n",
       "          1.00000000e+00,  -6.33448625e-05,   4.52021952e-04],\n",
       "       [  1.16885411e-03,  -6.18758127e-04,   3.24519156e-03, ...,\n",
       "         -6.33448625e-05,   1.00000000e+00,   4.00418444e-03],\n",
       "       [ -4.25293094e-03,  -1.17152634e-03,  -1.38601022e-03, ...,\n",
       "          4.52021952e-04,   4.00418444e-03,   1.00000000e+00]])"
      ]
     },
     "execution_count": 170,
     "metadata": {},
     "output_type": "execute_result"
    }
   ],
   "source": [
    "cc_matrix\n"
   ]
  },
  {
   "cell_type": "code",
   "execution_count": null,
   "metadata": {},
   "outputs": [],
   "source": []
  },
  {
   "cell_type": "code",
   "execution_count": 133,
   "metadata": {},
   "outputs": [
    {
     "data": {
      "text/plain": [
       "13438"
      ]
     },
     "execution_count": 133,
     "metadata": {},
     "output_type": "execute_result"
    }
   ],
   "source": [
    "min(len(train[1]), len(train[2]))"
   ]
  },
  {
   "cell_type": "code",
   "execution_count": null,
   "metadata": {},
   "outputs": [],
   "source": []
  }
 ],
 "metadata": {
  "kernelspec": {
   "display_name": "Python 3",
   "language": "python",
   "name": "python3"
  },
  "language_info": {
   "codemirror_mode": {
    "name": "ipython",
    "version": 3
   },
   "file_extension": ".py",
   "mimetype": "text/x-python",
   "name": "python",
   "nbconvert_exporter": "python",
   "pygments_lexer": "ipython3",
   "version": "3.6.5"
  }
 },
 "nbformat": 4,
 "nbformat_minor": 2
}
