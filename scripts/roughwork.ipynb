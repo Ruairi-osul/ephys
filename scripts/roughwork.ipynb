{
 "cells": [
  {
   "cell_type": "code",
   "execution_count": 92,
   "metadata": {},
   "outputs": [],
   "source": [
    "import os\n",
    "from operator import itemgetter\n",
    "\n",
    "def _walklevel(some_dir, level=1):\n",
    "    some_dir = some_dir.rstrip(os.path.sep)\n",
    "    assert os.path.isdir(some_dir)\n",
    "    num_sep = some_dir.count(os.path.sep)\n",
    "    for root, dirs, files in os.walk(some_dir):\n",
    "        yield root, dirs, files\n",
    "        num_sep_this = root.count(os.path.sep)\n",
    "        if num_sep + level <= num_sep_this:\n",
    "            del dirs[:]"
   ]
  },
  {
   "cell_type": "code",
   "execution_count": 170,
   "metadata": {},
   "outputs": [],
   "source": [
    "from collections import namedtuple\n",
    "\n",
    "\n",
    "def orginise_into_recordings(todo):\n",
    "    RecordingPair = namedtuple('RecordingPair', 'pre, cno')\n",
    "    recordings = set(['_'.join(x.split('_')[:-1]) for x in todo])\n",
    "    recording_collection = {}\n",
    "    for recording in recordings:\n",
    "        matches = list(filter(lambda x: recording in x, todo))\n",
    "        assert len(matches) == 1 or len(matches) == 2\n",
    "        print(matches)\n",
    "        pre = list(filter(lambda x: 'pre' in x.lower(), matches))[0]\n",
    "        cno = list(filter(lambda x: 'cno' in x.lower(), matches))[0]\n",
    "        assert pre\n",
    "        recording_collection[recording] = RecordingPair(pre=pre, cno=cno)\n",
    "    return recording_collection\n",
    "            "
   ]
  },
  {
   "cell_type": "code",
   "execution_count": 185,
   "metadata": {},
   "outputs": [],
   "source": [
    "def get_files_todo(dat_file_dir, continuous_dir, verbose):\n",
    "\n",
    "    def _rename_to_standard(paths):\n",
    "        ''' Make\n",
    "        .../continuous/GATD_01_2018-10-12_17-38-33_PRE ----> GATD_01_2018-10-12_PRE\n",
    "\n",
    "        '''\n",
    "        base_names = list(map(os.path.basename, paths))\n",
    "        nice_names = list(map(lambda x: '_'.join(\n",
    "            itemgetter(0, 1, 2, 4)(x.split('_'))), base_names))\n",
    "        return nice_names\n",
    "\n",
    "    try:\n",
    "        done_files = get_subfolders(parent=dat_file_dir,\n",
    "                                    containing_filetype='.dat',\n",
    "                                    verbose=verbose)\n",
    "    except AssertionError:  # triggers when cat dat file dir not found\n",
    "        if verbose:\n",
    "            print('''Could not find dat file directory\n",
    "                Creating new directory {}'''.format(dat_file_dir))\n",
    "        os.mkdir(dat_file_dir)\n",
    "        done_files = []\n",
    "\n",
    "    continuous_dirs = get_subfolders(parent=continuous_dir,\n",
    "                                     containing_filetype='.continuous',\n",
    "                                     verbose=verbose)\n",
    "\n",
    "    dat_base = list(map(os.path.basename, done_files))\n",
    "    c_formatted = _rename_to_standard(continuous_dirs)\n",
    "\n",
    "    if not dat_base:\n",
    "        todo = continuous_dirs\n",
    "    else:\n",
    "        for path in dat_base:\n",
    "            todo = list(filter(lambda x: path not in x,\n",
    "                               continuous_dirs))\n",
    "    return todo"
   ]
  },
  {
   "cell_type": "code",
   "execution_count": 186,
   "metadata": {},
   "outputs": [],
   "source": [
    "def get_subfolders(parent, containing_filetype=None, verbose=True):\n",
    "\n",
    "    def _walklevel(some_dir, level=1):\n",
    "        some_dir = some_dir.rstrip(os.path.sep)\n",
    "        assert os.path.isdir(some_dir)\n",
    "        num_sep = some_dir.count(os.path.sep)\n",
    "        for root, dirs, files in os.walk(some_dir):\n",
    "            yield root, dirs, files\n",
    "            num_sep_this = root.count(os.path.sep)\n",
    "            if num_sep + level <= num_sep_this:\n",
    "                del dirs[:]\n",
    "\n",
    "    def _has_ext(path, ext):\n",
    "        if '.' not in ext:\n",
    "            ext = ''.join(['.', ext])\n",
    "        return bool(glob(os.path.join(path, ''.join(['*', ext]))))\n",
    "\n",
    "    try:\n",
    "        paths = [x[0]\n",
    "                 for x in _walklevel(parent, level=1) if os.path.isdir(x[0])]\n",
    "        if parent in paths:\n",
    "            del paths[paths.index(parent)]\n",
    "    except AssertionError:\n",
    "        if verbose:\n",
    "            print('Could not find {} dir'.format(parent))\n",
    "        raise\n",
    "\n",
    "    if containing_filetype:\n",
    "        f = partial(_has_ext, ext=containing_filetype)\n",
    "        paths = list(filter(f, paths))\n",
    "\n",
    "    return paths"
   ]
  },
  {
   "cell_type": "code",
   "execution_count": 195,
   "metadata": {},
   "outputs": [],
   "source": [
    "dfd = '/media/ruairi/SD_BCK/GAT_DREADD/dat_files'\n",
    "cd ='/media/ruairi/SD_BCK/GAT_DREADD/continuous'\n",
    "\n",
    "todo = get_files_todo(dat_file_dir=dfd, continuous_dir=cd, verbose=True)"
   ]
  },
  {
   "cell_type": "code",
   "execution_count": 217,
   "metadata": {},
   "outputs": [
    {
     "data": {
      "text/plain": [
       "['/media/ruairi/SD_BCK/GAT_DREADD/continuous/GATD_01_2018-10-12_17-38-33_PRE',\n",
       " '/media/ruairi/SD_BCK/GAT_DREADD/continuous/GATD_01_2018-10-12_18-40-03_CNO',\n",
       " '/media/ruairi/SD_BCK/GAT_DREADD/continuous/GATD_02_2018-10-13_12-40-56_PRE',\n",
       " '/media/ruairi/SD_BCK/GAT_DREADD/continuous/GATD_02_2018-10-13_13-41-28_CNO',\n",
       " '/media/ruairi/SD_BCK/GAT_DREADD/continuous/GATD_03_2018-10-13_15-59-35_PRE',\n",
       " '/media/ruairi/SD_BCK/GAT_DREADD/continuous/GATD_03_2018-10-13_16-59-53_CNO',\n",
       " '/media/ruairi/SD_BCK/GAT_DREADD/continuous/GATD_04_2018-10-14_12-36-18_PRE',\n",
       " '/media/ruairi/SD_BCK/GAT_DREADD/continuous/GATD_04_2018-10-14_13-38-21_CNO',\n",
       " '/media/ruairi/SD_BCK/GAT_DREADD/continuous/GATD_05_2018-10-14_15-54-41_PRE',\n",
       " '/media/ruairi/SD_BCK/GAT_DREADD/continuous/GATD_05_2018-10-14_16-55-49_CNO']"
      ]
     },
     "execution_count": 217,
     "metadata": {},
     "output_type": "execute_result"
    }
   ],
   "source": [
    "todo"
   ]
  },
  {
   "cell_type": "code",
   "execution_count": null,
   "metadata": {},
   "outputs": [],
   "source": [
    "def orginise_into_recordings(todo):\n",
    "    def _rename_to_standard(paths):\n",
    "        ''' Make\n",
    "        .../continuous/GATD_01_2018-10-12_17-38-33_PRE ----> GATD_01_2018-10-12_PRE\n",
    "\n",
    "        '''\n",
    "        base_names = list(map(os.path.basename, paths))\n",
    "        nice_names = list(map(lambda x: '_'.join(\n",
    "            itemgetter(0, 1, 2, 4)(x.split('_'))), base_names))\n",
    "        return nice_names\n",
    "\n",
    "    RecordingPair = namedtuple('RecordingPair', 'pre, cno')\n",
    "    recordings = set(['_'.join(x.split('_')[:-1]) for x in todo])\n",
    "    recording_collection = {}\n",
    "    for recording in recordings:\n",
    "        matches = list(filter(lambda x: recording in x, todo))\n",
    "        assert len(matches) == 1 or len(matches) == 2\n",
    "        print(matches)\n",
    "        pre = list(filter(lambda x: 'pre' in x.lower(), matches))[0]\n",
    "        cno = list(filter(lambda x: 'cno' in x.lower(), matches))[0]\n",
    "        assert pre\n",
    "        recording_collection[recording] = RecordingPair(pre=pre, cno=cno)\n",
    "    return recording_collection"
   ]
  },
  {
   "cell_type": "code",
   "execution_count": 208,
   "metadata": {},
   "outputs": [],
   "source": [
    "class Recording:\n",
    "    \n",
    "    def __init__(self, name, pre, cond):\n",
    "        self.name = name\n",
    "        self.pre = pre\n",
    "        self.cond = cond\n",
    "    \n",
    "    def has_cond(self):\n",
    "        return bool(self.cond)"
   ]
  },
  {
   "cell_type": "code",
   "execution_count": 229,
   "metadata": {},
   "outputs": [],
   "source": [
    "def organise_into_objects(todo):\n",
    "    out = []\n",
    "    bases = list(map(os.path.basename, todo))\n",
    "    recordings = set(['_'.join(x.split('_')[:-2]) for x in bases])\n",
    "    for recording in recordings:\n",
    "\n",
    "        try:\n",
    "            pre = list(filter(lambda x: recording in x and 'pre' in x.lower(), todo))[0]\n",
    "            pre = os.path.basename(pre)\n",
    "        except IndexError:\n",
    "            print('No pre file found for recording: {}'.format(recording))\n",
    "            raise\n",
    "        try:\n",
    "            cond = list(filter(lambda x: recording in x and 'cno' in x.lower(), todo))[0]\n",
    "            cond = os.path.basename(pre)\n",
    "        except IndexError:\n",
    "            print('No condition file found for recording {}. Continuing anyway'.format(recording))\n",
    "            cond = None\n",
    "        \n",
    "        pre = os.path.basename(pre)\n",
    "        out.append(Recording(name=recording, pre=pre, cond=cond))\n",
    "    return out"
   ]
  },
  {
   "cell_type": "code",
   "execution_count": 235,
   "metadata": {},
   "outputs": [
    {
     "data": {
      "text/plain": [
       "'GATD_05_2018-10-14_15-54-41_PRE'"
      ]
     },
     "execution_count": 235,
     "metadata": {},
     "output_type": "execute_result"
    }
   ],
   "source": [
    "os.path.basename(organise_into_objects(todo)[1].pre)\n"
   ]
  },
  {
   "cell_type": "code",
   "execution_count": 231,
   "metadata": {},
   "outputs": [],
   "source": [
    "rec1.cond"
   ]
  },
  {
   "cell_type": "code",
   "execution_count": 236,
   "metadata": {},
   "outputs": [
    {
     "data": {
      "text/plain": [
       "'this None'"
      ]
     },
     "execution_count": 236,
     "metadata": {},
     "output_type": "execute_result"
    }
   ],
   "source": [
    "x = None\n",
    "\n",
    "'this {}'.format(x)"
   ]
  },
  {
   "cell_type": "code",
   "execution_count": null,
   "metadata": {},
   "outputs": [],
   "source": []
  }
 ],
 "metadata": {
  "kernelspec": {
   "display_name": "Python 3",
   "language": "python",
   "name": "python3"
  },
  "language_info": {
   "codemirror_mode": {
    "name": "ipython",
    "version": 3
   },
   "file_extension": ".py",
   "mimetype": "text/x-python",
   "name": "python",
   "nbconvert_exporter": "python",
   "pygments_lexer": "ipython3",
   "version": "3.6.6"
  }
 },
 "nbformat": 4,
 "nbformat_minor": 2
}
