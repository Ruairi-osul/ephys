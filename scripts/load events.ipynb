{
 "cells": [
  {
   "cell_type": "code",
   "execution_count": 176,
   "metadata": {},
   "outputs": [],
   "source": [
    "import sys\n",
    "sys.path.append('/home/ruairi/repos/ephys/package')"
   ]
  },
  {
   "cell_type": "code",
   "execution_count": 177,
   "metadata": {},
   "outputs": [],
   "source": [
    "from preprocess import loadContinuous\n",
    "import os\n",
    "import pandas as pd\n",
    "import matplotlib.pyplot as plt\n",
    "import numpy as np"
   ]
  },
  {
   "cell_type": "code",
   "execution_count": 178,
   "metadata": {},
   "outputs": [],
   "source": [
    "parent = '/media/ruairi/big_bck/ESHOCK/continuous'\n",
    "pre = 'ESHOCK_05_LOC1_2019-03-10_13-22-34_PRE'\n",
    "shock = 'ESHOCK_05_LOC1_2019-03-10_14-22-56_SHOCK'\n",
    "\n",
    "pre = os.path.join(parent, pre, '120_ADC8.continuous')\n",
    "shock = os.path.join(parent, shock, '120_ADC8.continuous')"
   ]
  },
  {
   "cell_type": "code",
   "execution_count": 179,
   "metadata": {},
   "outputs": [
    {
     "name": "stdout",
     "output_type": "stream",
     "text": [
      "Loading continuous data...\n",
      "Loading continuous data...\n"
     ]
    }
   ],
   "source": [
    "pre_data = loadContinuous(pre)\n",
    "shock_data = loadContinuous(shock)"
   ]
  },
  {
   "cell_type": "code",
   "execution_count": 180,
   "metadata": {},
   "outputs": [],
   "source": [
    "shock_arr = shock_data['data']\n",
    "pre_arr = pre_data['data']"
   ]
  },
  {
   "cell_type": "code",
   "execution_count": 181,
   "metadata": {},
   "outputs": [],
   "source": [
    "cat_arr = np.concatenate([pre_arr, shock_arr])"
   ]
  },
  {
   "cell_type": "code",
   "execution_count": 183,
   "metadata": {},
   "outputs": [],
   "source": [
    "increasers = np.diff(cat_arr)"
   ]
  }
 ],
 "metadata": {
  "kernelspec": {
   "display_name": "Python 3",
   "language": "python",
   "name": "python3"
  },
  "language_info": {
   "codemirror_mode": {
    "name": "ipython",
    "version": 3
   },
   "file_extension": ".py",
   "mimetype": "text/x-python",
   "name": "python",
   "nbconvert_exporter": "python",
   "pygments_lexer": "ipython3",
   "version": "3.6.6"
  }
 },
 "nbformat": 4,
 "nbformat_minor": 2
}
