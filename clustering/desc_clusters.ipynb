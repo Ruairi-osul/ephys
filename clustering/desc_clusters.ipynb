{
 "cells": [
  {
   "cell_type": "code",
   "execution_count": 1,
   "metadata": {},
   "outputs": [],
   "source": [
    "import dc_stat_think as dc\n",
    "import pandas as pd\n",
    "import numpy as np\n",
    "\n",
    "\n",
    "p = r'E:\\db\\CLUSTERS_DONE.csv'\n",
    "df = pd.read_csv(p)"
   ]
  },
  {
   "cell_type": "code",
   "execution_count": 2,
   "metadata": {},
   "outputs": [
    {
     "data": {
      "text/html": [
       "<div>\n",
       "<style scoped>\n",
       "    .dataframe tbody tr th:only-of-type {\n",
       "        vertical-align: middle;\n",
       "    }\n",
       "\n",
       "    .dataframe tbody tr th {\n",
       "        vertical-align: top;\n",
       "    }\n",
       "\n",
       "    .dataframe thead th {\n",
       "        text-align: right;\n",
       "    }\n",
       "</style>\n",
       "<table border=\"1\" class=\"dataframe\">\n",
       "  <thead>\n",
       "    <tr style=\"text-align: right;\">\n",
       "      <th></th>\n",
       "      <th>mfr</th>\n",
       "      <th>cv isi</th>\n",
       "      <th>recording_id</th>\n",
       "      <th>neuron_id</th>\n",
       "      <th>var</th>\n",
       "      <th>isi_var</th>\n",
       "      <th>minute_gap</th>\n",
       "      <th>hc_cluster</th>\n",
       "      <th>colors</th>\n",
       "    </tr>\n",
       "  </thead>\n",
       "  <tbody>\n",
       "    <tr>\n",
       "      <th>0</th>\n",
       "      <td>5.928903</td>\n",
       "      <td>0.239206</td>\n",
       "      <td>1</td>\n",
       "      <td>1</td>\n",
       "      <td>0.172195</td>\n",
       "      <td>1.999181e+06</td>\n",
       "      <td>0</td>\n",
       "      <td>Clocklike Slow Regular</td>\n",
       "      <td>#c44e52</td>\n",
       "    </tr>\n",
       "    <tr>\n",
       "      <th>1</th>\n",
       "      <td>1.206947</td>\n",
       "      <td>0.787332</td>\n",
       "      <td>1</td>\n",
       "      <td>2</td>\n",
       "      <td>1.174466</td>\n",
       "      <td>3.233078e+11</td>\n",
       "      <td>1</td>\n",
       "      <td>Slow Irregular</td>\n",
       "      <td>#4c72b0</td>\n",
       "    </tr>\n",
       "    <tr>\n",
       "      <th>2</th>\n",
       "      <td>6.598349</td>\n",
       "      <td>0.299881</td>\n",
       "      <td>1</td>\n",
       "      <td>3</td>\n",
       "      <td>0.244312</td>\n",
       "      <td>2.065885e+06</td>\n",
       "      <td>0</td>\n",
       "      <td>Clocklike Slow Regular</td>\n",
       "      <td>#c44e52</td>\n",
       "    </tr>\n",
       "    <tr>\n",
       "      <th>3</th>\n",
       "      <td>10.164469</td>\n",
       "      <td>0.332762</td>\n",
       "      <td>1</td>\n",
       "      <td>4</td>\n",
       "      <td>9.095547</td>\n",
       "      <td>5.526932e+06</td>\n",
       "      <td>0</td>\n",
       "      <td>Fast Varied</td>\n",
       "      <td>#55a868</td>\n",
       "    </tr>\n",
       "    <tr>\n",
       "      <th>4</th>\n",
       "      <td>8.665576</td>\n",
       "      <td>0.745341</td>\n",
       "      <td>1</td>\n",
       "      <td>5</td>\n",
       "      <td>8.107467</td>\n",
       "      <td>1.013471e+07</td>\n",
       "      <td>0</td>\n",
       "      <td>Fast Varied</td>\n",
       "      <td>#55a868</td>\n",
       "    </tr>\n",
       "  </tbody>\n",
       "</table>\n",
       "</div>"
      ],
      "text/plain": [
       "         mfr    cv isi  recording_id  neuron_id       var       isi_var  \\\n",
       "0   5.928903  0.239206             1          1  0.172195  1.999181e+06   \n",
       "1   1.206947  0.787332             1          2  1.174466  3.233078e+11   \n",
       "2   6.598349  0.299881             1          3  0.244312  2.065885e+06   \n",
       "3  10.164469  0.332762             1          4  9.095547  5.526932e+06   \n",
       "4   8.665576  0.745341             1          5  8.107467  1.013471e+07   \n",
       "\n",
       "   minute_gap              hc_cluster   colors  \n",
       "0           0  Clocklike Slow Regular  #c44e52  \n",
       "1           1          Slow Irregular  #4c72b0  \n",
       "2           0  Clocklike Slow Regular  #c44e52  \n",
       "3           0             Fast Varied  #55a868  \n",
       "4           0             Fast Varied  #55a868  "
      ]
     },
     "execution_count": 2,
     "metadata": {},
     "output_type": "execute_result"
    }
   ],
   "source": [
    "df.head()"
   ]
  },
  {
   "cell_type": "code",
   "execution_count": 3,
   "metadata": {},
   "outputs": [],
   "source": [
    "clusters = df['hc_cluster'].unique()"
   ]
  },
  {
   "cell_type": "code",
   "execution_count": 4,
   "metadata": {},
   "outputs": [],
   "source": [
    "c = clusters[0]\n",
    "col = 'mfr'\n",
    "data = df.loc[df['hc_cluster']==c][col].values"
   ]
  },
  {
   "cell_type": "code",
   "execution_count": 5,
   "metadata": {},
   "outputs": [
    {
     "data": {
      "text/plain": [
       "pandas.core.series.Series"
      ]
     },
     "execution_count": 5,
     "metadata": {},
     "output_type": "execute_result"
    }
   ],
   "source": [
    "type(df.loc[df['hc_cluster']==c][col])"
   ]
  },
  {
   "cell_type": "code",
   "execution_count": 6,
   "metadata": {},
   "outputs": [],
   "source": [
    "reps = dc.draw_bs_reps(data=data, func=np.mean, size=10000)"
   ]
  },
  {
   "cell_type": "code",
   "execution_count": 7,
   "metadata": {},
   "outputs": [
    {
     "data": {
      "text/plain": [
       "array([3.27670502, 3.3710778 ])"
      ]
     },
     "execution_count": 7,
     "metadata": {},
     "output_type": "execute_result"
    }
   ],
   "source": [
    "np.mean(reps)\n",
    "np.percentile(reps, [0.05, 0.95])"
   ]
  },
  {
   "cell_type": "code",
   "execution_count": 8,
   "metadata": {},
   "outputs": [],
   "source": [
    "def bs_percentile(column):\n",
    "    if isinstance(column, pd.core.series.Series):\n",
    "        column =  column.values\n",
    "    reps = dc.draw_bs_reps(data=column, func=np.mean, size=100000)\n",
    "    return np.percentile(reps, [0.05, 0.95])"
   ]
  },
  {
   "cell_type": "code",
   "execution_count": 9,
   "metadata": {},
   "outputs": [],
   "source": [
    "mfr = df.groupby('hc_cluster')['mfr'].apply(bs_percentile).apply(pd.Series).apply(np.round, decimals=3)"
   ]
  },
  {
   "cell_type": "code",
   "execution_count": 10,
   "metadata": {},
   "outputs": [],
   "source": [
    "mfr.columns = ['Lower Bound', 'Upper Bound']"
   ]
  },
  {
   "cell_type": "code",
   "execution_count": 11,
   "metadata": {},
   "outputs": [],
   "source": [
    "mfr.index.name = 'Cluster'"
   ]
  },
  {
   "cell_type": "code",
   "execution_count": 12,
   "metadata": {},
   "outputs": [
    {
     "data": {
      "text/html": [
       "<div>\n",
       "<style scoped>\n",
       "    .dataframe tbody tr th:only-of-type {\n",
       "        vertical-align: middle;\n",
       "    }\n",
       "\n",
       "    .dataframe tbody tr th {\n",
       "        vertical-align: top;\n",
       "    }\n",
       "\n",
       "    .dataframe thead th {\n",
       "        text-align: right;\n",
       "    }\n",
       "</style>\n",
       "<table border=\"1\" class=\"dataframe\">\n",
       "  <thead>\n",
       "    <tr style=\"text-align: right;\">\n",
       "      <th></th>\n",
       "      <th>Lower Bound</th>\n",
       "      <th>Upper Bound</th>\n",
       "    </tr>\n",
       "    <tr>\n",
       "      <th>Cluster</th>\n",
       "      <th></th>\n",
       "      <th></th>\n",
       "    </tr>\n",
       "  </thead>\n",
       "  <tbody>\n",
       "    <tr>\n",
       "      <th>Clocklike Slow Regular</th>\n",
       "      <td>3.276</td>\n",
       "      <td>3.372</td>\n",
       "    </tr>\n",
       "    <tr>\n",
       "      <th>Fast Varied</th>\n",
       "      <td>12.014</td>\n",
       "      <td>12.545</td>\n",
       "    </tr>\n",
       "    <tr>\n",
       "      <th>Slow Irregular</th>\n",
       "      <td>1.786</td>\n",
       "      <td>1.889</td>\n",
       "    </tr>\n",
       "    <tr>\n",
       "      <th>Very Fast Regular</th>\n",
       "      <td>29.986</td>\n",
       "      <td>31.487</td>\n",
       "    </tr>\n",
       "  </tbody>\n",
       "</table>\n",
       "</div>"
      ],
      "text/plain": [
       "                        Lower Bound  Upper Bound\n",
       "Cluster                                         \n",
       "Clocklike Slow Regular        3.276        3.372\n",
       "Fast Varied                  12.014       12.545\n",
       "Slow Irregular                1.786        1.889\n",
       "Very Fast Regular            29.986       31.487"
      ]
     },
     "execution_count": 12,
     "metadata": {},
     "output_type": "execute_result"
    }
   ],
   "source": [
    "mfr"
   ]
  },
  {
   "cell_type": "code",
   "execution_count": 13,
   "metadata": {},
   "outputs": [],
   "source": [
    "cv_isi = df.groupby('hc_cluster')['cv isi'].apply(bs_percentile).apply(pd.Series).apply(np.round, decimals=3)"
   ]
  },
  {
   "cell_type": "code",
   "execution_count": 14,
   "metadata": {},
   "outputs": [],
   "source": [
    "cv_isi.columns = ['Lower Bound', 'Upper Bound']"
   ]
  },
  {
   "cell_type": "code",
   "execution_count": 15,
   "metadata": {},
   "outputs": [],
   "source": [
    "cv_isi.index.name = 'Cluster'"
   ]
  },
  {
   "cell_type": "code",
   "execution_count": 16,
   "metadata": {},
   "outputs": [],
   "source": [
    "df_report = pd.concat([mfr, cv_isi], axis=1)"
   ]
  },
  {
   "cell_type": "code",
   "execution_count": 17,
   "metadata": {},
   "outputs": [],
   "source": [
    "columns=[('Mean Firing Rate [Hz]','Lower bound'),('Mean Firing Rate [Hz]','Upper bound'), \n",
    "         ('ISI Coefficient of Variation','Lower bound'), ('ISI Coefficient of Variation','Upper bound')]\n",
    "\n",
    "df_report.columns=pd.MultiIndex.from_tuples(columns)"
   ]
  },
  {
   "cell_type": "code",
   "execution_count": 18,
   "metadata": {},
   "outputs": [
    {
     "data": {
      "text/html": [
       "<div>\n",
       "<style scoped>\n",
       "    .dataframe tbody tr th:only-of-type {\n",
       "        vertical-align: middle;\n",
       "    }\n",
       "\n",
       "    .dataframe tbody tr th {\n",
       "        vertical-align: top;\n",
       "    }\n",
       "\n",
       "    .dataframe thead tr th {\n",
       "        text-align: left;\n",
       "    }\n",
       "\n",
       "    .dataframe thead tr:last-of-type th {\n",
       "        text-align: right;\n",
       "    }\n",
       "</style>\n",
       "<table border=\"1\" class=\"dataframe\">\n",
       "  <thead>\n",
       "    <tr>\n",
       "      <th></th>\n",
       "      <th colspan=\"2\" halign=\"left\">Mean Firing Rate [Hz]</th>\n",
       "      <th colspan=\"2\" halign=\"left\">ISI Coefficient of Variation</th>\n",
       "    </tr>\n",
       "    <tr>\n",
       "      <th></th>\n",
       "      <th>Lower bound</th>\n",
       "      <th>Upper bound</th>\n",
       "      <th>Lower bound</th>\n",
       "      <th>Upper bound</th>\n",
       "    </tr>\n",
       "    <tr>\n",
       "      <th>Cluster</th>\n",
       "      <th></th>\n",
       "      <th></th>\n",
       "      <th></th>\n",
       "      <th></th>\n",
       "    </tr>\n",
       "  </thead>\n",
       "  <tbody>\n",
       "    <tr>\n",
       "      <th>Clocklike Slow Regular</th>\n",
       "      <td>3.276</td>\n",
       "      <td>3.372</td>\n",
       "      <td>0.405</td>\n",
       "      <td>0.412</td>\n",
       "    </tr>\n",
       "    <tr>\n",
       "      <th>Fast Varied</th>\n",
       "      <td>12.014</td>\n",
       "      <td>12.545</td>\n",
       "      <td>0.388</td>\n",
       "      <td>0.412</td>\n",
       "    </tr>\n",
       "    <tr>\n",
       "      <th>Slow Irregular</th>\n",
       "      <td>1.786</td>\n",
       "      <td>1.889</td>\n",
       "      <td>0.803</td>\n",
       "      <td>0.811</td>\n",
       "    </tr>\n",
       "    <tr>\n",
       "      <th>Very Fast Regular</th>\n",
       "      <td>29.986</td>\n",
       "      <td>31.487</td>\n",
       "      <td>0.255</td>\n",
       "      <td>0.274</td>\n",
       "    </tr>\n",
       "  </tbody>\n",
       "</table>\n",
       "</div>"
      ],
      "text/plain": [
       "                       Mean Firing Rate [Hz]              \\\n",
       "                                 Lower bound Upper bound   \n",
       "Cluster                                                    \n",
       "Clocklike Slow Regular                 3.276       3.372   \n",
       "Fast Varied                           12.014      12.545   \n",
       "Slow Irregular                         1.786       1.889   \n",
       "Very Fast Regular                     29.986      31.487   \n",
       "\n",
       "                       ISI Coefficient of Variation              \n",
       "                                        Lower bound Upper bound  \n",
       "Cluster                                                          \n",
       "Clocklike Slow Regular                        0.405       0.412  \n",
       "Fast Varied                                   0.388       0.412  \n",
       "Slow Irregular                                0.803       0.811  \n",
       "Very Fast Regular                             0.255       0.274  "
      ]
     },
     "execution_count": 18,
     "metadata": {},
     "output_type": "execute_result"
    }
   ],
   "source": [
    "df_report"
   ]
  },
  {
   "cell_type": "code",
   "execution_count": 19,
   "metadata": {},
   "outputs": [],
   "source": [
    "import os\n",
    "\n",
    "\n",
    "out_dir = r'E:\\db'\n",
    "df_report.to_excel(os.path.join(out_dir, 'cluster_stats.xlsx'))"
   ]
  },
  {
   "cell_type": "code",
   "execution_count": null,
   "metadata": {},
   "outputs": [],
   "source": []
  },
  {
   "cell_type": "code",
   "execution_count": null,
   "metadata": {},
   "outputs": [],
   "source": []
  }
 ],
 "metadata": {
  "kernelspec": {
   "display_name": "Python 3",
   "language": "python",
   "name": "python3"
  },
  "language_info": {
   "codemirror_mode": {
    "name": "ipython",
    "version": 3
   },
   "file_extension": ".py",
   "mimetype": "text/x-python",
   "name": "python",
   "nbconvert_exporter": "python",
   "pygments_lexer": "ipython3",
   "version": "3.6.6"
  }
 },
 "nbformat": 4,
 "nbformat_minor": 2
}
