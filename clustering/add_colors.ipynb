{
 "cells": [
  {
   "cell_type": "code",
   "execution_count": 1,
   "metadata": {},
   "outputs": [],
   "source": [
    "import pandas as pd\n",
    "import numpy as np\n",
    "import matplotlib.pyplot as plt\n",
    "import seaborn as sns\n",
    "import warnings\n",
    "import matplotlib.patches as mpatches\n",
    "sns.set()\n",
    "warnings.filterwarnings('ignore')"
   ]
  },
  {
   "cell_type": "code",
   "execution_count": 2,
   "metadata": {},
   "outputs": [],
   "source": [
    "df_clusters = pd.read_csv('/home/ruairi/data/tmp/clusters_cit_only.csv')\n",
    "df_classified = pd.read_csv('/home/ruairi/data/tmp/chronic_classified.csv')"
   ]
  },
  {
   "cell_type": "code",
   "execution_count": 3,
   "metadata": {},
   "outputs": [
    {
     "data": {
      "text/plain": [
       "['#4c72b0', '#dd8452', '#55a868', '#c44e52']"
      ]
     },
     "execution_count": 3,
     "metadata": {},
     "output_type": "execute_result"
    }
   ],
   "source": [
    "pal = list(sns.color_palette(n_colors=4).as_hex())\n",
    "pal"
   ]
  },
  {
   "cell_type": "code",
   "execution_count": 4,
   "metadata": {},
   "outputs": [],
   "source": [
    "pal = ['#4c72b0','#55a868', '#c44e52']"
   ]
  },
  {
   "cell_type": "code",
   "execution_count": 5,
   "metadata": {},
   "outputs": [
    {
     "name": "stdout",
     "output_type": "stream",
     "text": [
      "p 5-HT\n",
      "p Non-5-HT\n",
      "p GABA\n"
     ]
    },
    {
     "data": {
      "image/png": "[encoded data removed]",
      "text/plain": [
       "<Figure size 432x288 with 1 Axes>"
      ]
     },
     "metadata": {},
     "output_type": "display_data"
    }
   ],
   "source": [
    "df = df_clusters\n",
    "col = 'gmm'\n",
    "\n",
    "pal = ['#c44e52', '#4c72b0', '#55a868']\n",
    "labs = df['gmm'].unique()\n",
    "\n",
    "for i in range(len(labs)):\n",
    "    df_sub = df[df[col]==labs[i]]\n",
    "    print(labs[i])\n",
    "    plt.scatter(df_sub['cv isi'], df_sub['mfr'], label=labs[i], c=pal[i])\n",
    "plt.legend()\n",
    "plt.show()"
   ]
  },
  {
   "cell_type": "code",
   "execution_count": 6,
   "metadata": {},
   "outputs": [],
   "source": [
    "d = {'p 5-HT': '#c44e52',\n",
    "    'p Non-5-HT': '#4c72b0',\n",
    "    'p GABA': '#55a868'}\n",
    "\n",
    "\n",
    "df_clusters['colors'] = df_clusters['gmm'].astype(str).map(d)\n",
    "df_classified['colors'] = df_classified['svm'].astype(str).map(d)"
   ]
  },
  {
   "cell_type": "code",
   "execution_count": 7,
   "metadata": {},
   "outputs": [],
   "source": [
    "df_clusters.to_csv('/home/ruairi/data/tmp/clusters_cit_only.csv', index=False)"
   ]
  },
  {
   "cell_type": "code",
   "execution_count": 8,
   "metadata": {},
   "outputs": [],
   "source": [
    "df_classified.to_csv('/home/ruairi/data/tmp/chronic_classified.csv', index=False)"
   ]
  },
  {
   "cell_type": "code",
   "execution_count": null,
   "metadata": {},
   "outputs": [],
   "source": []
  }
 ],
 "metadata": {
  "kernelspec": {
   "display_name": "Python 3",
   "language": "python",
   "name": "python3"
  },
  "language_info": {
   "codemirror_mode": {
    "name": "ipython",
    "version": 3
   },
   "file_extension": ".py",
   "mimetype": "text/x-python",
   "name": "python",
   "nbconvert_exporter": "python",
   "pygments_lexer": "ipython3",
   "version": "3.6.6"
  }
 },
 "nbformat": 4,
 "nbformat_minor": 2
}
