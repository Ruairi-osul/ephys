{
 "cells": [
  {
   "cell_type": "code",
   "execution_count": 1,
   "metadata": {},
   "outputs": [],
   "source": [
    "import pandas as pd\n",
    "import sqlalchemy as sql\n",
    "import seaborn as sns\n",
    "import matplotlib.pyplot as plt\n",
    "sns.set_style('whitegrid')"
   ]
  },
  {
   "cell_type": "code",
   "execution_count": 2,
   "metadata": {},
   "outputs": [],
   "source": [
    "df = pd.read_csv('/home/ruairi/data/tmp/classified_clustered_merge.csv')"
   ]
  },
  {
   "cell_type": "code",
   "execution_count": 44,
   "metadata": {},
   "outputs": [
    {
     "data": {
      "image/png": "[encoded data removed]",
      "text/plain": [
       "<Figure size 720x720 with 1 Axes>"
      ]
     },
     "metadata": {},
     "output_type": "display_data"
    }
   ],
   "source": [
    "f, a = plt.subplots(figsize=(10, 10))\n",
    "df.groupby('recording_id')['neuron_id'].count().plot(kind='barh', \n",
    "                                                     ax=a, colormap='rainbow')\n",
    "a.set_yticks([])\n",
    "a.set_ylabel('Individual Recorings', fontdict={'fontsize':30})\n",
    "\n",
    "a.set_xticks([10, 20, 30])\n",
    "a.set_xticklabels(['10', '20', '30'], fontdict={'fontsize':30})\n",
    "a.set_xlabel('Number of Isolated Single Units', fontdict={'fontsize':30})\n",
    "\n",
    "a.text( x=25, y=20, s='Mean: 15.3\\nStd: 7.2', size=25)\n",
    "#plt.savefig('/home/ruairi/data/figures/talk/num_units.png', dpi=300)"
   ]
  },
  {
   "cell_type": "code",
   "execution_count": 33,
   "metadata": {},
   "outputs": [
    {
     "data": {
      "text/plain": [
       "15.333333333333334"
      ]
     },
     "execution_count": 33,
     "metadata": {},
     "output_type": "execute_result"
    }
   ],
   "source": [
    "import numpy as np\n",
    "\n",
    "np.mean(df.groupby('recording_id')['neuron_id'].count().values)"
   ]
  },
  {
   "cell_type": "code",
   "execution_count": 34,
   "metadata": {},
   "outputs": [
    {
     "data": {
      "text/plain": [
       "7.1750596848724175"
      ]
     },
     "execution_count": 34,
     "metadata": {},
     "output_type": "execute_result"
    }
   ],
   "source": [
    "np.std(df.groupby('recording_id')['neuron_id'].count().values)"
   ]
  },
  {
   "cell_type": "code",
   "execution_count": 4,
   "metadata": {},
   "outputs": [
    {
     "name": "stdout",
     "output_type": "stream",
     "text": [
      "<class 'pandas.core.frame.DataFrame'>\n",
      "RangeIndex: 414 entries, 0 to 413\n",
      "Data columns (total 14 columns):\n",
      "Unnamed: 0      297 non-null float64\n",
      "colors          414 non-null object\n",
      "cv isi          414 non-null float64\n",
      "gmm             297 non-null object\n",
      "hc_cluster      297 non-null object\n",
      "isi_var         414 non-null float64\n",
      "km_cluster      297 non-null object\n",
      "label           414 non-null object\n",
      "mfr             414 non-null float64\n",
      "minute_gap      414 non-null int64\n",
      "neuron_id       414 non-null int64\n",
      "recording_id    414 non-null int64\n",
      "svm             117 non-null object\n",
      "var             414 non-null float64\n",
      "dtypes: float64(5), int64(3), object(6)\n",
      "memory usage: 45.4+ KB\n"
     ]
    }
   ],
   "source": [
    "df.info()"
   ]
  },
  {
   "cell_type": "code",
   "execution_count": 6,
   "metadata": {},
   "outputs": [
    {
     "data": {
      "text/plain": [
       "27"
      ]
     },
     "execution_count": 6,
     "metadata": {},
     "output_type": "execute_result"
    }
   ],
   "source": [
    "len(df['recording_id'].unique())"
   ]
  },
  {
   "cell_type": "code",
   "execution_count": 7,
   "metadata": {},
   "outputs": [
    {
     "data": {
      "text/plain": [
       "207.0"
      ]
     },
     "execution_count": 7,
     "metadata": {},
     "output_type": "execute_result"
    }
   ],
   "source": [
    "414 /2"
   ]
  },
  {
   "cell_type": "code",
   "execution_count": 8,
   "metadata": {},
   "outputs": [
    {
     "data": {
      "text/plain": [
       "414"
      ]
     },
     "execution_count": 8,
     "metadata": {},
     "output_type": "execute_result"
    }
   ],
   "source": [
    "297 + 117"
   ]
  },
  {
   "cell_type": "code",
   "execution_count": 12,
   "metadata": {},
   "outputs": [
    {
     "name": "stdout",
     "output_type": "stream",
     "text": [
      "<class 'pandas.core.frame.DataFrame'>\n",
      "Int64Index: 285 entries, 0 to 413\n",
      "Data columns (total 14 columns):\n",
      "Unnamed: 0      181 non-null float64\n",
      "colors          285 non-null object\n",
      "cv isi          285 non-null float64\n",
      "gmm             181 non-null object\n",
      "hc_cluster      181 non-null object\n",
      "isi_var         285 non-null float64\n",
      "km_cluster      181 non-null object\n",
      "label           285 non-null object\n",
      "mfr             285 non-null float64\n",
      "minute_gap      285 non-null int64\n",
      "neuron_id       285 non-null int64\n",
      "recording_id    285 non-null int64\n",
      "svm             104 non-null object\n",
      "var             285 non-null float64\n",
      "dtypes: float64(5), int64(3), object(6)\n",
      "memory usage: 33.4+ KB\n"
     ]
    }
   ],
   "source": [
    "df[~df['recording_id'].isin([3, 4, 7, 10, 13, 16, 17, 19])].info()"
   ]
  },
  {
   "cell_type": "code",
   "execution_count": 13,
   "metadata": {},
   "outputs": [
    {
     "data": {
      "text/plain": [
       "25.90909090909091"
      ]
     },
     "execution_count": 13,
     "metadata": {},
     "output_type": "execute_result"
    }
   ],
   "source": [
    "285 / 11\n"
   ]
  },
  {
   "cell_type": "code",
   "execution_count": 14,
   "metadata": {},
   "outputs": [],
   "source": [
    "df_sub = df[~df['recording_id'].isin([3, 4, 7, 10, 13, 16, 17, 19])]"
   ]
  },
  {
   "cell_type": "code",
   "execution_count": 18,
   "metadata": {},
   "outputs": [
    {
     "data": {
      "text/plain": [
       "array([ 1,  2,  5,  6,  8,  9, 11, 12, 14, 15, 18, 20, 21, 22, 23, 24, 25,\n",
       "       26, 27])"
      ]
     },
     "execution_count": 18,
     "metadata": {},
     "output_type": "execute_result"
    }
   ],
   "source": [
    "df_sub['recording_id'].unique()"
   ]
  },
  {
   "cell_type": "code",
   "execution_count": 19,
   "metadata": {},
   "outputs": [
    {
     "data": {
      "text/plain": [
       "15.0"
      ]
     },
     "execution_count": 19,
     "metadata": {},
     "output_type": "execute_result"
    }
   ],
   "source": [
    "285/19"
   ]
  },
  {
   "cell_type": "code",
   "execution_count": null,
   "metadata": {},
   "outputs": [],
   "source": []
  }
 ],
 "metadata": {
  "kernelspec": {
   "display_name": "Python 3",
   "language": "python",
   "name": "python3"
  },
  "language_info": {
   "codemirror_mode": {
    "name": "ipython",
    "version": 3
   },
   "file_extension": ".py",
   "mimetype": "text/x-python",
   "name": "python",
   "nbconvert_exporter": "python",
   "pygments_lexer": "ipython3",
   "version": "3.6.6"
  }
 },
 "nbformat": 4,
 "nbformat_minor": 2
}
