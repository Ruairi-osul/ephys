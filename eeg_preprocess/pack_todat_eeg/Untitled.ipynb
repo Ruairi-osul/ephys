{
 "cells": [
  {
   "cell_type": "code",
   "execution_count": 1,
   "metadata": {},
   "outputs": [],
   "source": [
    "from OpenEphys import loadContinuous"
   ]
  },
  {
   "cell_type": "code",
   "execution_count": 2,
   "metadata": {},
   "outputs": [],
   "source": [
    "import numpy as np\n",
    "import pandas as pd"
   ]
  },
  {
   "cell_type": "code",
   "execution_count": 3,
   "metadata": {},
   "outputs": [],
   "source": [
    "import matplotlib.pyplot as plt"
   ]
  },
  {
   "cell_type": "code",
   "execution_count": 4,
   "metadata": {},
   "outputs": [],
   "source": [
    "import seaborn as sns\n",
    "from glob import glob\n",
    "import os\n",
    "import re\n",
    "sns.set()"
   ]
  },
  {
   "cell_type": "code",
   "execution_count": 5,
   "metadata": {},
   "outputs": [],
   "source": [
    "from scipy.signal import decimate"
   ]
  },
  {
   "cell_type": "code",
   "execution_count": 6,
   "metadata": {},
   "outputs": [
    {
     "name": "stdout",
     "output_type": "stream",
     "text": [
      "Loading continuous data...\n",
      "Loading continuous data...\n",
      "Loading continuous data...\n",
      "Loading continuous data...\n",
      "Loading continuous data...\n",
      "Loading continuous data...\n",
      "Loading continuous data...\n",
      "Loading continuous data...\n"
     ]
    },
    {
     "name": "stderr",
     "output_type": "stream",
     "text": [
      "C:\\Users\\Rory\\Anaconda3\\lib\\site-packages\\scipy\\signal\\_arraytools.py:45: FutureWarning: Using a non-tuple sequence for multidimensional indexing is deprecated; use `arr[tuple(seq)]` instead of `arr[seq]`. In the future this will be interpreted as an array index, `arr[np.array(seq)]`, which will result either in an error or a different result.\n",
      "  b = a[a_slice]\n",
      "C:\\Users\\Rory\\Anaconda3\\lib\\site-packages\\scipy\\signal\\signaltools.py:3463: FutureWarning: Using a non-tuple sequence for multidimensional indexing is deprecated; use `arr[tuple(seq)]` instead of `arr[seq]`. In the future this will be interpreted as an array index, `arr[np.array(seq)]`, which will result either in an error or a different result.\n",
      "  return y[sl]\n"
     ]
    }
   ],
   "source": [
    "continuous_dir = r'C:\\Users\\Rory\\raw_data\\tests\\ADC_TEST_2018-09-21_14-08-06'\n",
    "\n",
    "adc_files = [file for file in glob(continuous_dir + '\\\\*') if '100_ADC' in file]\n",
    "\n",
    "\n",
    "for index, file in enumerate(adc_files):\n",
    "    con = loadContinuous(file)\n",
    "    if index == 0:\n",
    "        data_len = len(con['data'])\n",
    "        adc_data = np.empty((len(adc_files), data_len))\n",
    "    \n",
    "    adc_data[index, :] = con['data']\n",
    "\n",
    "adc_data = decimate(adc_data, q=10, axis=1)\n",
    "adc_data = decimate(adc_data, q=10, axis=1)\n",
    "adc_data = decimate(adc_data, q=10, axis=1)\n",
    "adc_data = decimate(adc_data, q=10, axis=1)"
   ]
  },
  {
   "cell_type": "code",
   "execution_count": 25,
   "metadata": {},
   "outputs": [],
   "source": [
    "df = pd.DataFrame(adc_data)"
   ]
  },
  {
   "cell_type": "code",
   "execution_count": 26,
   "metadata": {},
   "outputs": [],
   "source": [
    "df.index = [''.join(['channel_', str(num)]) for num in range(8)]\n",
    "df.columns = np.linspace(0, 60, len(df.columns))"
   ]
  },
  {
   "cell_type": "code",
   "execution_count": 27,
   "metadata": {},
   "outputs": [],
   "source": [
    "df.columns.name = 'time'\n",
    "df.index.name= 'channel'\n",
    "df = df.transpose()"
   ]
  },
  {
   "cell_type": "code",
   "execution_count": 29,
   "metadata": {},
   "outputs": [
    {
     "data": {
      "text/html": [
       "<div>\n",
       "<style scoped>\n",
       "    .dataframe tbody tr th:only-of-type {\n",
       "        vertical-align: middle;\n",
       "    }\n",
       "\n",
       "    .dataframe tbody tr th {\n",
       "        vertical-align: top;\n",
       "    }\n",
       "\n",
       "    .dataframe thead th {\n",
       "        text-align: right;\n",
       "    }\n",
       "</style>\n",
       "<table border=\"1\" class=\"dataframe\">\n",
       "  <thead>\n",
       "    <tr style=\"text-align: right;\">\n",
       "      <th>channel</th>\n",
       "      <th>channel_0</th>\n",
       "      <th>channel_1</th>\n",
       "      <th>channel_2</th>\n",
       "      <th>channel_3</th>\n",
       "      <th>channel_4</th>\n",
       "      <th>channel_5</th>\n",
       "      <th>channel_6</th>\n",
       "      <th>channel_7</th>\n",
       "    </tr>\n",
       "    <tr>\n",
       "      <th>time</th>\n",
       "      <th></th>\n",
       "      <th></th>\n",
       "      <th></th>\n",
       "      <th></th>\n",
       "      <th></th>\n",
       "      <th></th>\n",
       "      <th></th>\n",
       "      <th></th>\n",
       "    </tr>\n",
       "  </thead>\n",
       "  <tbody>\n",
       "    <tr>\n",
       "      <th>0.000000</th>\n",
       "      <td>0.270936</td>\n",
       "      <td>-1.092998</td>\n",
       "      <td>-0.786919</td>\n",
       "      <td>-1.033228</td>\n",
       "      <td>-0.557277</td>\n",
       "      <td>-0.586974</td>\n",
       "      <td>-0.924458</td>\n",
       "      <td>-0.308967</td>\n",
       "    </tr>\n",
       "    <tr>\n",
       "      <th>0.324324</th>\n",
       "      <td>0.270928</td>\n",
       "      <td>-1.092116</td>\n",
       "      <td>-0.789075</td>\n",
       "      <td>-1.033564</td>\n",
       "      <td>-0.559035</td>\n",
       "      <td>-0.590100</td>\n",
       "      <td>-0.928180</td>\n",
       "      <td>-0.310679</td>\n",
       "    </tr>\n",
       "    <tr>\n",
       "      <th>0.648649</th>\n",
       "      <td>0.266719</td>\n",
       "      <td>-1.099848</td>\n",
       "      <td>-0.798696</td>\n",
       "      <td>-1.041619</td>\n",
       "      <td>-0.566891</td>\n",
       "      <td>-0.598886</td>\n",
       "      <td>-0.938218</td>\n",
       "      <td>-0.319180</td>\n",
       "    </tr>\n",
       "    <tr>\n",
       "      <th>0.972973</th>\n",
       "      <td>0.263356</td>\n",
       "      <td>-1.105607</td>\n",
       "      <td>-0.806280</td>\n",
       "      <td>-1.048721</td>\n",
       "      <td>-0.573642</td>\n",
       "      <td>-0.606616</td>\n",
       "      <td>-0.947852</td>\n",
       "      <td>-0.327458</td>\n",
       "    </tr>\n",
       "    <tr>\n",
       "      <th>1.297297</th>\n",
       "      <td>0.259969</td>\n",
       "      <td>-1.111588</td>\n",
       "      <td>-0.814607</td>\n",
       "      <td>-1.055337</td>\n",
       "      <td>-0.580659</td>\n",
       "      <td>-0.614406</td>\n",
       "      <td>-0.956212</td>\n",
       "      <td>-0.334562</td>\n",
       "    </tr>\n",
       "  </tbody>\n",
       "</table>\n",
       "</div>"
      ],
      "text/plain": [
       "channel   channel_0  channel_1  channel_2  channel_3  channel_4  channel_5  \\\n",
       "time                                                                         \n",
       "0.000000   0.270936  -1.092998  -0.786919  -1.033228  -0.557277  -0.586974   \n",
       "0.324324   0.270928  -1.092116  -0.789075  -1.033564  -0.559035  -0.590100   \n",
       "0.648649   0.266719  -1.099848  -0.798696  -1.041619  -0.566891  -0.598886   \n",
       "0.972973   0.263356  -1.105607  -0.806280  -1.048721  -0.573642  -0.606616   \n",
       "1.297297   0.259969  -1.111588  -0.814607  -1.055337  -0.580659  -0.614406   \n",
       "\n",
       "channel   channel_6  channel_7  \n",
       "time                            \n",
       "0.000000  -0.924458  -0.308967  \n",
       "0.324324  -0.928180  -0.310679  \n",
       "0.648649  -0.938218  -0.319180  \n",
       "0.972973  -0.947852  -0.327458  \n",
       "1.297297  -0.956212  -0.334562  "
      ]
     },
     "execution_count": 29,
     "metadata": {},
     "output_type": "execute_result"
    }
   ],
   "source": [
    "df.head()"
   ]
  },
  {
   "cell_type": "code",
   "execution_count": 40,
   "metadata": {},
   "outputs": [],
   "source": [
    "x = 0.1/ 35"
   ]
  },
  {
   "cell_type": "code",
   "execution_count": null,
   "metadata": {},
   "outputs": [],
   "source": []
  }
 ],
 "metadata": {
  "kernelspec": {
   "display_name": "Python 3",
   "language": "python",
   "name": "python3"
  },
  "language_info": {
   "codemirror_mode": {
    "name": "ipython",
    "version": 3
   },
   "file_extension": ".py",
   "mimetype": "text/x-python",
   "name": "python",
   "nbconvert_exporter": "python",
   "pygments_lexer": "ipython3",
   "version": "3.6.6"
  }
 },
 "nbformat": 4,
 "nbformat_minor": 2
}
