{
 "cells": [
  {
   "cell_type": "code",
   "execution_count": null,
   "metadata": {},
   "outputs": [
    {
     "name": "stdout",
     "output_type": "stream",
     "text": [
      "100_CH43.continuous\n",
      "Loading continuous data...\n"
     ]
    }
   ],
   "source": [
    "import numpy as np\n",
    "from OpenEphys import loadContinuous\n",
    "import os\n",
    "import glob\n",
    "from scipy import signal as ss\n",
    "from scipy import stats as st\n",
    "from scipy.signal import butter, lfilter, freqz\n",
    "import matplotlib.pyplot as plt\n",
    "import seaborn as sns\n",
    "import pandas as pd\n",
    "\n",
    "#Select file for analysis\n",
    "files_to_be_converted = ['Pre 1','Pre 2','Pre 3','Cit 1','Cit 2','Cit 3','Way 1', 'Way 2','Way 3']\n",
    "source_folder = r'/Users/sharplab/tran/EEG data'\n",
    "\n",
    "path = \"/\".join([source_folder,files_to_be_converted[0]])\n",
    "os.chdir(path)\n",
    "file = glob.glob(\"*.continuous\")\n",
    "print(file[0])\n",
    "eegdata = loadContinuous(file[0], dtype=float)\n",
    "array = eegdata['data']\n",
    "\n",
    "#Resampling the data\n",
    "duration = np.shape(array)[0]/30000\n",
    "newarrayshape = np.real(int(round(250*duration)))\n",
    "newarray=ss.resample(array, newarrayshape)\n",
    "\n",
    "#Functions for filters\n",
    "def butter_lowpass(low_cutoff, fs, order=5):\n",
    "    nyq = 0.5 * fs\n",
    "    normal_low_cutoff = low_cutoff / nyq\n",
    "    b_low, a_low = butter(order, normal_low_cutoff, btype='lowpass', analog=False)\n",
    "    return b_low, a_low\n",
    "\n",
    "def butter_lowpass_filter(data, low_cutoff, fs, order=5):\n",
    "    b_low, a_low = butter_lowpass(low_cutoff, fs, order=order)\n",
    "    y_low = lfilter(b_low, a_low, data)\n",
    "    return y_low\n",
    "\n",
    "# Filter requirements.\n",
    "order = 5\n",
    "fs = 30000.0       # sample rate, Hz\n",
    "low_cutoff = 100 # desired cutoff frequency of the filter, Hz\n",
    "high_cutoff = 0.1\n",
    "\n",
    "\n",
    "# Filter the data.\n",
    "print('Filtering data')\n",
    "filtered_array = butter_lowpass_filter(newarray, low_cutoff, fs, order)\n",
    "\n",
    "\n",
    "#Spectrogram\n",
    "sampling_rate = 250\n",
    "bin_size = sampling_rate * 4\n",
    "\n",
    "binned_frequencies, binned_time, binned_Sxx = ss.spectrogram(filtered_array,\n",
    "                                                             sampling_rate, ss.get_window('hamming', bin_size), noverlap=bin_size/2, nperseg=bin_size)\n",
    "\n",
    "#Dataframe of the spectrogram results\n",
    "df = pd.DataFrame(data=binned_Sxx,\n",
    "                     columns=binned_time,\n",
    "                     index=binned_frequencies).transpose()\n",
    "df = df.reset_index()\n",
    "df = df.rename(columns={'index': 'time'})\n",
    "df['time'] = pd.to_timedelta(df['time'], unit='s')\n",
    "df.set_index('time', inplace=True)\n",
    "df.head()\n",
    "\n",
    "#Plot the end result\n",
    "df_lowf = df.iloc[:, :]\n",
    "mean_freqs = df_lowf.apply(np.mean, axis=0)\n",
    "plt.plot(mean_freqs.index, np.log(mean_freqs))\n",
    "plt.show()"
   ]
  },
  {
   "cell_type": "code",
   "execution_count": null,
   "metadata": {},
   "outputs": [],
   "source": []
  }
 ],
 "metadata": {
  "kernelspec": {
   "display_name": "Python 3",
   "language": "python",
   "name": "python3"
  },
  "language_info": {
   "codemirror_mode": {
    "name": "ipython",
    "version": 3
   },
   "file_extension": ".py",
   "mimetype": "text/x-python",
   "name": "python",
   "nbconvert_exporter": "python",
   "pygments_lexer": "ipython3",
   "version": "3.6.4"
  }
 },
 "nbformat": 4,
 "nbformat_minor": 2
}
