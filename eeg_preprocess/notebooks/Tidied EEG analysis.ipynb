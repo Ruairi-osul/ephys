{
 "cells": [
  {
   "cell_type": "code",
   "execution_count": 1,
   "metadata": {},
   "outputs": [],
   "source": [
    "import numpy as np\n",
    "from OpenEphys import loadContinuous\n",
    "import os\n",
    "import glob\n",
    "from scipy import signal as ss\n",
    "from scipy import stats as st\n",
    "from scipy.signal import butter, lfilter, freqz\n",
    "import matplotlib.pyplot as plt\n",
    "import seaborn as sns\n",
    "import pandas as pd"
   ]
  },
  {
   "cell_type": "code",
   "execution_count": 2,
   "metadata": {},
   "outputs": [
    {
     "name": "stdout",
     "output_type": "stream",
     "text": [
      "100_CH43.continuous\n",
      "Loading continuous data...\n"
     ]
    }
   ],
   "source": [
    "#Select file for analysis\n",
    "files_to_be_converted = ['Pre 1','Pre 2','Pre 3','Cit 1','Cit 2','Cit 3','Way 1', 'Way 2','Way 3']\n",
    "source_folder = r'/Users/sharplab/tran/EEG data'\n",
    "\n",
    "path = \"/\".join([source_folder,files_to_be_converted[1]])\n",
    "os.chdir(path)\n",
    "file = glob.glob(\"*.continuous\")\n",
    "print(file[0])\n",
    "eegdata = loadContinuous(file[0], dtype=float)\n",
    "array = eegdata['data']\n",
    "\n"
   ]
  },
  {
   "cell_type": "code",
   "execution_count": 5,
   "metadata": {},
   "outputs": [
    {
     "name": "stdout",
     "output_type": "stream",
     "text": [
      "Filtering data\n"
     ]
    }
   ],
   "source": [
    "def butter_lowpass(low_cutoff, fs, order=5):\n",
    "    nyq = 0.5 * fs\n",
    "    normal_low_cutoff = low_cutoff / nyq\n",
    "    b_low, a_low = butter(order, normal_low_cutoff, btype='low', analog=False)\n",
    "    return b_low, a_low\n",
    "\n",
    "def butter_highpass(high_cutoff, fs, order=5):\n",
    "    nyq = 0.5 * fs\n",
    "    normal_high_cutoff = high_cutoff / nyq\n",
    "    b_high, a_high = butter(order, normal_high_cutoff, btype='high', analog=False)\n",
    "    return b_high, a_high\n",
    "\n",
    "def butter_lowpass_filter(data, low_cutoff, fs, order=5):\n",
    "    b_low, a_low = butter_lowpass(low_cutoff, fs, order=order)\n",
    "    y_low = ss.filtfilt(b_low, a_low, data)\n",
    "    return y_low\n",
    "\n",
    "def butter_highpass_filter(data, high_cutoff, fs, order=5):\n",
    "    b_high, a_high = butter_highpass(high_cutoff, fs, order=order)\n",
    "    y_high = ss.filtfilt(b_high, a_high, data)\n",
    "    return y_high\n",
    "\n",
    "# Filter requirements.\n",
    "order = 5\n",
    "fs = 30000      # sample rate, Hz\n",
    "low_cutoff = 100 # desired cutoff frequency of the filter, Hz\n",
    "high_cutoff = 5\n",
    "\n",
    "print('Filtering data')\n",
    "#filtered_array = butter_lowpass_filter(array, low_cutoff, fs, order)\n",
    "filtered_array = butter_highpass_filter(array, high_cutoff, fs, order)"
   ]
  },
  {
   "cell_type": "code",
   "execution_count": 76,
   "metadata": {},
   "outputs": [],
   "source": [
    "#Resampling the data\n",
    "updated_array=ss.decimate(filtered_array, 12, ftype = 'fir')\n",
    "newarray = ss.decimate(updated_array,10, ftype = 'fir')"
   ]
  },
  {
   "cell_type": "code",
   "execution_count": 77,
   "metadata": {},
   "outputs": [
    {
     "name": "stderr",
     "output_type": "stream",
     "text": [
      "/Users/sharplab/anaconda3/lib/python3.6/site-packages/scipy/signal/spectral.py:1657: RuntimeWarning: overflow encountered in multiply\n",
      "  result = np.conjugate(result) * result\n",
      "/Users/sharplab/anaconda3/lib/python3.6/site-packages/scipy/signal/spectral.py:1657: RuntimeWarning: invalid value encountered in multiply\n",
      "  result = np.conjugate(result) * result\n",
      "/Users/sharplab/anaconda3/lib/python3.6/site-packages/scipy/signal/spectral.py:1659: RuntimeWarning: invalid value encountered in multiply\n",
      "  result *= scale\n"
     ]
    }
   ],
   "source": [
    "sampling_rate = 250\n",
    "bin_size = sampling_rate * 4\n",
    "\n",
    "binned_frequencies, binned_time, binned_Sxx = ss.spectrogram(newarray,sampling_rate, ss.get_window('hamming', bin_size), noverlap=0, nfft=bin_size)\n"
   ]
  },
  {
   "cell_type": "code",
   "execution_count": 40,
   "metadata": {},
   "outputs": [
    {
     "data": {
      "text/html": [
       "<div>\n",
       "<style scoped>\n",
       "    .dataframe tbody tr th:only-of-type {\n",
       "        vertical-align: middle;\n",
       "    }\n",
       "\n",
       "    .dataframe tbody tr th {\n",
       "        vertical-align: top;\n",
       "    }\n",
       "\n",
       "    .dataframe thead th {\n",
       "        text-align: right;\n",
       "    }\n",
       "</style>\n",
       "<table border=\"1\" class=\"dataframe\">\n",
       "  <thead>\n",
       "    <tr style=\"text-align: right;\">\n",
       "      <th></th>\n",
       "      <th>0</th>\n",
       "    </tr>\n",
       "  </thead>\n",
       "  <tbody>\n",
       "    <tr>\n",
       "      <th>0.00</th>\n",
       "      <td>3248.402938</td>\n",
       "    </tr>\n",
       "    <tr>\n",
       "      <th>0.25</th>\n",
       "      <td>24852.820736</td>\n",
       "    </tr>\n",
       "    <tr>\n",
       "      <th>0.50</th>\n",
       "      <td>23624.935168</td>\n",
       "    </tr>\n",
       "    <tr>\n",
       "      <th>0.75</th>\n",
       "      <td>16921.124910</td>\n",
       "    </tr>\n",
       "    <tr>\n",
       "      <th>1.00</th>\n",
       "      <td>11483.441804</td>\n",
       "    </tr>\n",
       "  </tbody>\n",
       "</table>\n",
       "</div>"
      ],
      "text/plain": [
       "                 0\n",
       "0.00   3248.402938\n",
       "0.25  24852.820736\n",
       "0.50  23624.935168\n",
       "0.75  16921.124910\n",
       "1.00  11483.441804"
      ]
     },
     "execution_count": 40,
     "metadata": {},
     "output_type": "execute_result"
    }
   ],
   "source": [
    "df = pd.DataFrame(data=binned_Sxx,\n",
    "                     index=binned_frequencies)\n",
    "\n",
    "df.head()"
   ]
  },
  {
   "cell_type": "code",
   "execution_count": 57,
   "metadata": {},
   "outputs": [
    {
     "data": {
      "image/png": "[encoded data removed]",
      "text/plain": [
       "<matplotlib.figure.Figure at 0x1cd1fc2f98>"
      ]
     },
     "metadata": {},
     "output_type": "display_data"
    }
   ],
   "source": [
    "#Plot the end result\n",
    "df_lowf = df.iloc[:]\n",
    "plt.plot(df_lowf.index, np.log(df_lowf))\n",
    "plt.show()"
   ]
  },
  {
   "cell_type": "code",
   "execution_count": 59,
   "metadata": {},
   "outputs": [
    {
     "data": {
      "image/png": "[encoded data removed]",
      "text/plain": [
       "<matplotlib.figure.Figure at 0x1c8baa0438>"
      ]
     },
     "metadata": {},
     "output_type": "display_data"
    }
   ],
   "source": [
    "sns.set()\n",
    "f, a = plt.subplots(figsize=(15,8))\n",
    "\n",
    "a = sns.heatmap(np.log(df_lowf), cmap='coolwarm', vmin=0, vmax=12)\n",
    "\n",
    "a.invert_yaxis()\n",
    "plt.show()"
   ]
  },
  {
   "cell_type": "code",
   "execution_count": 9,
   "metadata": {},
   "outputs": [
    {
     "data": {
      "text/plain": [
       "[<matplotlib.lines.Line2D at 0x1c87180588>]"
      ]
     },
     "execution_count": 9,
     "metadata": {},
     "output_type": "execute_result"
    },
    {
     "data": {
      "image/png": "[encoded data removed]",
      "text/plain": [
       "<matplotlib.figure.Figure at 0x1c87044d68>"
      ]
     },
     "metadata": {},
     "output_type": "display_data"
    }
   ],
   "source": [
    "plt.plot(filtered_array[:])"
   ]
  },
  {
   "cell_type": "code",
   "execution_count": null,
   "metadata": {},
   "outputs": [],
   "source": []
  }
 ],
 "metadata": {
  "kernelspec": {
   "display_name": "Python 3",
   "language": "python",
   "name": "python3"
  },
  "language_info": {
   "codemirror_mode": {
    "name": "ipython",
    "version": 3
   },
   "file_extension": ".py",
   "mimetype": "text/x-python",
   "name": "python",
   "nbconvert_exporter": "python",
   "pygments_lexer": "ipython3",
   "version": "3.6.4"
  }
 },
 "nbformat": 4,
 "nbformat_minor": 2
}
