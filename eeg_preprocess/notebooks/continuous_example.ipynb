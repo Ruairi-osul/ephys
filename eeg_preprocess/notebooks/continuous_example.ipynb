{
 "cells": [
  {
   "cell_type": "code",
   "execution_count": 1,
   "metadata": {},
   "outputs": [],
   "source": [
    "import numpy as np"
   ]
  },
  {
   "cell_type": "code",
   "execution_count": 3,
   "metadata": {},
   "outputs": [],
   "source": [
    "from OpenEphys import loadContinuous"
   ]
  },
  {
   "cell_type": "code",
   "execution_count": 4,
   "metadata": {},
   "outputs": [],
   "source": [
    "import os"
   ]
  },
  {
   "cell_type": "code",
   "execution_count": 5,
   "metadata": {},
   "outputs": [],
   "source": [
    "path_to_data = r'C:\\Users\\Rory\\raw_data\\CIT_WAY\\eeg_example'\n",
    "\n",
    "os.chdir(path_to_data)"
   ]
  },
  {
   "cell_type": "code",
   "execution_count": 7,
   "metadata": {},
   "outputs": [
    {
     "name": "stdout",
     "output_type": "stream",
     "text": [
      "['100_CH43.continuous', '100_CH44.continuous', '100_CH45.continuous']\n"
     ]
    }
   ],
   "source": [
    "import glob\n",
    "\n",
    "continuous_files = glob.glob('*.continuous')\n",
    "print(continuous_files)"
   ]
  },
  {
   "cell_type": "code",
   "execution_count": 8,
   "metadata": {},
   "outputs": [
    {
     "name": "stdout",
     "output_type": "stream",
     "text": [
      "Loading continuous data...\n"
     ]
    }
   ],
   "source": [
    "eeg_channel_1 = loadContinuous(continuous_files[0])"
   ]
  },
  {
   "cell_type": "code",
   "execution_count": 9,
   "metadata": {},
   "outputs": [
    {
     "name": "stdout",
     "output_type": "stream",
     "text": [
      "<class 'dict'>\n"
     ]
    }
   ],
   "source": [
    "print(type(eeg_channel_1))"
   ]
  },
  {
   "cell_type": "code",
   "execution_count": 10,
   "metadata": {},
   "outputs": [
    {
     "name": "stdout",
     "output_type": "stream",
     "text": [
      "{'data': array([ 166.53 ,  384.345,  -11.895, ...,    0.   ,    0.   ,    0.   ]),\n",
      " 'header': {' date_created': \"'1-May-2018 155919'\",\n",
      "            ' header_bytes': '1024',\n",
      "            ' version': '0.4',\n",
      "            'bitVolts': '0.195',\n",
      "            'blockLength': '1024',\n",
      "            'bufferSize': '1024',\n",
      "            'channel': \"'CH43'\",\n",
      "            'channelType': \"'Continuous'\",\n",
      "            'description': \"'each record contains one 64-bit timestamp, one \"\n",
      "                           '16-bit sample count (N), 1 uint16 recordingNumber, '\n",
      "                           'N 16-bit samples, and one 10-byte record marker (0 '\n",
      "                           \"1 2 3 4 5 6 7 8 255)'\",\n",
      "            'format': \"'Open Ephys Data Format'\",\n",
      "            'sampleRate': '30000'},\n",
      " 'recordingNumber': array([ 0.,  0.,  0., ...,  0.,  0.,  0.]),\n",
      " 'timestamps': array([  1.34123520e+07,   1.34133760e+07,   1.34144000e+07, ...,\n",
      "         1.22752000e+08,   1.22753024e+08,   1.22754048e+08])}\n"
     ]
    }
   ],
   "source": [
    "import pprint\n",
    "\n",
    "\n",
    "pprint.pprint(eeg_channel_1)"
   ]
  },
  {
   "cell_type": "code",
   "execution_count": 15,
   "metadata": {},
   "outputs": [
    {
     "data": {
      "text/html": [
       "<div>\n",
       "<style scoped>\n",
       "    .dataframe tbody tr th:only-of-type {\n",
       "        vertical-align: middle;\n",
       "    }\n",
       "\n",
       "    .dataframe tbody tr th {\n",
       "        vertical-align: top;\n",
       "    }\n",
       "\n",
       "    .dataframe thead th {\n",
       "        text-align: right;\n",
       "    }\n",
       "</style>\n",
       "<table border=\"1\" class=\"dataframe\">\n",
       "  <thead>\n",
       "    <tr style=\"text-align: right;\">\n",
       "      <th></th>\n",
       "      <th>values</th>\n",
       "    </tr>\n",
       "  </thead>\n",
       "  <tbody>\n",
       "    <tr>\n",
       "      <th>0</th>\n",
       "      <td>166.530</td>\n",
       "    </tr>\n",
       "    <tr>\n",
       "      <th>1</th>\n",
       "      <td>384.345</td>\n",
       "    </tr>\n",
       "    <tr>\n",
       "      <th>2</th>\n",
       "      <td>-11.895</td>\n",
       "    </tr>\n",
       "    <tr>\n",
       "      <th>3</th>\n",
       "      <td>-11.895</td>\n",
       "    </tr>\n",
       "    <tr>\n",
       "      <th>4</th>\n",
       "      <td>-131.040</td>\n",
       "    </tr>\n",
       "  </tbody>\n",
       "</table>\n",
       "</div>"
      ],
      "text/plain": [
       "    values\n",
       "0  166.530\n",
       "1  384.345\n",
       "2  -11.895\n",
       "3  -11.895\n",
       "4 -131.040"
      ]
     },
     "execution_count": 15,
     "metadata": {},
     "output_type": "execute_result"
    }
   ],
   "source": [
    "df = pd.DataFrame(data={'values': values})\n",
    "df.head()"
   ]
  },
  {
   "cell_type": "code",
   "execution_count": 16,
   "metadata": {},
   "outputs": [],
   "source": [
    "numpy_array = df['values'].values"
   ]
  },
  {
   "cell_type": "code",
   "execution_count": 17,
   "metadata": {},
   "outputs": [
    {
     "data": {
      "text/plain": [
       "numpy.ndarray"
      ]
     },
     "execution_count": 17,
     "metadata": {},
     "output_type": "execute_result"
    }
   ],
   "source": [
    "straight_to_numopy_array = eeg_channel_1['data']\n",
    "type(straight_to_numopy_array)"
   ]
  },
  {
   "cell_type": "code",
   "execution_count": null,
   "metadata": {},
   "outputs": [],
   "source": []
  }
 ],
 "metadata": {
  "kernelspec": {
   "display_name": "Python 3",
   "language": "python",
   "name": "python3"
  },
  "language_info": {
   "codemirror_mode": {
    "name": "ipython",
    "version": 3
   },
   "file_extension": ".py",
   "mimetype": "text/x-python",
   "name": "python",
   "nbconvert_exporter": "python",
   "pygments_lexer": "ipython3",
   "version": "3.6.4"
  }
 },
 "nbformat": 4,
 "nbformat_minor": 2
}
