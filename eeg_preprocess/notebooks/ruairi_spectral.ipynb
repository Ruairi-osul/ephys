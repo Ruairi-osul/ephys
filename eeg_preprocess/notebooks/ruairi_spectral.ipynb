{
 "cells": [
  {
   "cell_type": "code",
   "execution_count": 2,
   "metadata": {},
   "outputs": [
    {
     "name": "stdout",
     "output_type": "stream",
     "text": [
      "100_CH43.continuous\n",
      "Loading continuous data...\n",
      "Filtering data\n"
     ]
    }
   ],
   "source": [
    "import numpy as np\n",
    "from OpenEphys import loadContinuous\n",
    "import os\n",
    "import glob\n",
    "from scipy import signal as ss\n",
    "from scipy import stats as st\n",
    "from scipy.signal import butter, lfilter, freqz\n",
    "import matplotlib.pyplot as plt\n",
    "import seaborn as sns\n",
    "import pandas as pd\n",
    "\n",
    "#Select file for analysis\n",
    "files_to_be_converted = ['401a_2018-04-18_16-34-20_NO_CNO']\n",
    "source_folder = r'D:\\SERT_DREADD\\good_eegchans'\n",
    "\n",
    "path = \"/\".join([source_folder,files_to_be_converted[0]])\n",
    "os.chdir(path)\n",
    "file = glob.glob(\"*.continuous\")\n",
    "print(file[0])\n",
    "eegdata = loadContinuous(file[0], dtype=float)\n",
    "array = eegdata['data']\n",
    "\n",
    "#Resampling the data\n",
    "duration = np.shape(array)[0]/30000\n",
    "newarrayshape = np.real(int(round(250*duration)))\n",
    "newarray=ss.resample(array, newarrayshape)\n",
    "\n",
    "#Functions for filters\n",
    "def butter_lowpass(low_cutoff, fs, order=5):\n",
    "    nyq = 0.5 * fs\n",
    "    normal_low_cutoff = low_cutoff / nyq\n",
    "    b_low, a_low = butter(order, normal_low_cutoff, btype='lowpass', analog=False)\n",
    "    return b_low, a_low\n",
    "\n",
    "def butter_lowpass_filter(data, low_cutoff, fs, order=5):\n",
    "    b_low, a_low = butter_lowpass(low_cutoff, fs, order=order)\n",
    "    y_low = lfilter(b_low, a_low, data)\n",
    "    return y_low\n",
    "\n",
    "# Filter requirements.\n",
    "order = 5\n",
    "fs = 30000.0       # sample rate, Hz\n",
    "low_cutoff = 100 # desired cutoff frequency of the filter, Hz\n",
    "high_cutoff = 0.1\n",
    "\n",
    "\n",
    "# Filter the data.\n",
    "print('Filtering data')\n",
    "filtered_array = butter_lowpass_filter(newarray, low_cutoff, fs, order)\n",
    "\n",
    "\n",
    "#Spectrogram\n",
    "sampling_rate = 250\n",
    "bin_size = sampling_rate * 4"
   ]
  },
  {
   "cell_type": "code",
   "execution_count": 4,
   "metadata": {},
   "outputs": [],
   "source": [
    "freqs, Sxx = ss.welch(x=filtered_array,\n",
    "                     fs=sampling_rate,\n",
    "                    window=ss.get_window('hamming', bin_size),\n",
    "                     noverlap=bin_size/2,\n",
    "                     nperseg=bin_size)"
   ]
  },
  {
   "cell_type": "code",
   "execution_count": 5,
   "metadata": {},
   "outputs": [
    {
     "data": {
      "text/plain": [
       "(501,)"
      ]
     },
     "execution_count": 5,
     "metadata": {},
     "output_type": "execute_result"
    }
   ],
   "source": [
    "Sxx.shape"
   ]
  },
  {
   "cell_type": "code",
   "execution_count": 6,
   "metadata": {},
   "outputs": [
    {
     "data": {
      "text/plain": [
       "[<matplotlib.lines.Line2D at 0x1dfc9275da0>]"
      ]
     },
     "execution_count": 6,
     "metadata": {},
     "output_type": "execute_result"
    },
    {
     "data": {
      "image/png": "[encoded data removed]",
      "text/plain": [
       "<Figure size 432x288 with 1 Axes>"
      ]
     },
     "metadata": {},
     "output_type": "display_data"
    }
   ],
   "source": [
    "plt.plot(freqs, Sxx)"
   ]
  },
  {
   "cell_type": "code",
   "execution_count": null,
   "metadata": {},
   "outputs": [],
   "source": []
  }
 ],
 "metadata": {
  "kernelspec": {
   "display_name": "Python 3",
   "language": "python",
   "name": "python3"
  },
  "language_info": {
   "codemirror_mode": {
    "name": "ipython",
    "version": 3
   },
   "file_extension": ".py",
   "mimetype": "text/x-python",
   "name": "python",
   "nbconvert_exporter": "python",
   "pygments_lexer": "ipython3",
   "version": "3.6.4"
  }
 },
 "nbformat": 4,
 "nbformat_minor": 2
}
