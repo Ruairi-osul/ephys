{
 "cells": [
  {
   "cell_type": "code",
   "execution_count": 1,
   "metadata": {},
   "outputs": [],
   "source": [
    "from matplotlib import pyplot as plt\n",
    "from scipy.cluster.hierarchy import dendrogram, linkage\n",
    "import numpy as np\n",
    "import pandas as pd\n",
    "import seaborn as sns"
   ]
  },
  {
   "cell_type": "code",
   "execution_count": null,
   "metadata": {},
   "outputs": [],
   "source": [
    "%matplotlib inline\n",
    "np.set_printoptions(precision=5, suppress=True)"
   ]
  },
  {
   "cell_type": "markdown",
   "metadata": {},
   "source": [
    "Generate the data to play around with"
   ]
  },
  {
   "cell_type": "code",
   "execution_count": null,
   "metadata": {},
   "outputs": [],
   "source": [
    "np.random.seed(4711)  # for repeatability of this tutorial\n",
    "a = np.random.multivariate_normal([10, 0], [[3, 1], [1, 4]], size=[100,])\n",
    "b = np.random.multivariate_normal([0, 20], [[3, 1], [1, 4]], size=[50,])\n",
    "data = np.concatenate((a, b),)\n",
    "print(data.shape)  # 150 samples with 2 dimensions\n",
    "plt.scatter(data[:,0], data[:,1])\n",
    "plt.show()"
   ]
  },
  {
   "cell_type": "markdown",
   "metadata": {},
   "source": [
    "Perform hierarchical clustering."
   ]
  },
  {
   "cell_type": "code",
   "execution_count": null,
   "metadata": {},
   "outputs": [],
   "source": [
    "clustered_data = linkage(data, 'ward')"
   ]
  },
  {
   "cell_type": "markdown",
   "metadata": {},
   "source": [
    "Create the dendrogram"
   ]
  },
  {
   "cell_type": "code",
   "execution_count": null,
   "metadata": {},
   "outputs": [],
   "source": [
    "plt.figure(figsize=(25, 10))\n",
    "plt.title('Hierarchical Clustering Dendrogram')\n",
    "plt.xlabel('sample index')\n",
    "plt.ylabel('distance')\n",
    "dendrogram(\n",
    "    clustered_data,\n",
    "    leaf_rotation=90.,  # rotates the x axis labels\n",
    "    leaf_font_size=8.,  # font size for the x axis labels\n",
    ")\n",
    "plt.show()"
   ]
  },
  {
   "cell_type": "markdown",
   "metadata": {},
   "source": [
    "A fancy function for a fancy dendrogram"
   ]
  },
  {
   "cell_type": "code",
   "execution_count": null,
   "metadata": {},
   "outputs": [],
   "source": [
    "def fancy_dendrogram(*args, **kwargs):\n",
    "    max_d = kwargs.pop('max_d', None)\n",
    "    if max_d and 'color_threshold' not in kwargs:\n",
    "        kwargs['color_threshold'] = max_d\n",
    "    annotate_above = kwargs.pop('annotate_above', 0)\n",
    "    \n",
    "    ddata = dendrogram(*args, **kwargs)\n",
    "\n",
    "    if not kwargs.get('no_plot', False):\n",
    "        plt.title('Hierarchical Clustering Dendrogram (truncated)')\n",
    "        plt.xlabel('sample index or (cluster size)')\n",
    "        plt.ylabel('distance')\n",
    "        for i, d, c in zip(ddata['icoord'], ddata['dcoord'], ddata['color_list']):\n",
    "            x = 0.5 * sum(i[1:3])\n",
    "            y = d[1]\n",
    "            if y > annotate_above:\n",
    "                plt.plot(x, y, 'o', c=c)\n",
    "                plt.annotate(\"%.3g\" % y, (x, y), xytext=(0, -5),\n",
    "                             textcoords='offset points',\n",
    "                             va='top', ha='center')\n",
    "        if max_d:\n",
    "            plt.axhline(y=max_d, c='k')\n",
    "    return ddata"
   ]
  },
  {
   "cell_type": "code",
   "execution_count": null,
   "metadata": {},
   "outputs": [],
   "source": [
    "max_d = 17\n",
    "plt.figure(figsize=(10, 10))\n",
    "fancy_dendrogram(\n",
    "    clustered_data,\n",
    "    truncate_mode='lastp',\n",
    "    p=12,\n",
    "    leaf_rotation=90.,\n",
    "    leaf_font_size=12.,\n",
    "    show_contracted=True,\n",
    "    annotate_above=10,\n",
    "    max_d=max_d,  # plot a horizontal cut-off line\n",
    ")\n",
    "plt.show()"
   ]
  },
  {
   "cell_type": "markdown",
   "metadata": {},
   "source": [
    "Generate the labels for scatter plot"
   ]
  },
  {
   "cell_type": "code",
   "execution_count": null,
   "metadata": {},
   "outputs": [],
   "source": [
    "from scipy.cluster.hierarchy import fcluster\n",
    "clusters = fcluster(clustered_data, max_d, criterion='distance')"
   ]
  },
  {
   "cell_type": "code",
   "execution_count": null,
   "metadata": {},
   "outputs": [],
   "source": [
    "df = pd.DataFrame(data)\n",
    "#df['clustering'] = clusters\n",
    "df['cluster']=clusters"
   ]
  },
  {
   "cell_type": "code",
   "execution_count": null,
   "metadata": {},
   "outputs": [],
   "source": [
    "plt.scatter(df.iloc[:,0], df.iloc[:,1], c=df['cluster'])"
   ]
  },
  {
   "cell_type": "markdown",
   "metadata": {},
   "source": [
    "Extract the first cluster for analysis"
   ]
  },
  {
   "cell_type": "code",
   "execution_count": null,
   "metadata": {},
   "outputs": [],
   "source": [
    "first_cluster_df = df[df['cluster']==1].iloc[:,:2]\n",
    "plt.scatter(first_cluster_df[0], first_cluster_df[1])\n",
    "plt.ylim(-5, 25)\n",
    "plt.xlim(-4, 20)\n",
    "plt.show()"
   ]
  },
  {
   "cell_type": "markdown",
   "metadata": {},
   "source": [
    "Perform PCA on the first cluster"
   ]
  },
  {
   "cell_type": "code",
   "execution_count": null,
   "metadata": {},
   "outputs": [],
   "source": [
    "from sklearn.decomposition import PCA\n",
    "model = PCA(n_components = 2)\n",
    "model.fit(first_cluster_df)\n",
    "pca = model.transform(first_cluster_df)"
   ]
  },
  {
   "cell_type": "markdown",
   "metadata": {},
   "source": [
    "Illustrate the PCA transformation on the first cluster"
   ]
  },
  {
   "cell_type": "code",
   "execution_count": null,
   "metadata": {},
   "outputs": [],
   "source": [
    "mean = model.mean_\n",
    "first_component = model.components_[0]\n",
    "second_component = model.components_[1]\n",
    "plt.scatter(df.iloc[:,0], df.iloc[:,1], c=df['cluster'])\n",
    "plt.arrow(mean[0], mean[1], first_component[0], first_component[1], color = 'red', width = 0.2)\n",
    "plt.arrow(mean[0], mean[1], second_component[0], second_component[1], color = 'red', width =0.2)\n",
    "plt.show()"
   ]
  },
  {
   "cell_type": "markdown",
   "metadata": {},
   "source": [
    "# BREAST CANCER DATA "
   ]
  },
  {
   "cell_type": "markdown",
   "metadata": {},
   "source": [
    "import breast cancer data from sklean datasets"
   ]
  },
  {
   "cell_type": "code",
   "execution_count": null,
   "metadata": {},
   "outputs": [],
   "source": [
    "from sklearn.datasets import load_breast_cancer\n",
    "cancer = load_breast_cancer()\n",
    "cancer_df = pd.DataFrame(cancer['data'], columns=cancer['feature_names'])\n",
    "cancer_df.head()"
   ]
  },
  {
   "cell_type": "markdown",
   "metadata": {},
   "source": [
    "Scale data for analysis"
   ]
  },
  {
   "cell_type": "code",
   "execution_count": null,
   "metadata": {},
   "outputs": [],
   "source": [
    "from sklearn.preprocessing import StandardScaler\n",
    "scale = StandardScaler()\n",
    "scaled_data = scale.fit_transform(cancer_df)\n",
    "#pd.DataFrame(scaled_data, columns=cancer['feature_names'])"
   ]
  },
  {
   "cell_type": "code",
   "execution_count": null,
   "metadata": {},
   "outputs": [],
   "source": [
    "from sklearn.decomposition import PCA\n",
    "pca = PCA(n_components=2)\n",
    "transformed_cancer_data = pca.fit_transform(scaled_data)\n",
    "plt.scatter(transformed_cancer_data[:,0], transformed_cancer_data[:,1], c=cancer['target'])\n",
    "print(transformed_cancer_data.shape)"
   ]
  },
  {
   "cell_type": "markdown",
   "metadata": {},
   "source": [
    "Extract one cluster "
   ]
  },
  {
   "cell_type": "code",
   "execution_count": null,
   "metadata": {},
   "outputs": [],
   "source": [
    "transformed_df = pd.DataFrame(transformed_cancer_data)\n",
    "transformed_df['cluster']=cancer['target']\n",
    "first_cancer_cluster = transformed_df[transformed_df['cluster']==0].iloc[:,:2]\n",
    "plt.scatter(first_cancer_cluster[0], first_cancer_cluster[1])"
   ]
  },
  {
   "cell_type": "code",
   "execution_count": null,
   "metadata": {},
   "outputs": [],
   "source": [
    "components_table = pd.DataFrame(pca.components_, columns = cancer['feature_names'])\n",
    "components_table.head()\n",
    "\n"
   ]
  },
  {
   "cell_type": "code",
   "execution_count": null,
   "metadata": {},
   "outputs": [],
   "source": [
    "pca.components_"
   ]
  },
  {
   "cell_type": "code",
   "execution_count": null,
   "metadata": {},
   "outputs": [],
   "source": [
    "sns.heatmap(components_table, cmap = 'coolwarm')\n"
   ]
  },
  {
   "cell_type": "markdown",
   "metadata": {},
   "source": [
    "# CSV file analysis\n"
   ]
  },
  {
   "cell_type": "code",
   "execution_count": 2,
   "metadata": {},
   "outputs": [
    {
     "data": {
      "text/html": [
       "<div>\n",
       "<style scoped>\n",
       "    .dataframe tbody tr th:only-of-type {\n",
       "        vertical-align: middle;\n",
       "    }\n",
       "\n",
       "    .dataframe tbody tr th {\n",
       "        vertical-align: top;\n",
       "    }\n",
       "\n",
       "    .dataframe thead th {\n",
       "        text-align: right;\n",
       "    }\n",
       "</style>\n",
       "<table border=\"1\" class=\"dataframe\">\n",
       "  <thead>\n",
       "    <tr style=\"text-align: right;\">\n",
       "      <th></th>\n",
       "      <th>spike_cluster</th>\n",
       "      <th>CV ISI</th>\n",
       "      <th>Firing Rate</th>\n",
       "      <th>recording</th>\n",
       "      <th>SW_peak</th>\n",
       "      <th>SW_return</th>\n",
       "      <th>SW_troff</th>\n",
       "      <th>base_min_amp</th>\n",
       "      <th>min_max_amp</th>\n",
       "      <th>spike_type</th>\n",
       "    </tr>\n",
       "  </thead>\n",
       "  <tbody>\n",
       "    <tr>\n",
       "      <th>0</th>\n",
       "      <td>435</td>\n",
       "      <td>1.089054</td>\n",
       "      <td>0.605134</td>\n",
       "      <td>2018-04-10_391b</td>\n",
       "      <td>NaN</td>\n",
       "      <td>0.800000</td>\n",
       "      <td>0.266667</td>\n",
       "      <td>611.518420</td>\n",
       "      <td>NaN</td>\n",
       "      <td>down_up</td>\n",
       "    </tr>\n",
       "    <tr>\n",
       "      <th>1</th>\n",
       "      <td>444</td>\n",
       "      <td>1.914232</td>\n",
       "      <td>0.211107</td>\n",
       "      <td>2018-04-10_391b</td>\n",
       "      <td>NaN</td>\n",
       "      <td>NaN</td>\n",
       "      <td>NaN</td>\n",
       "      <td>NaN</td>\n",
       "      <td>NaN</td>\n",
       "      <td>up_down_up</td>\n",
       "    </tr>\n",
       "    <tr>\n",
       "      <th>2</th>\n",
       "      <td>456</td>\n",
       "      <td>0.937104</td>\n",
       "      <td>0.068662</td>\n",
       "      <td>2018-04-10_391b</td>\n",
       "      <td>NaN</td>\n",
       "      <td>NaN</td>\n",
       "      <td>NaN</td>\n",
       "      <td>NaN</td>\n",
       "      <td>NaN</td>\n",
       "      <td>up_down_up</td>\n",
       "    </tr>\n",
       "    <tr>\n",
       "      <th>3</th>\n",
       "      <td>457</td>\n",
       "      <td>0.465151</td>\n",
       "      <td>16.016615</td>\n",
       "      <td>2018-04-10_391b</td>\n",
       "      <td>NaN</td>\n",
       "      <td>0.566667</td>\n",
       "      <td>0.333333</td>\n",
       "      <td>474.025089</td>\n",
       "      <td>NaN</td>\n",
       "      <td>down_up</td>\n",
       "    </tr>\n",
       "    <tr>\n",
       "      <th>4</th>\n",
       "      <td>459</td>\n",
       "      <td>2.235703</td>\n",
       "      <td>3.146396</td>\n",
       "      <td>2018-04-10_391b</td>\n",
       "      <td>NaN</td>\n",
       "      <td>0.300000</td>\n",
       "      <td>0.200000</td>\n",
       "      <td>543.436868</td>\n",
       "      <td>NaN</td>\n",
       "      <td>down_up</td>\n",
       "    </tr>\n",
       "  </tbody>\n",
       "</table>\n",
       "</div>"
      ],
      "text/plain": [
       "   spike_cluster    CV ISI  Firing Rate        recording  SW_peak  SW_return  \\\n",
       "0            435  1.089054     0.605134  2018-04-10_391b      NaN   0.800000   \n",
       "1            444  1.914232     0.211107  2018-04-10_391b      NaN        NaN   \n",
       "2            456  0.937104     0.068662  2018-04-10_391b      NaN        NaN   \n",
       "3            457  0.465151    16.016615  2018-04-10_391b      NaN   0.566667   \n",
       "4            459  2.235703     3.146396  2018-04-10_391b      NaN   0.300000   \n",
       "\n",
       "   SW_troff  base_min_amp  min_max_amp  spike_type  \n",
       "0  0.266667    611.518420          NaN     down_up  \n",
       "1       NaN           NaN          NaN  up_down_up  \n",
       "2       NaN           NaN          NaN  up_down_up  \n",
       "3  0.333333    474.025089          NaN     down_up  \n",
       "4  0.200000    543.436868          NaN     down_up  "
      ]
     },
     "execution_count": 2,
     "metadata": {},
     "output_type": "execute_result"
    }
   ],
   "source": [
    "df = pd.read_csv('/Users/sharplab/tran/neuron_stats.csv')\n",
    "df.head()"
   ]
  },
  {
   "cell_type": "markdown",
   "metadata": {},
   "source": [
    "### Only take the non null clusters"
   ]
  },
  {
   "cell_type": "code",
   "execution_count": 3,
   "metadata": {},
   "outputs": [
    {
     "data": {
      "text/html": [
       "<div>\n",
       "<style scoped>\n",
       "    .dataframe tbody tr th:only-of-type {\n",
       "        vertical-align: middle;\n",
       "    }\n",
       "\n",
       "    .dataframe tbody tr th {\n",
       "        vertical-align: top;\n",
       "    }\n",
       "\n",
       "    .dataframe thead th {\n",
       "        text-align: right;\n",
       "    }\n",
       "</style>\n",
       "<table border=\"1\" class=\"dataframe\">\n",
       "  <thead>\n",
       "    <tr style=\"text-align: right;\">\n",
       "      <th></th>\n",
       "      <th>spike_cluster</th>\n",
       "      <th>CV ISI</th>\n",
       "      <th>Firing Rate</th>\n",
       "      <th>recording</th>\n",
       "      <th>SW_peak</th>\n",
       "      <th>SW_return</th>\n",
       "      <th>SW_troff</th>\n",
       "      <th>base_min_amp</th>\n",
       "      <th>min_max_amp</th>\n",
       "      <th>spike_type</th>\n",
       "    </tr>\n",
       "  </thead>\n",
       "  <tbody>\n",
       "    <tr>\n",
       "      <th>0</th>\n",
       "      <td>435</td>\n",
       "      <td>1.089054</td>\n",
       "      <td>0.605134</td>\n",
       "      <td>2018-04-10_391b</td>\n",
       "      <td>NaN</td>\n",
       "      <td>0.800000</td>\n",
       "      <td>0.266667</td>\n",
       "      <td>611.518420</td>\n",
       "      <td>NaN</td>\n",
       "      <td>down_up</td>\n",
       "    </tr>\n",
       "    <tr>\n",
       "      <th>3</th>\n",
       "      <td>457</td>\n",
       "      <td>0.465151</td>\n",
       "      <td>16.016615</td>\n",
       "      <td>2018-04-10_391b</td>\n",
       "      <td>NaN</td>\n",
       "      <td>0.566667</td>\n",
       "      <td>0.333333</td>\n",
       "      <td>474.025089</td>\n",
       "      <td>NaN</td>\n",
       "      <td>down_up</td>\n",
       "    </tr>\n",
       "    <tr>\n",
       "      <th>4</th>\n",
       "      <td>459</td>\n",
       "      <td>2.235703</td>\n",
       "      <td>3.146396</td>\n",
       "      <td>2018-04-10_391b</td>\n",
       "      <td>NaN</td>\n",
       "      <td>0.300000</td>\n",
       "      <td>0.200000</td>\n",
       "      <td>543.436868</td>\n",
       "      <td>NaN</td>\n",
       "      <td>down_up</td>\n",
       "    </tr>\n",
       "    <tr>\n",
       "      <th>5</th>\n",
       "      <td>461</td>\n",
       "      <td>1.051972</td>\n",
       "      <td>2.454226</td>\n",
       "      <td>2018-04-10_391b</td>\n",
       "      <td>0.1</td>\n",
       "      <td>0.433333</td>\n",
       "      <td>0.300000</td>\n",
       "      <td>485.604273</td>\n",
       "      <td>581.708</td>\n",
       "      <td>up_down_up</td>\n",
       "    </tr>\n",
       "    <tr>\n",
       "      <th>6</th>\n",
       "      <td>463</td>\n",
       "      <td>0.500654</td>\n",
       "      <td>0.752866</td>\n",
       "      <td>2018-04-10_391b</td>\n",
       "      <td>NaN</td>\n",
       "      <td>0.733333</td>\n",
       "      <td>0.333333</td>\n",
       "      <td>305.698058</td>\n",
       "      <td>NaN</td>\n",
       "      <td>down_up</td>\n",
       "    </tr>\n",
       "  </tbody>\n",
       "</table>\n",
       "</div>"
      ],
      "text/plain": [
       "   spike_cluster    CV ISI  Firing Rate        recording  SW_peak  SW_return  \\\n",
       "0            435  1.089054     0.605134  2018-04-10_391b      NaN   0.800000   \n",
       "3            457  0.465151    16.016615  2018-04-10_391b      NaN   0.566667   \n",
       "4            459  2.235703     3.146396  2018-04-10_391b      NaN   0.300000   \n",
       "5            461  1.051972     2.454226  2018-04-10_391b      0.1   0.433333   \n",
       "6            463  0.500654     0.752866  2018-04-10_391b      NaN   0.733333   \n",
       "\n",
       "   SW_troff  base_min_amp  min_max_amp  spike_type  \n",
       "0  0.266667    611.518420          NaN     down_up  \n",
       "3  0.333333    474.025089          NaN     down_up  \n",
       "4  0.200000    543.436868          NaN     down_up  \n",
       "5  0.300000    485.604273      581.708  up_down_up  \n",
       "6  0.333333    305.698058          NaN     down_up  "
      ]
     },
     "execution_count": 3,
     "metadata": {},
     "output_type": "execute_result"
    }
   ],
   "source": [
    "df = df[pd.notnull(df['SW_troff'])]\n",
    "df.head()"
   ]
  },
  {
   "cell_type": "code",
   "execution_count": 12,
   "metadata": {},
   "outputs": [
    {
     "data": {
      "text/plain": [
       "array(['2018-04-10_391b', '2018-04-11_371a', '2018-04-12_371b',\n",
       "       '2018-04-16_401b', '2018-04-17_401c', '2018-04-18_40.1a'],\n",
       "      dtype=object)"
      ]
     },
     "execution_count": 12,
     "metadata": {},
     "output_type": "execute_result"
    }
   ],
   "source": [
    "recordings = df['recording'].unique()\n",
    "recordings"
   ]
  },
  {
   "cell_type": "markdown",
   "metadata": {},
   "source": [
    "### Separate the recordings"
   ]
  },
  {
   "cell_type": "code",
   "execution_count": 39,
   "metadata": {},
   "outputs": [
    {
     "data": {
      "image/png": "[encoded data removed]",
      "text/plain": [
       "<matplotlib.figure.Figure at 0x1a24b49470>"
      ]
     },
     "metadata": {},
     "output_type": "display_data"
    }
   ],
   "source": [
    "df.groupby('recording')['Firing Rate'].plot(kind='hist', density = True, alpha=0.6)\n",
    "plt.show()"
   ]
  },
  {
   "cell_type": "code",
   "execution_count": 46,
   "metadata": {},
   "outputs": [
    {
     "name": "stdout",
     "output_type": "stream",
     "text": [
      "0\n",
      "2018-04-10_391b\n",
      "\n",
      "1\n",
      "2018-04-11_371a\n",
      "\n",
      "2\n",
      "2018-04-12_371b\n",
      "\n",
      "3\n",
      "2018-04-16_401b\n",
      "\n",
      "4\n",
      "2018-04-17_401c\n",
      "\n",
      "5\n",
      "2018-04-18_40.1a\n",
      "\n"
     ]
    }
   ],
   "source": [
    "for a, b in enumerate(recordings):\n",
    "    print(a)\n",
    "    print(b)\n",
    "    print()"
   ]
  },
  {
   "cell_type": "code",
   "execution_count": 56,
   "metadata": {},
   "outputs": [
    {
     "data": {
      "image/png": "[encoded data removed]",
      "text/plain": [
       "<matplotlib.figure.Figure at 0x1a25b7fa20>"
      ]
     },
     "metadata": {},
     "output_type": "display_data"
    }
   ],
   "source": [
    "sns.swarmplot(data=df, x='recording', y='Firing Rate')\n",
    "plt.tight_layout()\n"
   ]
  },
  {
   "cell_type": "code",
   "execution_count": 59,
   "metadata": {},
   "outputs": [
    {
     "data": {
      "image/png": "[encoded data removed]",
      "text/plain": [
       "<matplotlib.figure.Figure at 0x1a27f76e80>"
      ]
     },
     "metadata": {},
     "output_type": "display_data"
    }
   ],
   "source": [
    "sns.swarmplot(data=df, x='recording', y='CV ISI')\n",
    "plt.tight_layout()"
   ]
  },
  {
   "cell_type": "code",
   "execution_count": 63,
   "metadata": {},
   "outputs": [
    {
     "data": {
      "text/plain": [
       "<seaborn.axisgrid.JointGrid at 0x1a26501080>"
      ]
     },
     "execution_count": 63,
     "metadata": {},
     "output_type": "execute_result"
    },
    {
     "data": {
      "image/png": "[encoded data removed]",
      "text/plain": [
       "<matplotlib.figure.Figure at 0x1a26501438>"
      ]
     },
     "metadata": {},
     "output_type": "display_data"
    }
   ],
   "source": [
    "sns.jointplot(data=df, x='Firing Rate', y='CV ISI')"
   ]
  },
  {
   "cell_type": "code",
   "execution_count": 89,
   "metadata": {},
   "outputs": [
    {
     "data": {
      "text/plain": [
       "<seaborn.axisgrid.FacetGrid at 0x1a278cc668>"
      ]
     },
     "execution_count": 89,
     "metadata": {},
     "output_type": "execute_result"
    },
    {
     "data": {
      "image/png": "[encoded data removed]",
      "text/plain": [
       "<matplotlib.figure.Figure at 0x1a278cc588>"
      ]
     },
     "metadata": {},
     "output_type": "display_data"
    }
   ],
   "source": [
    "sns.set()\n",
    "sns.lmplot(data=df, x='CV ISI', y='Firing Rate', fit_reg=False, hue='recording')\n"
   ]
  },
  {
   "cell_type": "code",
   "execution_count": 54,
   "metadata": {},
   "outputs": [
    {
     "data": {
      "image/png": "[encoded data removed]",
      "text/plain": [
       "<matplotlib.figure.Figure at 0x1a278dc5f8>"
      ]
     },
     "metadata": {},
     "output_type": "display_data"
    }
   ],
   "source": [
    "F, a = plt.subplots(ncols=1, nrows=6, figsize=(10,20))\n",
    "df['recording'].unique()\n",
    "for index, recording in enumerate(recordings):\n",
    "    temp_df= df[df['recording']==recording]\n",
    "    a[index].hist(temp_df['Firing Rate'], density=True, bins=len(temp_df))\n",
    "    a[index].set_xlim([0, 25])\n",
    "    plt.savefig(sep.join(fig_to_save))\n",
    "    plt.close()\n",
    "    \n",
    "plt.tight_layout()\n",
    "plt.show()"
   ]
  },
  {
   "cell_type": "code",
   "execution_count": 23,
   "metadata": {},
   "outputs": [],
   "source": [
    "\n",
    "def separate_recording(df):\n",
    "    gb = df.groupby('recording')    \n",
    "    [gb.get_group(record) for record in gb.groups]"
   ]
  },
  {
   "cell_type": "code",
   "execution_count": 24,
   "metadata": {},
   "outputs": [],
   "source": [
    "separate_recording(df)"
   ]
  },
  {
   "cell_type": "code",
   "execution_count": 16,
   "metadata": {},
   "outputs": [
    {
     "data": {
      "text/plain": [
       "(6, 10)"
      ]
     },
     "execution_count": 16,
     "metadata": {},
     "output_type": "execute_result"
    }
   ],
   "source": [
    "df1 = df[df['recording']=='2018-04-10_391b']\n",
    "df1.shape"
   ]
  },
  {
   "cell_type": "code",
   "execution_count": 18,
   "metadata": {},
   "outputs": [
    {
     "data": {
      "text/plain": [
       "(17, 10)"
      ]
     },
     "execution_count": 18,
     "metadata": {},
     "output_type": "execute_result"
    }
   ],
   "source": [
    "df2 = df[df['recording']=='2018-04-11_371a']\n",
    "df2.shape"
   ]
  },
  {
   "cell_type": "code",
   "execution_count": 31,
   "metadata": {},
   "outputs": [
    {
     "data": {
      "image/png": "[encoded data removed]",
      "text/plain": [
       "<matplotlib.figure.Figure at 0x1a1a379e80>"
      ]
     },
     "metadata": {},
     "output_type": "display_data"
    }
   ],
   "source": [
    "plt.hist(df2['Firing Rate'], bins=len(df2), density=True)\n",
    "plt.show()"
   ]
  },
  {
   "cell_type": "code",
   "execution_count": null,
   "metadata": {},
   "outputs": [],
   "source": [
    "data = pd.concat([df['CV ISI'], df['Firing Rate'], df['SW_return'], df['SW_troff'], df['base_min_amp']], axis=1)"
   ]
  },
  {
   "cell_type": "code",
   "execution_count": null,
   "metadata": {},
   "outputs": [],
   "source": [
    "data.head()"
   ]
  },
  {
   "cell_type": "code",
   "execution_count": null,
   "metadata": {},
   "outputs": [],
   "source": [
    "import matplotlib.pyplot as plt\n",
    "from sklearn.preprocessing import StandardScaler\n",
    "scale = StandardScaler()\n",
    "scaled_data = scale.fit_transform(data)"
   ]
  },
  {
   "cell_type": "code",
   "execution_count": null,
   "metadata": {},
   "outputs": [],
   "source": [
    "from sklearn.decomposition import PCA\n",
    "pca = PCA(n_components=2)\n",
    "transformed_data = pca.fit_transform(scaled_data)\n",
    "plt.scatter(transformed_data[:,0], transformed_data[:,1])\n"
   ]
  },
  {
   "cell_type": "code",
   "execution_count": null,
   "metadata": {},
   "outputs": [],
   "source": [
    "from sklearn.cluster import KMeans\n",
    "ks = range(1, 12)\n",
    "inertias = []\n",
    "\n",
    "for k in ks:\n",
    "    # Create a KMeans instance with k clusters: model\n",
    "    model = KMeans(n_clusters=k)\n",
    "    \n",
    "    # Fit model to samples\n",
    "    model.fit(transformed_data)\n",
    "    \n",
    "    # Append the inertia to the list of inertias\n",
    "    inertias.append(model.inertia_)\n",
    "    \n",
    "# Plot ks vs inertias\n",
    "plt.plot(ks, inertias, '-o')\n",
    "plt.xlabel('number of clusters, k')\n",
    "plt.ylabel('inertia')\n",
    "plt.xticks(ks)\n",
    "plt.show()"
   ]
  },
  {
   "cell_type": "code",
   "execution_count": null,
   "metadata": {},
   "outputs": [],
   "source": [
    "new_model = KMeans(n_clusters=4)\n",
    "labels = new_model.fit_predict(transformed_data)\n",
    "plt.scatter(transformed_data[:,0], transformed_data[:,1], c=labels)"
   ]
  },
  {
   "cell_type": "code",
   "execution_count": null,
   "metadata": {},
   "outputs": [],
   "source": [
    "components_table = pd.DataFrame(pca.components_, columns = data.keys())"
   ]
  },
  {
   "cell_type": "code",
   "execution_count": null,
   "metadata": {},
   "outputs": [],
   "source": [
    "sns.heatmap(components_table, cmap = 'coolwarm')"
   ]
  },
  {
   "cell_type": "code",
   "execution_count": null,
   "metadata": {},
   "outputs": [],
   "source": [
    "clustered_data = linkage(scaled_data, 'ward')"
   ]
  },
  {
   "cell_type": "code",
   "execution_count": null,
   "metadata": {},
   "outputs": [],
   "source": [
    "plt.figure(figsize=(15, 10))\n",
    "plt.title('Hierarchical Clustering Dendrogram')\n",
    "plt.xlabel('sample index')\n",
    "plt.ylabel('distance')\n",
    "dendrogram(\n",
    "    clustered_data,\n",
    "    leaf_rotation=90.,  # rotates the x axis labels\n",
    "    leaf_font_size=8.,  # font size for the x axis labels\n",
    ")\n",
    "plt.show()"
   ]
  },
  {
   "cell_type": "code",
   "execution_count": 71,
   "metadata": {},
   "outputs": [],
   "source": [
    "\n",
    "def mapper(row):\n",
    "    if row['CV ISI'] <= 0.55:\n",
    "        reg = 'regulular'\n",
    "    else:\n",
    "        reg = 'irregular'\n",
    "        \n",
    "    if row['Firing Rate'] <= 4.5:\n",
    "        rate = 'slow'\n",
    "    else:\n",
    "        rate = 'fast'\n",
    "        \n",
    "    return ' '.join([rate, reg])"
   ]
  },
  {
   "cell_type": "code",
   "execution_count": 72,
   "metadata": {},
   "outputs": [],
   "source": [
    "df['category'] = df.apply(mapper, axis=1)"
   ]
  },
  {
   "cell_type": "code",
   "execution_count": 78,
   "metadata": {},
   "outputs": [
    {
     "data": {
      "text/html": [
       "<div>\n",
       "<style scoped>\n",
       "    .dataframe tbody tr th:only-of-type {\n",
       "        vertical-align: middle;\n",
       "    }\n",
       "\n",
       "    .dataframe tbody tr th {\n",
       "        vertical-align: top;\n",
       "    }\n",
       "\n",
       "    .dataframe thead tr th {\n",
       "        text-align: left;\n",
       "    }\n",
       "\n",
       "    .dataframe thead tr:last-of-type th {\n",
       "        text-align: right;\n",
       "    }\n",
       "</style>\n",
       "<table border=\"1\" class=\"dataframe\">\n",
       "  <thead>\n",
       "    <tr>\n",
       "      <th></th>\n",
       "      <th colspan=\"8\" halign=\"left\">CV ISI</th>\n",
       "      <th colspan=\"2\" halign=\"left\">Firing Rate</th>\n",
       "      <th>...</th>\n",
       "      <th colspan=\"2\" halign=\"left\">min_max_amp</th>\n",
       "      <th colspan=\"8\" halign=\"left\">spike_cluster</th>\n",
       "    </tr>\n",
       "    <tr>\n",
       "      <th></th>\n",
       "      <th>count</th>\n",
       "      <th>mean</th>\n",
       "      <th>std</th>\n",
       "      <th>min</th>\n",
       "      <th>25%</th>\n",
       "      <th>50%</th>\n",
       "      <th>75%</th>\n",
       "      <th>max</th>\n",
       "      <th>count</th>\n",
       "      <th>mean</th>\n",
       "      <th>...</th>\n",
       "      <th>75%</th>\n",
       "      <th>max</th>\n",
       "      <th>count</th>\n",
       "      <th>mean</th>\n",
       "      <th>std</th>\n",
       "      <th>min</th>\n",
       "      <th>25%</th>\n",
       "      <th>50%</th>\n",
       "      <th>75%</th>\n",
       "      <th>max</th>\n",
       "    </tr>\n",
       "    <tr>\n",
       "      <th>category</th>\n",
       "      <th></th>\n",
       "      <th></th>\n",
       "      <th></th>\n",
       "      <th></th>\n",
       "      <th></th>\n",
       "      <th></th>\n",
       "      <th></th>\n",
       "      <th></th>\n",
       "      <th></th>\n",
       "      <th></th>\n",
       "      <th></th>\n",
       "      <th></th>\n",
       "      <th></th>\n",
       "      <th></th>\n",
       "      <th></th>\n",
       "      <th></th>\n",
       "      <th></th>\n",
       "      <th></th>\n",
       "      <th></th>\n",
       "      <th></th>\n",
       "      <th></th>\n",
       "    </tr>\n",
       "  </thead>\n",
       "  <tbody>\n",
       "    <tr>\n",
       "      <th>fast irregular</th>\n",
       "      <td>3.0</td>\n",
       "      <td>0.960746</td>\n",
       "      <td>0.434847</td>\n",
       "      <td>0.637971</td>\n",
       "      <td>0.713503</td>\n",
       "      <td>0.789036</td>\n",
       "      <td>1.122133</td>\n",
       "      <td>1.455231</td>\n",
       "      <td>3.0</td>\n",
       "      <td>5.294820</td>\n",
       "      <td>...</td>\n",
       "      <td>NaN</td>\n",
       "      <td>NaN</td>\n",
       "      <td>3.0</td>\n",
       "      <td>100.333333</td>\n",
       "      <td>102.246434</td>\n",
       "      <td>22.0</td>\n",
       "      <td>42.5</td>\n",
       "      <td>63.0</td>\n",
       "      <td>139.5</td>\n",
       "      <td>216.0</td>\n",
       "    </tr>\n",
       "    <tr>\n",
       "      <th>fast regulular</th>\n",
       "      <td>7.0</td>\n",
       "      <td>0.395377</td>\n",
       "      <td>0.077493</td>\n",
       "      <td>0.292924</td>\n",
       "      <td>0.345133</td>\n",
       "      <td>0.386248</td>\n",
       "      <td>0.439957</td>\n",
       "      <td>0.518287</td>\n",
       "      <td>7.0</td>\n",
       "      <td>12.800120</td>\n",
       "      <td>...</td>\n",
       "      <td>414.184818</td>\n",
       "      <td>460.630182</td>\n",
       "      <td>7.0</td>\n",
       "      <td>179.571429</td>\n",
       "      <td>190.236570</td>\n",
       "      <td>14.0</td>\n",
       "      <td>36.0</td>\n",
       "      <td>130.0</td>\n",
       "      <td>292.0</td>\n",
       "      <td>457.0</td>\n",
       "    </tr>\n",
       "    <tr>\n",
       "      <th>slow irregular</th>\n",
       "      <td>83.0</td>\n",
       "      <td>0.894456</td>\n",
       "      <td>0.273211</td>\n",
       "      <td>0.552113</td>\n",
       "      <td>0.744879</td>\n",
       "      <td>0.854331</td>\n",
       "      <td>1.020622</td>\n",
       "      <td>2.235703</td>\n",
       "      <td>83.0</td>\n",
       "      <td>1.128549</td>\n",
       "      <td>...</td>\n",
       "      <td>332.189273</td>\n",
       "      <td>581.708000</td>\n",
       "      <td>83.0</td>\n",
       "      <td>135.313253</td>\n",
       "      <td>170.358870</td>\n",
       "      <td>0.0</td>\n",
       "      <td>27.5</td>\n",
       "      <td>60.0</td>\n",
       "      <td>106.0</td>\n",
       "      <td>498.0</td>\n",
       "    </tr>\n",
       "    <tr>\n",
       "      <th>slow regulular</th>\n",
       "      <td>52.0</td>\n",
       "      <td>0.361448</td>\n",
       "      <td>0.128059</td>\n",
       "      <td>0.130452</td>\n",
       "      <td>0.254109</td>\n",
       "      <td>0.373891</td>\n",
       "      <td>0.487106</td>\n",
       "      <td>0.541001</td>\n",
       "      <td>52.0</td>\n",
       "      <td>1.980083</td>\n",
       "      <td>...</td>\n",
       "      <td>428.850727</td>\n",
       "      <td>794.402909</td>\n",
       "      <td>52.0</td>\n",
       "      <td>163.211538</td>\n",
       "      <td>154.922287</td>\n",
       "      <td>0.0</td>\n",
       "      <td>47.0</td>\n",
       "      <td>113.5</td>\n",
       "      <td>246.5</td>\n",
       "      <td>506.0</td>\n",
       "    </tr>\n",
       "  </tbody>\n",
       "</table>\n",
       "<p>4 rows × 64 columns</p>\n",
       "</div>"
      ],
      "text/plain": [
       "               CV ISI                                                    \\\n",
       "                count      mean       std       min       25%       50%   \n",
       "category                                                                  \n",
       "fast irregular    3.0  0.960746  0.434847  0.637971  0.713503  0.789036   \n",
       "fast regulular    7.0  0.395377  0.077493  0.292924  0.345133  0.386248   \n",
       "slow irregular   83.0  0.894456  0.273211  0.552113  0.744879  0.854331   \n",
       "slow regulular   52.0  0.361448  0.128059  0.130452  0.254109  0.373891   \n",
       "\n",
       "                                   Firing Rate             ...   min_max_amp  \\\n",
       "                     75%       max       count       mean  ...           75%   \n",
       "category                                                   ...                 \n",
       "fast irregular  1.122133  1.455231         3.0   5.294820  ...           NaN   \n",
       "fast regulular  0.439957  0.518287         7.0  12.800120  ...    414.184818   \n",
       "slow irregular  1.020622  2.235703        83.0   1.128549  ...    332.189273   \n",
       "slow regulular  0.487106  0.541001        52.0   1.980083  ...    428.850727   \n",
       "\n",
       "                           spike_cluster                                      \\\n",
       "                       max         count        mean         std   min   25%   \n",
       "category                                                                       \n",
       "fast irregular         NaN           3.0  100.333333  102.246434  22.0  42.5   \n",
       "fast regulular  460.630182           7.0  179.571429  190.236570  14.0  36.0   \n",
       "slow irregular  581.708000          83.0  135.313253  170.358870   0.0  27.5   \n",
       "slow regulular  794.402909          52.0  163.211538  154.922287   0.0  47.0   \n",
       "\n",
       "                                     \n",
       "                  50%    75%    max  \n",
       "category                             \n",
       "fast irregular   63.0  139.5  216.0  \n",
       "fast regulular  130.0  292.0  457.0  \n",
       "slow irregular   60.0  106.0  498.0  \n",
       "slow regulular  113.5  246.5  506.0  \n",
       "\n",
       "[4 rows x 64 columns]"
      ]
     },
     "execution_count": 78,
     "metadata": {},
     "output_type": "execute_result"
    }
   ],
   "source": [
    "df.groupby('category').describe()"
   ]
  },
  {
   "cell_type": "code",
   "execution_count": 97,
   "metadata": {},
   "outputs": [],
   "source": [
    "df_slow_irregular = df[df['category']== 'slow irregular']\n"
   ]
  },
  {
   "cell_type": "code",
   "execution_count": 88,
   "metadata": {},
   "outputs": [
    {
     "data": {
      "text/plain": [
       "<seaborn.axisgrid.FacetGrid at 0x1a27510668>"
      ]
     },
     "execution_count": 88,
     "metadata": {},
     "output_type": "execute_result"
    },
    {
     "data": {
      "image/png": "[encoded data removed]",
      "text/plain": [
       "<matplotlib.figure.Figure at 0x1a278aba90>"
      ]
     },
     "metadata": {},
     "output_type": "display_data"
    }
   ],
   "source": [
    "sns.set()\n",
    "sns.lmplot(data=df_slow_irregular, x='SW_return', y='base_min_amp', fit_reg=False, hue='recording')"
   ]
  },
  {
   "cell_type": "code",
   "execution_count": null,
   "metadata": {},
   "outputs": [],
   "source": []
  }
 ],
 "metadata": {
  "kernelspec": {
   "display_name": "Python 3",
   "language": "python",
   "name": "python3"
  },
  "language_info": {
   "codemirror_mode": {
    "name": "ipython",
    "version": 3
   },
   "file_extension": ".py",
   "mimetype": "text/x-python",
   "name": "python",
   "nbconvert_exporter": "python",
   "pygments_lexer": "ipython3",
   "version": "3.6.4"
  }
 },
 "nbformat": 4,
 "nbformat_minor": 2
}
