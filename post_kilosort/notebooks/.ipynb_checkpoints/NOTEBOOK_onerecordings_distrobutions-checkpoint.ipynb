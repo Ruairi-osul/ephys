{
 "cells": [
  {
   "cell_type": "code",
   "execution_count": 4,
   "metadata": {},
   "outputs": [],
   "source": [
    "import os\n",
    "import numpy as np\n",
    "import pandas as pd\n",
    "import matplotlib.pyplot as plt\n",
    "import seaborn as sns\n",
    "sns.set()"
   ]
  },
  {
   "cell_type": "code",
   "execution_count": 6,
   "metadata": {},
   "outputs": [],
   "source": [
    "def return_path(path_to_data, recording):\n",
    "    return '\\\\'.join([path_to_data, recording]) + '.csv'\n",
    "\n",
    "\n",
    "def fig_path(fig_type, fig_folder, recording):\n",
    "    return '\\\\'.join([fig_folder, fig_type, recording]) +'.png'"
   ]
  },
  {
   "cell_type": "code",
   "execution_count": 7,
   "metadata": {},
   "outputs": [],
   "source": [
    "recordings_to_analyse = ['2018-04-18']\n",
    "\n",
    "path_to_data = r'C:\\Users\\Rory\\raw_data\\SERT_DREADD\\neuron_characteristics'\n",
    "fig_folder = r'C:\\Users\\Rory\\raw_data\\SERT_DREADD\\figures'"
   ]
  },
  {
   "cell_type": "code",
   "execution_count": 8,
   "metadata": {},
   "outputs": [
    {
     "ename": "SyntaxError",
     "evalue": "positional argument follows keyword argument (<ipython-input-8-c9c67bf8adff>, line 15)",
     "output_type": "error",
     "traceback": [
      "\u001b[1;36m  File \u001b[1;32m\"<ipython-input-8-c9c67bf8adff>\"\u001b[1;36m, line \u001b[1;32m15\u001b[0m\n\u001b[1;33m    plt.savefig(fig_path(fig_type='neuron_cat_distrobution', fig_folder, recording), dpi=500)\u001b[0m\n\u001b[1;37m                                                            ^\u001b[0m\n\u001b[1;31mSyntaxError\u001b[0m\u001b[1;31m:\u001b[0m positional argument follows keyword argument\n"
     ]
    }
   ],
   "source": [
    "for recording in recordings_to_analyse:\n",
    "    file = return_path(path_to_data, recording)\n",
    "    df = pd.read_csv(file)\n",
    "    \n",
    "    total_neurons = df['cluster'].count()\n",
    "    by_neuron_cat = df.groupby('neuron_category')['rate'].apply(lambda ser: ser.count()/total_neurons)\n",
    "    by_neuron_cat = by_neuron_cat.reindex(['slow irregular', 'slow regular', 'fast regular', 'fast irregular'])\n",
    "    \n",
    "    \n",
    "    f, a = plt.subplots(figsize=(8,8))\n",
    "    by_neuron_cat.plot(kind='bar', ax=a,\n",
    "              title='Distrobution of Firing Properties of Recorded Neurons')\n",
    "    a.set_ylabel('Percentage total neurons (n={})'.format(total_neurons))\n",
    "    print('Saving neuron distrobution figure:\\t{}'.format(recording))\n",
    "    plt.savefig(fig_path(fig_type='neuron_cat_distrobution',\n",
    "                         fig_folder=fig_folder,\n",
    "                         recording=recording),\n",
    "                dpi=500)\n",
    "    \n",
    "    \n",
    "    print('Saving neuron distrobution figure')\n",
    "    sns.jointplot(data=df, x='cv_isi', y='rate',stat_func=None,\n",
    "              size=8)\n",
    "    plt.savefig(fig_path(fig_type='neuron_cat_distrobution',\n",
    "                         fig_folder=fig_folder,\n",
    "                         recording=recording), dpi=500)\n"
   ]
  },
  {
   "cell_type": "code",
   "execution_count": 27,
   "metadata": {},
   "outputs": [
    {
     "data": {
      "text/plain": [
       "<matplotlib.axes._subplots.AxesSubplot at 0x202f360cbe0>"
      ]
     },
     "execution_count": 27,
     "metadata": {},
     "output_type": "execute_result"
    },
    {
     "data": {
      "image/png": "[encoded data removed]",
      "text/plain": [
       "<Figure size 432x288 with 1 Axes>"
      ]
     },
     "metadata": {},
     "output_type": "display_data"
    }
   ],
   "source": [
    "file = return_path(path_to_data, recordings_to_analyse[1])\n",
    "df = pd.read_csv(file)\n",
    "total_neurons = df['cluster'].count()\n",
    "by_neuron_cat = df.groupby('neuron_category')['rate'].count()\n",
    "by_neuron_cat.plot(kind='bar')"
   ]
  },
  {
   "cell_type": "code",
   "execution_count": null,
   "metadata": {},
   "outputs": [],
   "source": []
  }
 ],
 "metadata": {
  "kernelspec": {
   "display_name": "Python 3",
   "language": "python",
   "name": "python3"
  },
  "language_info": {
   "codemirror_mode": {
    "name": "ipython",
    "version": 3
   },
   "file_extension": ".py",
   "mimetype": "text/x-python",
   "name": "python",
   "nbconvert_exporter": "python",
   "pygments_lexer": "ipython3",
   "version": "3.6.4"
  }
 },
 "nbformat": 4,
 "nbformat_minor": 2
}
