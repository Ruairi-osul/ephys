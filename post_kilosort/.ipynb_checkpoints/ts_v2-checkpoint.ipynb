{
 "cells": [
  {
   "cell_type": "code",
   "execution_count": 49,
   "metadata": {},
   "outputs": [],
   "source": [
    "import os\n",
    "import numpy as np\n",
    "import pandas as pd\n",
    "from pandas.api.types import CategoricalDtype\n",
    "import matplotlib.pyplot as plt\n",
    "import seaborn as sns\n",
    "sns.set()"
   ]
  },
  {
   "cell_type": "code",
   "execution_count": 50,
   "metadata": {},
   "outputs": [],
   "source": [
    "path_to_data = r'C:\\Users\\Rory\\raw_data\\SERT_DREADD\\spikes_df'\n",
    "recordings_to_analyse = ['2018-04-18']"
   ]
  },
  {
   "cell_type": "code",
   "execution_count": 51,
   "metadata": {},
   "outputs": [],
   "source": [
    "def zscore(group):\n",
    "    return (group['mean_firing_rate'].subtract(baseline_means)).divide(baseline_stds)"
   ]
  },
  {
   "cell_type": "code",
   "execution_count": 52,
   "metadata": {},
   "outputs": [],
   "source": [
    "file = '\\\\'.join([path_to_data, recordings_to_analyse[0]]) + '.csv'\n",
    "df = pd.read_csv(file, index_col=0)\n",
    "df['spike'] = 1"
   ]
  },
  {
   "cell_type": "code",
   "execution_count": 53,
   "metadata": {},
   "outputs": [],
   "source": [
    "# compute mean in first period\n",
    "\n",
    "baseline = df.loc[df['condition'] == 'Baseline']\n",
    "mean_firing_rates = baseline.groupby('spike_cluster')['time'].agg(lambda x: x.count() /float(x.max()-x.min()))"
   ]
  },
  {
   "cell_type": "code",
   "execution_count": 54,
   "metadata": {},
   "outputs": [],
   "source": [
    "df['time'] = pd.to_timedelta(df['time'], unit='s')"
   ]
  },
  {
   "cell_type": "code",
   "execution_count": 55,
   "metadata": {},
   "outputs": [],
   "source": [
    "baseline = df.loc[df['condition'] == 'Baseline']\n",
    "base_ts = df.pivot_table(index='time', columns='spike_cluster', values='spike', aggfunc='count')"
   ]
  },
  {
   "cell_type": "code",
   "execution_count": 56,
   "metadata": {},
   "outputs": [],
   "source": [
    "base_sec = base_ts.resample('s').count()"
   ]
  },
  {
   "cell_type": "code",
   "execution_count": 60,
   "metadata": {},
   "outputs": [
    {
     "data": {
      "text/plain": [
       "spike_cluster\n",
       "401    0.498016\n",
       "215    0.556726\n",
       "159    0.655809\n",
       "219    0.761872\n",
       "92     0.837964\n",
       "dtype: float64"
      ]
     },
     "execution_count": 60,
     "metadata": {},
     "output_type": "execute_result"
    }
   ],
   "source": [
    "baseline_means = base_sec.transpose().mean(axis=1)\n",
    "baseline_stds = base_sec.transpose().std(axis=1)\n",
    "baseline_sorted = baseline_means.sort_values()\n",
    "baseline_sorted.head()"
   ]
  },
  {
   "cell_type": "code",
   "execution_count": 61,
   "metadata": {},
   "outputs": [],
   "source": [
    "all_data_ts = df.pivot_table(index='time', columns='spike_cluster', values='spike', aggfunc='count')\n",
    "secondly = all_data_ts.resample('s').count()\n",
    "all_data_rolling_mean = secondly.rolling(60*2).mean()"
   ]
  },
  {
   "cell_type": "code",
   "execution_count": 62,
   "metadata": {},
   "outputs": [],
   "source": [
    "tidy_ts = all_data_ts.reset_index().melt(id_vars='time', value_name='mean_firing_rate').set_index('spike_cluster')"
   ]
  },
  {
   "cell_type": "code",
   "execution_count": 63,
   "metadata": {},
   "outputs": [],
   "source": [
    "#works but slow!!!!\n",
    "normed = tidy_ts.groupby('time').apply(zscore)"
   ]
  },
  {
   "cell_type": "code",
   "execution_count": null,
   "metadata": {},
   "outputs": [
    {
     "data": {
      "text/plain": [
       "Text(0.5,61,'Time (min)\\nCNO administration at 120 minutes')"
      ]
     },
     "execution_count": 64,
     "metadata": {},
     "output_type": "execute_result"
    }
   ],
   "source": [
    "f, a = plt.subplots(figsize=(19, 9))\n",
    "sns.heatmap(normed.transpose(), ax=a, cmap='coolwarm', vmin=-3, vmax=3, xticklabels=1800)\n",
    "a.set_ylabel('Neuron Number')\n",
    "a.set_title('Percentage Baseline firing rate\\nTwo minute rolling window')\n",
    "a.set_xticklabels('30 60 120 150'.split())\n",
    "a.set_xlabel('Time (min)\\nCNO administration at 120 minutes')"
   ]
  },
  {
   "cell_type": "code",
   "execution_count": null,
   "metadata": {},
   "outputs": [],
   "source": []
  }
 ],
 "metadata": {
  "kernelspec": {
   "display_name": "Python 3",
   "language": "python",
   "name": "python3"
  },
  "language_info": {
   "codemirror_mode": {
    "name": "ipython",
    "version": 3
   },
   "file_extension": ".py",
   "mimetype": "text/x-python",
   "name": "python",
   "nbconvert_exporter": "python",
   "pygments_lexer": "ipython3",
   "version": "3.6.4"
  }
 },
 "nbformat": 4,
 "nbformat_minor": 2
}
