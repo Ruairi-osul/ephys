{
 "cells": [
  {
   "cell_type": "code",
   "execution_count": 1,
   "metadata": {},
   "outputs": [],
   "source": [
    "import os\n",
    "import numpy as np\n",
    "import pandas as pd\n",
    "from pandas.api.types import CategoricalDtype\n",
    "import matplotlib.pyplot as plt\n",
    "import seaborn as sns\n",
    "sns.set()"
   ]
  },
  {
   "cell_type": "code",
   "execution_count": 49,
   "metadata": {},
   "outputs": [],
   "source": [
    "path_to_data = r'C:\\Users\\Rory\\raw_data\\SERT_DREADD\\spikes_df'\n",
    "\n",
    "recordings_to_analyse = ['2018-04-18']"
   ]
  },
  {
   "cell_type": "code",
   "execution_count": 50,
   "metadata": {},
   "outputs": [],
   "source": [
    "file = '\\\\'.join([path_to_data, recordings_to_analyse[0]]) + '.csv'\n",
    "df = pd.read_csv(file, index_col=0)\n",
    "df = df.drop('condition', axis=1)"
   ]
  },
  {
   "cell_type": "code",
   "execution_count": 51,
   "metadata": {},
   "outputs": [],
   "source": [
    "df['time'] = pd.to_timedelta(df['time'], unit='s')"
   ]
  },
  {
   "cell_type": "code",
   "execution_count": 52,
   "metadata": {},
   "outputs": [],
   "source": [
    "df['spike'] = 1\n",
    "df1 = df.pivot_table(index='time', columns='spike_cluster', values='spike', aggfunc='count')"
   ]
  },
  {
   "cell_type": "code",
   "execution_count": 56,
   "metadata": {},
   "outputs": [],
   "source": [
    "sec = df1.resample('s').count()"
   ]
  },
  {
   "cell_type": "code",
   "execution_count": 42,
   "metadata": {},
   "outputs": [],
   "source": [
    "df1 = df.pivot_table(columns='spike_cluster', values='spike', aggfunc='count')"
   ]
  },
  {
   "cell_type": "code",
   "execution_count": 43,
   "metadata": {},
   "outputs": [
    {
     "data": {
      "text/html": [
       "<div>\n",
       "<style scoped>\n",
       "    .dataframe tbody tr th:only-of-type {\n",
       "        vertical-align: middle;\n",
       "    }\n",
       "\n",
       "    .dataframe tbody tr th {\n",
       "        vertical-align: top;\n",
       "    }\n",
       "\n",
       "    .dataframe thead th {\n",
       "        text-align: right;\n",
       "    }\n",
       "</style>\n",
       "<table border=\"1\" class=\"dataframe\">\n",
       "  <thead>\n",
       "    <tr style=\"text-align: right;\">\n",
       "      <th>spike_cluster</th>\n",
       "      <th>0</th>\n",
       "      <th>14</th>\n",
       "      <th>19</th>\n",
       "      <th>37</th>\n",
       "      <th>48</th>\n",
       "      <th>64</th>\n",
       "      <th>72</th>\n",
       "      <th>92</th>\n",
       "      <th>159</th>\n",
       "      <th>161</th>\n",
       "      <th>...</th>\n",
       "      <th>341</th>\n",
       "      <th>349</th>\n",
       "      <th>356</th>\n",
       "      <th>360</th>\n",
       "      <th>364</th>\n",
       "      <th>374</th>\n",
       "      <th>384</th>\n",
       "      <th>396</th>\n",
       "      <th>401</th>\n",
       "      <th>418</th>\n",
       "    </tr>\n",
       "  </thead>\n",
       "  <tbody>\n",
       "    <tr>\n",
       "      <th>spike</th>\n",
       "      <td>20491</td>\n",
       "      <td>90411</td>\n",
       "      <td>10485</td>\n",
       "      <td>81964</td>\n",
       "      <td>6594</td>\n",
       "      <td>21555</td>\n",
       "      <td>30084</td>\n",
       "      <td>6123</td>\n",
       "      <td>4792</td>\n",
       "      <td>9801</td>\n",
       "      <td>...</td>\n",
       "      <td>15677</td>\n",
       "      <td>13918</td>\n",
       "      <td>16415</td>\n",
       "      <td>9059</td>\n",
       "      <td>6843</td>\n",
       "      <td>24054</td>\n",
       "      <td>49006</td>\n",
       "      <td>7085</td>\n",
       "      <td>3639</td>\n",
       "      <td>7510</td>\n",
       "    </tr>\n",
       "  </tbody>\n",
       "</table>\n",
       "<p>1 rows × 37 columns</p>\n",
       "</div>"
      ],
      "text/plain": [
       "spike_cluster    0      14     19     37    48     64     72    92    159  \\\n",
       "spike          20491  90411  10485  81964  6594  21555  30084  6123  4792   \n",
       "\n",
       "spike_cluster   161  ...     341    349    356   360   364    374    384  \\\n",
       "spike          9801  ...   15677  13918  16415  9059  6843  24054  49006   \n",
       "\n",
       "spike_cluster   396   401   418  \n",
       "spike          7085  3639  7510  \n",
       "\n",
       "[1 rows x 37 columns]"
      ]
     },
     "execution_count": 43,
     "metadata": {},
     "output_type": "execute_result"
    }
   ],
   "source": [
    "df1.head()"
   ]
  },
  {
   "cell_type": "code",
   "execution_count": null,
   "metadata": {},
   "outputs": [],
   "source": []
  }
 ],
 "metadata": {
  "kernelspec": {
   "display_name": "Python 3",
   "language": "python",
   "name": "python3"
  },
  "language_info": {
   "codemirror_mode": {
    "name": "ipython",
    "version": 3
   },
   "file_extension": ".py",
   "mimetype": "text/x-python",
   "name": "python",
   "nbconvert_exporter": "python",
   "pygments_lexer": "ipython3",
   "version": "3.6.4"
  }
 },
 "nbformat": 4,
 "nbformat_minor": 2
}
