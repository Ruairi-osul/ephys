{
 "cells": [
  {
   "cell_type": "code",
   "execution_count": 2,
   "metadata": {},
   "outputs": [],
   "source": [
    "import dc_stat_think as dc\n",
    "import numpy as np\n",
    "import pandas as pd"
   ]
  },
  {
   "cell_type": "code",
   "execution_count": 3,
   "metadata": {},
   "outputs": [],
   "source": [
    "import os\n",
    "from glob import glob as gb"
   ]
  },
  {
   "cell_type": "code",
   "execution_count": 4,
   "metadata": {},
   "outputs": [],
   "source": [
    "path = '/home/ruairi/Documents/tmp'\n",
    "csv_files = gb(''.join([path, '/*.csv']))"
   ]
  },
  {
   "cell_type": "code",
   "execution_count": 5,
   "metadata": {},
   "outputs": [
    {
     "data": {
      "text/html": [
       "<div>\n",
       "<style>\n",
       "    .dataframe thead tr:only-child th {\n",
       "        text-align: right;\n",
       "    }\n",
       "\n",
       "    .dataframe thead th {\n",
       "        text-align: left;\n",
       "    }\n",
       "\n",
       "    .dataframe tbody tr th {\n",
       "        vertical-align: top;\n",
       "    }\n",
       "</style>\n",
       "<table border=\"1\" class=\"dataframe\">\n",
       "  <thead>\n",
       "    <tr style=\"text-align: right;\">\n",
       "      <th></th>\n",
       "      <th>Cluster_ID</th>\n",
       "      <th>Cluster_ID.1</th>\n",
       "      <th>spike_cluster</th>\n",
       "      <th>CV ISI</th>\n",
       "      <th>Firing Rate</th>\n",
       "      <th>recording</th>\n",
       "      <th>SW_peak</th>\n",
       "      <th>SW_return</th>\n",
       "      <th>SW_troff</th>\n",
       "      <th>base_min_amp</th>\n",
       "      <th>min_max_amp</th>\n",
       "      <th>spike_type</th>\n",
       "      <th>category</th>\n",
       "      <th>Experiment</th>\n",
       "      <th>labels</th>\n",
       "      <th>GMM_labels</th>\n",
       "    </tr>\n",
       "  </thead>\n",
       "  <tbody>\n",
       "    <tr>\n",
       "      <th>0</th>\n",
       "      <td>0</td>\n",
       "      <td>0</td>\n",
       "      <td>4</td>\n",
       "      <td>0.521050</td>\n",
       "      <td>14.251111</td>\n",
       "      <td>CIT_09_2018-07-03</td>\n",
       "      <td>0.066667</td>\n",
       "      <td>0.433333</td>\n",
       "      <td>0.233333</td>\n",
       "      <td>358.625118</td>\n",
       "      <td>428.742545</td>\n",
       "      <td>up_down_up</td>\n",
       "      <td>fast regular</td>\n",
       "      <td>CIT_WAY</td>\n",
       "      <td>0</td>\n",
       "      <td>1</td>\n",
       "    </tr>\n",
       "    <tr>\n",
       "      <th>1</th>\n",
       "      <td>1</td>\n",
       "      <td>1</td>\n",
       "      <td>50</td>\n",
       "      <td>0.491941</td>\n",
       "      <td>29.060000</td>\n",
       "      <td>CIT_09_2018-07-03</td>\n",
       "      <td>0.066667</td>\n",
       "      <td>0.466667</td>\n",
       "      <td>0.233333</td>\n",
       "      <td>330.368218</td>\n",
       "      <td>381.340727</td>\n",
       "      <td>up_down_up</td>\n",
       "      <td>fast regular</td>\n",
       "      <td>CIT_WAY</td>\n",
       "      <td>1</td>\n",
       "      <td>1</td>\n",
       "    </tr>\n",
       "    <tr>\n",
       "      <th>2</th>\n",
       "      <td>2</td>\n",
       "      <td>2</td>\n",
       "      <td>96</td>\n",
       "      <td>0.250473</td>\n",
       "      <td>17.164722</td>\n",
       "      <td>CIT_09_2018-07-03</td>\n",
       "      <td>NaN</td>\n",
       "      <td>0.366667</td>\n",
       "      <td>0.266667</td>\n",
       "      <td>270.924649</td>\n",
       "      <td>NaN</td>\n",
       "      <td>down_up</td>\n",
       "      <td>fast regular</td>\n",
       "      <td>CIT_WAY</td>\n",
       "      <td>1</td>\n",
       "      <td>1</td>\n",
       "    </tr>\n",
       "    <tr>\n",
       "      <th>3</th>\n",
       "      <td>3</td>\n",
       "      <td>3</td>\n",
       "      <td>97</td>\n",
       "      <td>0.719563</td>\n",
       "      <td>5.984444</td>\n",
       "      <td>CIT_09_2018-07-03</td>\n",
       "      <td>NaN</td>\n",
       "      <td>1.700000</td>\n",
       "      <td>0.966667</td>\n",
       "      <td>1227.106991</td>\n",
       "      <td>NaN</td>\n",
       "      <td>down_up</td>\n",
       "      <td>slow regular</td>\n",
       "      <td>CIT_WAY</td>\n",
       "      <td>0</td>\n",
       "      <td>0</td>\n",
       "    </tr>\n",
       "    <tr>\n",
       "      <th>4</th>\n",
       "      <td>4</td>\n",
       "      <td>4</td>\n",
       "      <td>107</td>\n",
       "      <td>0.860671</td>\n",
       "      <td>6.983333</td>\n",
       "      <td>CIT_09_2018-07-03</td>\n",
       "      <td>NaN</td>\n",
       "      <td>1.366667</td>\n",
       "      <td>0.433333</td>\n",
       "      <td>626.234746</td>\n",
       "      <td>NaN</td>\n",
       "      <td>down_up</td>\n",
       "      <td>slow irregular</td>\n",
       "      <td>CIT_WAY</td>\n",
       "      <td>0</td>\n",
       "      <td>0</td>\n",
       "    </tr>\n",
       "  </tbody>\n",
       "</table>\n",
       "</div>"
      ],
      "text/plain": [
       "   Cluster_ID  Cluster_ID.1  spike_cluster    CV ISI  Firing Rate  \\\n",
       "0           0             0              4  0.521050    14.251111   \n",
       "1           1             1             50  0.491941    29.060000   \n",
       "2           2             2             96  0.250473    17.164722   \n",
       "3           3             3             97  0.719563     5.984444   \n",
       "4           4             4            107  0.860671     6.983333   \n",
       "\n",
       "           recording   SW_peak  SW_return  SW_troff  base_min_amp  \\\n",
       "0  CIT_09_2018-07-03  0.066667   0.433333  0.233333    358.625118   \n",
       "1  CIT_09_2018-07-03  0.066667   0.466667  0.233333    330.368218   \n",
       "2  CIT_09_2018-07-03       NaN   0.366667  0.266667    270.924649   \n",
       "3  CIT_09_2018-07-03       NaN   1.700000  0.966667   1227.106991   \n",
       "4  CIT_09_2018-07-03       NaN   1.366667  0.433333    626.234746   \n",
       "\n",
       "   min_max_amp  spike_type        category Experiment  labels  GMM_labels  \n",
       "0   428.742545  up_down_up    fast regular    CIT_WAY       0           1  \n",
       "1   381.340727  up_down_up    fast regular    CIT_WAY       1           1  \n",
       "2          NaN     down_up    fast regular    CIT_WAY       1           1  \n",
       "3          NaN     down_up    slow regular    CIT_WAY       0           0  \n",
       "4          NaN     down_up  slow irregular    CIT_WAY       0           0  "
      ]
     },
     "execution_count": 5,
     "metadata": {},
     "output_type": "execute_result"
    }
   ],
   "source": [
    "df = pd.read_csv(csv_files[0])\n",
    "df.head()"
   ]
  },
  {
   "cell_type": "code",
   "execution_count": 10,
   "metadata": {},
   "outputs": [],
   "source": [
    "labs = tuple(['Firing Rate', 'CV_ISI'])\n",
    "\n",
    "out = {}\n",
    "\n",
    "for group in df['GMM_labels'].unique():\n",
    "    df1 = df[df['GMM_labels']==group]\n",
    "    fr = df1['Firing Rate'].values\n",
    "    cv_isi = df1['CV ISI'].values\n",
    "    \n",
    "    for index, arr in enumerate([fr, cv_isi]):\n",
    "        bs_reps = dc.draw_bs_reps(arr, np.mean, 10000)  # draw 10000 bs samples, for each, calculate their mean\n",
    "        confidence_intervals = np.percentile(bs_reps, [2.5, 97.5])\n",
    "        out[group, labs[index]] = confidence_intervals\n"
   ]
  },
  {
   "cell_type": "code",
   "execution_count": 11,
   "metadata": {},
   "outputs": [
    {
     "name": "stdout",
     "output_type": "stream",
     "text": [
      "{(0, 'CV_ISI'): array([ 0.38379527,  0.49961517]),\n",
      " (0, 'Firing Rate'): array([ 3.83447544,  5.0391372 ]),\n",
      " (1, 'CV_ISI'): array([ 0.42344968,  0.6639677 ]),\n",
      " (1, 'Firing Rate'): array([ 16.83311237,  28.05606061]),\n",
      " (2, 'CV_ISI'): array([ 1.26711453,  1.73225522]),\n",
      " (2, 'Firing Rate'): array([ 1.75994526,  3.25831781])}\n"
     ]
    }
   ],
   "source": [
    "from pprint import pprint as pp\n",
    "\n",
    "pp(out)"
   ]
  },
  {
   "cell_type": "code",
   "execution_count": 12,
   "metadata": {},
   "outputs": [
    {
     "data": {
      "text/plain": [
       "69"
      ]
     },
     "execution_count": 12,
     "metadata": {},
     "output_type": "execute_result"
    }
   ],
   "source": [
    "len(df)"
   ]
  },
  {
   "cell_type": "code",
   "execution_count": null,
   "metadata": {},
   "outputs": [],
   "source": []
  }
 ],
 "metadata": {
  "kernelspec": {
   "display_name": "Python 3",
   "language": "python",
   "name": "python3"
  },
  "language_info": {
   "codemirror_mode": {
    "name": "ipython",
    "version": 3
   },
   "file_extension": ".py",
   "mimetype": "text/x-python",
   "name": "python",
   "nbconvert_exporter": "python",
   "pygments_lexer": "ipython3",
   "version": "3.6.3"
  }
 },
 "nbformat": 4,
 "nbformat_minor": 2
}
