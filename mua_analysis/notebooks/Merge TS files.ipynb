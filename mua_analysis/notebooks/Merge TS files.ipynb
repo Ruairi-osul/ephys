{
 "cells": [
  {
   "cell_type": "code",
   "execution_count": 1,
   "metadata": {},
   "outputs": [],
   "source": [
    "import os\n",
    "import numpy as np\n",
    "import pandas as pd\n",
    "import seaborn as sns\n",
    "import matplotlib.pyplot as plt\n",
    "import matplotlib\n",
    "import matplotlib.patches as mpatches\n",
    "plt.style.use('ggplot')"
   ]
  },
  {
   "cell_type": "code",
   "execution_count": 2,
   "metadata": {},
   "outputs": [],
   "source": [
    "def load_data(path, csv_file_name):\n",
    "    if not csv_file_name.endswith('.csv'):\n",
    "        csv_file_name = ''.join([csv_file_name, '.csv'])\n",
    "    file_path = os.path.join(path, csv_file_name)\n",
    "    return pd.read_csv(file_path)\n"
   ]
  },
  {
   "cell_type": "code",
   "execution_count": 28,
   "metadata": {},
   "outputs": [],
   "source": [
    "font = {'fontname':'Calibri'}\n",
    "csv_dir = r'F:\\CIT_WAY\\data'\n",
    "csv_file_name = 'all_neurons_ts_with_clusters'\n",
    "csv_file_name_2 = 'all_neurons_ts_with_clusters_extra'\n",
    "csv_file_name_3 = 'all_neurons_ts_with_clusters_file1'"
   ]
  },
  {
   "cell_type": "code",
   "execution_count": 29,
   "metadata": {},
   "outputs": [],
   "source": [
    "df_1 = load_data(path=csv_dir,\n",
    "                            csv_file_name=csv_file_name)\n",
    "df_2 = load_data(path=csv_dir,\n",
    "                            csv_file_name=csv_file_name_2)\n",
    "df_3 = load_data(path=csv_dir,\n",
    "                            csv_file_name=csv_file_name_3)"
   ]
  },
  {
   "cell_type": "code",
   "execution_count": 30,
   "metadata": {},
   "outputs": [],
   "source": [
    "df_2 = df_2[df_2['recording'] != '2018-05-03_02']"
   ]
  },
  {
   "cell_type": "code",
   "execution_count": 31,
   "metadata": {},
   "outputs": [
    {
     "data": {
      "text/plain": [
       "array(['CIT_14_2018-07-06', 'CIT_11_2018-07-05', 'CIT_10_2018-07-04',\n",
       "       'CIT_09_2018-07-03'], dtype=object)"
      ]
     },
     "execution_count": 31,
     "metadata": {},
     "output_type": "execute_result"
    }
   ],
   "source": [
    "df_1['recording'].unique()"
   ]
  },
  {
   "cell_type": "code",
   "execution_count": 32,
   "metadata": {},
   "outputs": [
    {
     "data": {
      "text/plain": [
       "array(['2018-05-20_05'], dtype=object)"
      ]
     },
     "execution_count": 32,
     "metadata": {},
     "output_type": "execute_result"
    }
   ],
   "source": [
    "df_2['recording'].unique()"
   ]
  },
  {
   "cell_type": "code",
   "execution_count": 33,
   "metadata": {},
   "outputs": [
    {
     "data": {
      "text/plain": [
       "array(['2018-05-01_01'], dtype=object)"
      ]
     },
     "execution_count": 33,
     "metadata": {},
     "output_type": "execute_result"
    }
   ],
   "source": [
    "df_3['recording'].unique()"
   ]
  },
  {
   "cell_type": "code",
   "execution_count": 34,
   "metadata": {},
   "outputs": [],
   "source": [
    "df_concat = pd.concat([df_1, df_2, df_3],axis=0)"
   ]
  },
  {
   "cell_type": "code",
   "execution_count": 36,
   "metadata": {},
   "outputs": [],
   "source": [
    "df_concat.reset_index(drop=True, inplace=True)\n",
    "df_concat.index.name = 'Cluster_ID'"
   ]
  },
  {
   "cell_type": "code",
   "execution_count": 37,
   "metadata": {},
   "outputs": [],
   "source": [
    "df_criteria = pd.read_csv(r'G:\\Concatenated_stats_with_clusters2.csv')"
   ]
  },
  {
   "cell_type": "code",
   "execution_count": 38,
   "metadata": {},
   "outputs": [],
   "source": [
    "df_criteria_cit = df_criteria[df_criteria['Experiment']=='CIT_WAY']"
   ]
  },
  {
   "cell_type": "code",
   "execution_count": 39,
   "metadata": {},
   "outputs": [],
   "source": [
    "df_concat.drop(labels='category', axis=1, inplace=True)"
   ]
  },
  {
   "cell_type": "code",
   "execution_count": 41,
   "metadata": {},
   "outputs": [],
   "source": [
    "df_ts_merge = pd.merge(left=df_concat,\n",
    "                       right=df_criteria_cit[['recording', 'category', 'spike_cluster']],\n",
    "                       left_on=['recording', 'spike_cluster'],\n",
    "                       right_on=['recording', 'spike_cluster'],\n",
    "                       how='right')"
   ]
  },
  {
   "cell_type": "code",
   "execution_count": 40,
   "metadata": {},
   "outputs": [
    {
     "name": "stdout",
     "output_type": "stream",
     "text": [
      "(4, 'CIT_09_2018-07-03')\n",
      "(17, 'CIT_11_2018-07-05')\n",
      "(20, '2018-05-01_01')\n",
      "(20, 'CIT_14_2018-07-06')\n",
      "(22, '2018-05-01_01')\n",
      "(24, '2018-05-01_01')\n",
      "(33, '2018-05-01_01')\n",
      "(45, '2018-05-20_05')\n",
      "(50, 'CIT_09_2018-07-03')\n",
      "(57, '2018-05-01_01')\n",
      "(79, '2018-05-01_01')\n",
      "(82, '2018-05-01_01')\n",
      "(95, '2018-05-20_05')\n",
      "(96, '2018-05-20_05')\n",
      "(96, 'CIT_09_2018-07-03')\n",
      "(97, '2018-05-20_05')\n",
      "(97, 'CIT_09_2018-07-03')\n",
      "(97, 'CIT_10_2018-07-04')\n",
      "(98, '2018-05-20_05')\n",
      "(98, 'CIT_10_2018-07-04')\n",
      "(98, 'CIT_11_2018-07-05')\n",
      "(100, 'CIT_11_2018-07-05')\n",
      "(106, 'CIT_14_2018-07-06')\n",
      "(107, 'CIT_09_2018-07-03')\n",
      "(108, 'CIT_09_2018-07-03')\n",
      "(123, '2018-05-01_01')\n",
      "(128, '2018-05-01_01')\n",
      "(129, '2018-05-01_01')\n"
     ]
    }
   ],
   "source": [
    "u = df_concat.groupby(['spike_cluster','recording'])\n",
    "\n",
    "for i,w in u:\n",
    "    print(i)"
   ]
  },
  {
   "cell_type": "code",
   "execution_count": 43,
   "metadata": {},
   "outputs": [
    {
     "name": "stdout",
     "output_type": "stream",
     "text": [
      "(4, 'CIT_09_2018-07-03')\n",
      "(17, 'CIT_11_2018-07-05')\n",
      "(20, '2018-05-01_01')\n",
      "(20, 'CIT_14_2018-07-06')\n",
      "(22, '2018-05-01_01')\n",
      "(24, '2018-05-01_01')\n",
      "(33, '2018-05-01_01')\n",
      "(45, '2018-05-20_05')\n",
      "(50, 'CIT_09_2018-07-03')\n",
      "(57, '2018-05-01_01')\n",
      "(79, '2018-05-01_01')\n",
      "(82, '2018-05-01_01')\n",
      "(95, '2018-05-20_05')\n",
      "(96, '2018-05-20_05')\n",
      "(96, 'CIT_09_2018-07-03')\n",
      "(97, '2018-05-20_05')\n",
      "(97, 'CIT_09_2018-07-03')\n",
      "(97, 'CIT_10_2018-07-04')\n",
      "(98, '2018-05-20_05')\n",
      "(98, 'CIT_11_2018-07-05')\n",
      "(100, 'CIT_11_2018-07-05')\n",
      "(106, 'CIT_14_2018-07-06')\n",
      "(107, 'CIT_09_2018-07-03')\n",
      "(108, 'CIT_09_2018-07-03')\n",
      "(123, '2018-05-01_01')\n",
      "(128, '2018-05-01_01')\n",
      "(129, '2018-05-01_01')\n"
     ]
    }
   ],
   "source": [
    "a = df_ts_merge.groupby(['spike_cluster','recording'])\n",
    "\n",
    "for b,c in a:\n",
    "    print(b)"
   ]
  },
  {
   "cell_type": "code",
   "execution_count": 42,
   "metadata": {},
   "outputs": [
    {
     "data": {
      "text/plain": [
       "array(['CIT_14_2018-07-06', 'CIT_11_2018-07-05', 'CIT_10_2018-07-04',\n",
       "       'CIT_09_2018-07-03', '2018-05-20_05', '2018-05-01_01'],\n",
       "      dtype=object)"
      ]
     },
     "execution_count": 42,
     "metadata": {},
     "output_type": "execute_result"
    }
   ],
   "source": [
    "df_ts_merge['recording'].unique()"
   ]
  },
  {
   "cell_type": "code",
   "execution_count": 44,
   "metadata": {},
   "outputs": [],
   "source": [
    "df_ts_merge.to_csv(r'G:\\final_ts.csv')"
   ]
  },
  {
   "cell_type": "code",
   "execution_count": 35,
   "metadata": {},
   "outputs": [
    {
     "data": {
      "text/plain": [
       "array(['CIT_14_2018-07-06', 'CIT_11_2018-07-05', 'CIT_10_2018-07-04',\n",
       "       'CIT_09_2018-07-03', '2018-05-20_05', '2018-05-01_01'],\n",
       "      dtype=object)"
      ]
     },
     "execution_count": 35,
     "metadata": {},
     "output_type": "execute_result"
    }
   ],
   "source": [
    "df_concat['recording'].unique()"
   ]
  },
  {
   "cell_type": "code",
   "execution_count": null,
   "metadata": {},
   "outputs": [],
   "source": []
  }
 ],
 "metadata": {
  "kernelspec": {
   "display_name": "Python 3",
   "language": "python",
   "name": "python3"
  },
  "language_info": {
   "codemirror_mode": {
    "name": "ipython",
    "version": 3
   },
   "file_extension": ".py",
   "mimetype": "text/x-python",
   "name": "python",
   "nbconvert_exporter": "python",
   "pygments_lexer": "ipython3",
   "version": "3.6.4"
  }
 },
 "nbformat": 4,
 "nbformat_minor": 2
}
