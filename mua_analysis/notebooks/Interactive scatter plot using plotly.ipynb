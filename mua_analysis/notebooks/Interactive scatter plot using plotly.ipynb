{
 "cells": [
  {
   "cell_type": "code",
   "execution_count": 9,
   "metadata": {},
   "outputs": [],
   "source": [
    "import os\n",
    "import matplotlib.pyplot as plt\n",
    "import matplotlib.cm as cm\n",
    "from scipy.cluster.hierarchy import dendrogram, linkage\n",
    "from sklearn.preprocessing import StandardScaler, MinMaxScaler, RobustScaler, Normalizer\n",
    "import numpy as np\n",
    "import pandas as pd\n",
    "import seaborn as sns\n",
    "from scipy.cluster.hierarchy import fcluster, set_link_color_palette\n",
    "from sklearn.cluster import KMeans\n",
    "from sklearn.decomposition import PCA\n",
    "from sklearn.manifold import TSNE\n",
    "from sklearn.metrics import silhouette_samples, silhouette_score\n",
    "from sklearn.mixture import GaussianMixture as GM\n",
    "import plotly\n",
    "import plotly.graph_objs as go\n",
    "import dc_stat_think as dcst\n",
    "import dabest\n",
    "sep = '/'\n",
    "plt.style.use('ggplot')\n",
    "plt.rcParams['axes.facecolor']='#f2efef'"
   ]
  },
  {
   "cell_type": "code",
   "execution_count": 2,
   "metadata": {},
   "outputs": [],
   "source": [
    "font = {'fontname':'Calibri'}"
   ]
  },
  {
   "cell_type": "code",
   "execution_count": 6,
   "metadata": {},
   "outputs": [],
   "source": [
    "def generate_name_tag(df):\n",
    "    return str(df['spike_cluster']) + ' Recording: ' +df['recording']\n"
   ]
  },
  {
   "cell_type": "markdown",
   "metadata": {},
   "source": [
    "### Load data"
   ]
  },
  {
   "cell_type": "code",
   "execution_count": 3,
   "metadata": {},
   "outputs": [],
   "source": [
    "recording = r'E:\\CIT_WAY\\dat_files\\cat\\csvs'\n",
    "filename ='neuron_stats.csv'"
   ]
  },
  {
   "cell_type": "code",
   "execution_count": 4,
   "metadata": {},
   "outputs": [],
   "source": [
    "df = pd.read_csv(os.sep.join([recording, filename]))\n",
    "df.index.name = 'Cluster_ID'\n",
    "df = df[pd.notnull(df['SW_troff'])]"
   ]
  },
  {
   "cell_type": "code",
   "execution_count": 5,
   "metadata": {},
   "outputs": [],
   "source": [
    "df_saline = df[(df['recording']=='Chronic_03_2018-07-29')|(df['recording']=='Chronic_11_2018-08-04')|(df['recording']=='Chronic_13_2018_08_08')|(df['recording']=='Chronic_14_2018-08-14')|(df['recording']=='Chronic_31_2018-08-10')]\n",
    "df_saline = df_saline[(df_saline['CV ISI'] != 0)&(df_saline['Firing Rate'] != 0)]\n",
    "df_saline = df_saline[(df_saline['CV ISI']>0.2)&(df_saline['Firing Rate']>0.006)]"
   ]
  },
  {
   "cell_type": "markdown",
   "metadata": {},
   "source": [
    "### Generate name tag for each cluster, this is to show the cluster number and its corresponding recording on the plotly plot"
   ]
  },
  {
   "cell_type": "code",
   "execution_count": 7,
   "metadata": {},
   "outputs": [],
   "source": [
    "df_saline['name tag'] = df_saline.apply(generate_name_tag, axis=1)"
   ]
  },
  {
   "cell_type": "code",
   "execution_count": 8,
   "metadata": {},
   "outputs": [
    {
     "data": {
      "text/html": [
       "<script>requirejs.config({paths: { 'plotly': ['https://cdn.plot.ly/plotly-latest.min']},});if(!window.Plotly) {{require(['plotly'],function(plotly) {window.Plotly=plotly;});}}</script>"
      ],
      "text/vnd.plotly.v1+html": [
       "<script>requirejs.config({paths: { 'plotly': ['https://cdn.plot.ly/plotly-latest.min']},});if(!window.Plotly) {{require(['plotly'],function(plotly) {window.Plotly=plotly;});}}</script>"
      ]
     },
     "metadata": {},
     "output_type": "display_data"
    },
    {
     "data": {
      "application/vnd.plotly.v1+json": {
       "data": [
        {
         "mode": "markers",
         "text": [
          "3 Recording: Chronic_03_2018-07-29",
          "6 Recording: Chronic_03_2018-07-29",
          "8 Recording: Chronic_03_2018-07-29",
          "10 Recording: Chronic_03_2018-07-29",
          "11 Recording: Chronic_03_2018-07-29",
          "12 Recording: Chronic_03_2018-07-29",
          "18 Recording: Chronic_03_2018-07-29",
          "20 Recording: Chronic_03_2018-07-29",
          "26 Recording: Chronic_03_2018-07-29",
          "35 Recording: Chronic_03_2018-07-29",
          "52 Recording: Chronic_03_2018-07-29",
          "62 Recording: Chronic_03_2018-07-29",
          "63 Recording: Chronic_03_2018-07-29",
          "64 Recording: Chronic_03_2018-07-29",
          "66 Recording: Chronic_03_2018-07-29",
          "73 Recording: Chronic_03_2018-07-29",
          "6 Recording: Chronic_11_2018-08-04",
          "56 Recording: Chronic_11_2018-08-04",
          "96 Recording: Chronic_11_2018-08-04",
          "99 Recording: Chronic_11_2018-08-04",
          "120 Recording: Chronic_11_2018-08-04",
          "121 Recording: Chronic_11_2018-08-04",
          "5 Recording: Chronic_13_2018_08_08",
          "9 Recording: Chronic_13_2018_08_08",
          "12 Recording: Chronic_13_2018_08_08",
          "38 Recording: Chronic_13_2018_08_08",
          "51 Recording: Chronic_13_2018_08_08",
          "95 Recording: Chronic_13_2018_08_08",
          "97 Recording: Chronic_13_2018_08_08",
          "98 Recording: Chronic_13_2018_08_08",
          "100 Recording: Chronic_13_2018_08_08",
          "32 Recording: Chronic_14_2018-08-14",
          "84 Recording: Chronic_14_2018-08-14",
          "96 Recording: Chronic_14_2018-08-14",
          "97 Recording: Chronic_14_2018-08-14",
          "98 Recording: Chronic_14_2018-08-14",
          "99 Recording: Chronic_14_2018-08-14",
          "101 Recording: Chronic_14_2018-08-14",
          "11 Recording: Chronic_31_2018-08-10",
          "12 Recording: Chronic_31_2018-08-10",
          "17 Recording: Chronic_31_2018-08-10",
          "33 Recording: Chronic_31_2018-08-10",
          "42 Recording: Chronic_31_2018-08-10",
          "45 Recording: Chronic_31_2018-08-10",
          "49 Recording: Chronic_31_2018-08-10",
          "54 Recording: Chronic_31_2018-08-10",
          "60 Recording: Chronic_31_2018-08-10",
          "72 Recording: Chronic_31_2018-08-10",
          "81 Recording: Chronic_31_2018-08-10",
          "82 Recording: Chronic_31_2018-08-10",
          "84 Recording: Chronic_31_2018-08-10",
          "86 Recording: Chronic_31_2018-08-10",
          "105 Recording: Chronic_31_2018-08-10"
         ],
         "type": "scatter",
         "x": [
          0.483784837,
          0.951213479,
          0.6163469779999999,
          0.8881294209999999,
          0.575007449,
          0.318242355,
          0.811280032,
          0.964836535,
          0.667628739,
          0.970338663,
          0.543309127,
          0.7417280079999999,
          0.465726838,
          0.989809408,
          0.399998746,
          0.66264023,
          0.537221464,
          3.524964269,
          0.64145604,
          0.392219637,
          0.628330915,
          0.650349463,
          0.499961063,
          0.910548419,
          0.460634062,
          2.400955878,
          0.434714714,
          0.775637913,
          1.178846132,
          0.238719958,
          1.274885667,
          0.406213338,
          0.919728343,
          1.061362593,
          0.982637111,
          1.024059207,
          0.7000869359999999,
          0.743238173,
          1.4592898019999998,
          0.7891565840000001,
          0.699636653,
          1.128677444,
          1.318620076,
          0.481304118,
          0.304605246,
          0.964614762,
          1.496988051,
          1.169813988,
          0.7996641870000001,
          0.798994193,
          1.093594955,
          0.426421608,
          0.506893694
         ],
         "y": [
          33.34305556,
          0.841944444,
          0.063055556,
          0.242222222,
          7.736388889,
          16.92583333,
          17.35777778,
          2.685833333,
          0.369444444,
          1.395555556,
          14.60527778,
          5.6461111110000015,
          30.12222222,
          3.878888889,
          21.72583333,
          16.35972222,
          4.095833333,
          1.128611111,
          2.8036111110000004,
          0.023333333,
          5.938611111,
          4.981111111000001,
          5.863888889,
          2.4625,
          13.78166667,
          2.951666667,
          39.64083333,
          6.709166667000001,
          22.04888889,
          11.89972222,
          4.985277778,
          0.092222222,
          1.565833333,
          1.998055556,
          0.249444444,
          0.957222222,
          2.590833333,
          6.783888889,
          4.495833333,
          0.703333333,
          2.556666667,
          1.280555556,
          3.1152777780000003,
          0.015277778,
          2.444166667,
          1.4305555559999998,
          1.625833333,
          3.941944444,
          1.858055556,
          1.611944444,
          1.115277778,
          0.637777778,
          0.326111111
         ]
        }
       ],
       "layout": {
        "autosize": false,
        "height": 700,
        "hovermode": "closest",
        "showlegend": false,
        "title": "Scatterplot of CV ISI vs Firing Rate",
        "width": 700,
        "xaxis": {
         "gridwidth": 1,
         "ticklen": 5,
         "title": "CV ISI",
         "zeroline": false
        },
        "yaxis": {
         "gridwidth": 1,
         "ticklen": 5,
         "title": "Firing Rate"
        }
       }
      },
      "text/html": [
       "<div id=\"a2eee066-3258-40be-a5ef-0db8797189be\" style=\"height: 700px; width: 700px;\" class=\"plotly-graph-div\"></div><script type=\"text/javascript\">require([\"plotly\"], function(Plotly) { window.PLOTLYENV=window.PLOTLYENV || {};window.PLOTLYENV.BASE_URL=\"https://plot.ly\";Plotly.newPlot(\"a2eee066-3258-40be-a5ef-0db8797189be\", [{\"type\": \"scatter\", \"x\": [0.483784837, 0.951213479, 0.6163469779999999, 0.8881294209999999, 0.575007449, 0.318242355, 0.811280032, 0.964836535, 0.667628739, 0.970338663, 0.543309127, 0.7417280079999999, 0.465726838, 0.989809408, 0.399998746, 0.66264023, 0.537221464, 3.524964269, 0.64145604, 0.392219637, 0.628330915, 0.650349463, 0.499961063, 0.910548419, 0.460634062, 2.400955878, 0.434714714, 0.775637913, 1.178846132, 0.238719958, 1.274885667, 0.406213338, 0.919728343, 1.061362593, 0.982637111, 1.024059207, 0.7000869359999999, 0.743238173, 1.4592898019999998, 0.7891565840000001, 0.699636653, 1.128677444, 1.318620076, 0.481304118, 0.304605246, 0.964614762, 1.496988051, 1.169813988, 0.7996641870000001, 0.798994193, 1.093594955, 0.426421608, 0.506893694], \"y\": [33.34305556, 0.841944444, 0.063055556, 0.242222222, 7.736388889, 16.92583333, 17.35777778, 2.685833333, 0.369444444, 1.395555556, 14.60527778, 5.6461111110000015, 30.12222222, 3.878888889, 21.72583333, 16.35972222, 4.095833333, 1.128611111, 2.8036111110000004, 0.023333333, 5.938611111, 4.981111111000001, 5.863888889, 2.4625, 13.78166667, 2.951666667, 39.64083333, 6.709166667000001, 22.04888889, 11.89972222, 4.985277778, 0.092222222, 1.565833333, 1.998055556, 0.249444444, 0.957222222, 2.590833333, 6.783888889, 4.495833333, 0.703333333, 2.556666667, 1.280555556, 3.1152777780000003, 0.015277778, 2.444166667, 1.4305555559999998, 1.625833333, 3.941944444, 1.858055556, 1.611944444, 1.115277778, 0.637777778, 0.326111111], \"mode\": \"markers\", \"text\": [\"3 Recording: Chronic_03_2018-07-29\", \"6 Recording: Chronic_03_2018-07-29\", \"8 Recording: Chronic_03_2018-07-29\", \"10 Recording: Chronic_03_2018-07-29\", \"11 Recording: Chronic_03_2018-07-29\", \"12 Recording: Chronic_03_2018-07-29\", \"18 Recording: Chronic_03_2018-07-29\", \"20 Recording: Chronic_03_2018-07-29\", \"26 Recording: Chronic_03_2018-07-29\", \"35 Recording: Chronic_03_2018-07-29\", \"52 Recording: Chronic_03_2018-07-29\", \"62 Recording: Chronic_03_2018-07-29\", \"63 Recording: Chronic_03_2018-07-29\", \"64 Recording: Chronic_03_2018-07-29\", \"66 Recording: Chronic_03_2018-07-29\", \"73 Recording: Chronic_03_2018-07-29\", \"6 Recording: Chronic_11_2018-08-04\", \"56 Recording: Chronic_11_2018-08-04\", \"96 Recording: Chronic_11_2018-08-04\", \"99 Recording: Chronic_11_2018-08-04\", \"120 Recording: Chronic_11_2018-08-04\", \"121 Recording: Chronic_11_2018-08-04\", \"5 Recording: Chronic_13_2018_08_08\", \"9 Recording: Chronic_13_2018_08_08\", \"12 Recording: Chronic_13_2018_08_08\", \"38 Recording: Chronic_13_2018_08_08\", \"51 Recording: Chronic_13_2018_08_08\", \"95 Recording: Chronic_13_2018_08_08\", \"97 Recording: Chronic_13_2018_08_08\", \"98 Recording: Chronic_13_2018_08_08\", \"100 Recording: Chronic_13_2018_08_08\", \"32 Recording: Chronic_14_2018-08-14\", \"84 Recording: Chronic_14_2018-08-14\", \"96 Recording: Chronic_14_2018-08-14\", \"97 Recording: Chronic_14_2018-08-14\", \"98 Recording: Chronic_14_2018-08-14\", \"99 Recording: Chronic_14_2018-08-14\", \"101 Recording: Chronic_14_2018-08-14\", \"11 Recording: Chronic_31_2018-08-10\", \"12 Recording: Chronic_31_2018-08-10\", \"17 Recording: Chronic_31_2018-08-10\", \"33 Recording: Chronic_31_2018-08-10\", \"42 Recording: Chronic_31_2018-08-10\", \"45 Recording: Chronic_31_2018-08-10\", \"49 Recording: Chronic_31_2018-08-10\", \"54 Recording: Chronic_31_2018-08-10\", \"60 Recording: Chronic_31_2018-08-10\", \"72 Recording: Chronic_31_2018-08-10\", \"81 Recording: Chronic_31_2018-08-10\", \"82 Recording: Chronic_31_2018-08-10\", \"84 Recording: Chronic_31_2018-08-10\", \"86 Recording: Chronic_31_2018-08-10\", \"105 Recording: Chronic_31_2018-08-10\"]}], {\"title\": \"Scatterplot of CV ISI vs Firing Rate\", \"autosize\": false, \"width\": 700, \"height\": 700, \"hovermode\": \"closest\", \"xaxis\": {\"title\": \"CV ISI\", \"ticklen\": 5, \"zeroline\": false, \"gridwidth\": 1}, \"yaxis\": {\"title\": \"Firing Rate\", \"ticklen\": 5, \"gridwidth\": 1}, \"showlegend\": false}, {\"showLink\": true, \"linkText\": \"Export to plot.ly\"})});</script>"
      ],
      "text/vnd.plotly.v1+html": [
       "<div id=\"a2eee066-3258-40be-a5ef-0db8797189be\" style=\"height: 700px; width: 700px;\" class=\"plotly-graph-div\"></div><script type=\"text/javascript\">require([\"plotly\"], function(Plotly) { window.PLOTLYENV=window.PLOTLYENV || {};window.PLOTLYENV.BASE_URL=\"https://plot.ly\";Plotly.newPlot(\"a2eee066-3258-40be-a5ef-0db8797189be\", [{\"type\": \"scatter\", \"x\": [0.483784837, 0.951213479, 0.6163469779999999, 0.8881294209999999, 0.575007449, 0.318242355, 0.811280032, 0.964836535, 0.667628739, 0.970338663, 0.543309127, 0.7417280079999999, 0.465726838, 0.989809408, 0.399998746, 0.66264023, 0.537221464, 3.524964269, 0.64145604, 0.392219637, 0.628330915, 0.650349463, 0.499961063, 0.910548419, 0.460634062, 2.400955878, 0.434714714, 0.775637913, 1.178846132, 0.238719958, 1.274885667, 0.406213338, 0.919728343, 1.061362593, 0.982637111, 1.024059207, 0.7000869359999999, 0.743238173, 1.4592898019999998, 0.7891565840000001, 0.699636653, 1.128677444, 1.318620076, 0.481304118, 0.304605246, 0.964614762, 1.496988051, 1.169813988, 0.7996641870000001, 0.798994193, 1.093594955, 0.426421608, 0.506893694], \"y\": [33.34305556, 0.841944444, 0.063055556, 0.242222222, 7.736388889, 16.92583333, 17.35777778, 2.685833333, 0.369444444, 1.395555556, 14.60527778, 5.6461111110000015, 30.12222222, 3.878888889, 21.72583333, 16.35972222, 4.095833333, 1.128611111, 2.8036111110000004, 0.023333333, 5.938611111, 4.981111111000001, 5.863888889, 2.4625, 13.78166667, 2.951666667, 39.64083333, 6.709166667000001, 22.04888889, 11.89972222, 4.985277778, 0.092222222, 1.565833333, 1.998055556, 0.249444444, 0.957222222, 2.590833333, 6.783888889, 4.495833333, 0.703333333, 2.556666667, 1.280555556, 3.1152777780000003, 0.015277778, 2.444166667, 1.4305555559999998, 1.625833333, 3.941944444, 1.858055556, 1.611944444, 1.115277778, 0.637777778, 0.326111111], \"mode\": \"markers\", \"text\": [\"3 Recording: Chronic_03_2018-07-29\", \"6 Recording: Chronic_03_2018-07-29\", \"8 Recording: Chronic_03_2018-07-29\", \"10 Recording: Chronic_03_2018-07-29\", \"11 Recording: Chronic_03_2018-07-29\", \"12 Recording: Chronic_03_2018-07-29\", \"18 Recording: Chronic_03_2018-07-29\", \"20 Recording: Chronic_03_2018-07-29\", \"26 Recording: Chronic_03_2018-07-29\", \"35 Recording: Chronic_03_2018-07-29\", \"52 Recording: Chronic_03_2018-07-29\", \"62 Recording: Chronic_03_2018-07-29\", \"63 Recording: Chronic_03_2018-07-29\", \"64 Recording: Chronic_03_2018-07-29\", \"66 Recording: Chronic_03_2018-07-29\", \"73 Recording: Chronic_03_2018-07-29\", \"6 Recording: Chronic_11_2018-08-04\", \"56 Recording: Chronic_11_2018-08-04\", \"96 Recording: Chronic_11_2018-08-04\", \"99 Recording: Chronic_11_2018-08-04\", \"120 Recording: Chronic_11_2018-08-04\", \"121 Recording: Chronic_11_2018-08-04\", \"5 Recording: Chronic_13_2018_08_08\", \"9 Recording: Chronic_13_2018_08_08\", \"12 Recording: Chronic_13_2018_08_08\", \"38 Recording: Chronic_13_2018_08_08\", \"51 Recording: Chronic_13_2018_08_08\", \"95 Recording: Chronic_13_2018_08_08\", \"97 Recording: Chronic_13_2018_08_08\", \"98 Recording: Chronic_13_2018_08_08\", \"100 Recording: Chronic_13_2018_08_08\", \"32 Recording: Chronic_14_2018-08-14\", \"84 Recording: Chronic_14_2018-08-14\", \"96 Recording: Chronic_14_2018-08-14\", \"97 Recording: Chronic_14_2018-08-14\", \"98 Recording: Chronic_14_2018-08-14\", \"99 Recording: Chronic_14_2018-08-14\", \"101 Recording: Chronic_14_2018-08-14\", \"11 Recording: Chronic_31_2018-08-10\", \"12 Recording: Chronic_31_2018-08-10\", \"17 Recording: Chronic_31_2018-08-10\", \"33 Recording: Chronic_31_2018-08-10\", \"42 Recording: Chronic_31_2018-08-10\", \"45 Recording: Chronic_31_2018-08-10\", \"49 Recording: Chronic_31_2018-08-10\", \"54 Recording: Chronic_31_2018-08-10\", \"60 Recording: Chronic_31_2018-08-10\", \"72 Recording: Chronic_31_2018-08-10\", \"81 Recording: Chronic_31_2018-08-10\", \"82 Recording: Chronic_31_2018-08-10\", \"84 Recording: Chronic_31_2018-08-10\", \"86 Recording: Chronic_31_2018-08-10\", \"105 Recording: Chronic_31_2018-08-10\"]}], {\"title\": \"Scatterplot of CV ISI vs Firing Rate\", \"autosize\": false, \"width\": 700, \"height\": 700, \"hovermode\": \"closest\", \"xaxis\": {\"title\": \"CV ISI\", \"ticklen\": 5, \"zeroline\": false, \"gridwidth\": 1}, \"yaxis\": {\"title\": \"Firing Rate\", \"ticklen\": 5, \"gridwidth\": 1}, \"showlegend\": false}, {\"showLink\": true, \"linkText\": \"Export to plot.ly\"})});</script>"
      ]
     },
     "metadata": {},
     "output_type": "display_data"
    }
   ],
   "source": [
    "plotly.offline.init_notebook_mode(connected=True)\n",
    "\n",
    "trace = go.Scatter(\n",
    "    x = df_saline['CV ISI'],\n",
    "    y = df_saline['Firing Rate'],\n",
    "    mode = 'markers',\n",
    "    text = df_saline['name tag']\n",
    ")\n",
    "\n",
    "layout= go.Layout(\n",
    "    title= 'Scatterplot of CV ISI vs Firing Rate',\n",
    "    autosize=False,\n",
    "    width=700,\n",
    "    height=700,\n",
    "    hovermode= 'closest',\n",
    "    xaxis= dict(\n",
    "        title= 'CV ISI',\n",
    "        ticklen= 5,\n",
    "        zeroline= False,\n",
    "        gridwidth= 1,\n",
    "    ),\n",
    "    yaxis=dict(\n",
    "        title='Firing Rate',\n",
    "        ticklen=5,\n",
    "        gridwidth=1,\n",
    "    ),\n",
    "    showlegend=False\n",
    ")\n",
    "\n",
    "data = [trace]\n",
    "fig = go.Figure(data=data, layout=layout)\n",
    "\n",
    "# Plot and embed in ipython notebook!\n",
    "plotly.offline.iplot(fig)"
   ]
  },
  {
   "cell_type": "code",
   "execution_count": null,
   "metadata": {},
   "outputs": [],
   "source": []
  }
 ],
 "metadata": {
  "kernelspec": {
   "display_name": "Python 3",
   "language": "python",
   "name": "python3"
  },
  "language_info": {
   "codemirror_mode": {
    "name": "ipython",
    "version": 3
   },
   "file_extension": ".py",
   "mimetype": "text/x-python",
   "name": "python",
   "nbconvert_exporter": "python",
   "pygments_lexer": "ipython3",
   "version": "3.6.4"
  }
 },
 "nbformat": 4,
 "nbformat_minor": 2
}
