{
 "cells": [
  {
   "cell_type": "code",
   "execution_count": 1,
   "metadata": {},
   "outputs": [],
   "source": [
    "import os\n",
    "from matplotlib import pyplot as plt\n",
    "from scipy.cluster.hierarchy import dendrogram, linkage\n",
    "from sklearn.preprocessing import StandardScaler\n",
    "import numpy as np\n",
    "import pandas as pd\n",
    "import seaborn as sns\n",
    "from scipy.cluster.hierarchy import fcluster\n",
    "from sklearn.cluster import KMeans\n",
    "from sklearn.decomposition import PCA\n",
    "from sklearn.manifold import TSNE\n",
    "sep = '/'"
   ]
  },
  {
   "cell_type": "code",
   "execution_count": 2,
   "metadata": {},
   "outputs": [],
   "source": [
    "fr_thresh = 4.5\n",
    "ISI_thresh = 0.55\n",
    "recording_CIT = r'F:\\CIT_WAY\\csvs'\n",
    "filename = 'neuron_stats.csv'\n",
    "recording_SERT = r'F:\\SERT_DREAD\\Combined_binary_files_probe\\csvs'\n",
    "out_dir = r'F:'\n",
    "out_filename = 'concatenated_stats.csv'"
   ]
  },
  {
   "cell_type": "code",
   "execution_count": 3,
   "metadata": {},
   "outputs": [],
   "source": [
    "df_CIT = pd.read_csv(os.sep.join([recording_CIT, filename]))\n",
    "df_CIT['Experiment'] = 'CIT_WAY'"
   ]
  },
  {
   "cell_type": "code",
   "execution_count": 4,
   "metadata": {},
   "outputs": [],
   "source": [
    "df_SERT = pd.read_csv(os.sep.join([recording_SERT, filename]))\n",
    "df_SERT['Experiment'] = 'SERT_DREADD'"
   ]
  },
  {
   "cell_type": "code",
   "execution_count": 5,
   "metadata": {},
   "outputs": [],
   "source": [
    "df_concat = pd.concat([df_CIT, df_SERT],axis=0)\n",
    "df_concat.reset_index(drop=True, inplace=True)\n",
    "df_concat.index.name = 'Cluster_ID'\n",
    "df_concat = df_concat[pd.notnull(df_concat['SW_troff'])]\n",
    "df_concat.to_csv(os.sep.join([out_dir, out_filename]))"
   ]
  },
  {
   "cell_type": "code",
   "execution_count": null,
   "metadata": {},
   "outputs": [],
   "source": []
  }
 ],
 "metadata": {
  "kernelspec": {
   "display_name": "Python 3",
   "language": "python",
   "name": "python3"
  },
  "language_info": {
   "codemirror_mode": {
    "name": "ipython",
    "version": 3
   },
   "file_extension": ".py",
   "mimetype": "text/x-python",
   "name": "python",
   "nbconvert_exporter": "python",
   "pygments_lexer": "ipython3",
   "version": "3.6.4"
  }
 },
 "nbformat": 4,
 "nbformat_minor": 2
}
