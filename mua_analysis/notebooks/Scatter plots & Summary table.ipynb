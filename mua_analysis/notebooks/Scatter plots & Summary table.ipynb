{
 "cells": [
  {
   "cell_type": "code",
   "execution_count": 1,
   "metadata": {},
   "outputs": [],
   "source": [
    "import os\n",
    "import matplotlib.pyplot as plt\n",
    "import matplotlib.cm as cm\n",
    "from scipy.cluster.hierarchy import dendrogram, linkage\n",
    "from sklearn.preprocessing import StandardScaler, MinMaxScaler, RobustScaler, Normalizer\n",
    "import numpy as np\n",
    "import pandas as pd\n",
    "import seaborn as sns\n",
    "from scipy.cluster.hierarchy import fcluster, set_link_color_palette\n",
    "from sklearn.cluster import KMeans\n",
    "from sklearn.decomposition import PCA\n",
    "from sklearn.manifold import TSNE\n",
    "from sklearn.metrics import silhouette_samples, silhouette_score\n",
    "from sklearn.mixture import GaussianMixture as GM\n",
    "import dc_stat_think as dcst\n",
    "import dabest\n",
    "sep = '/'\n",
    "plt.style.use('ggplot')\n",
    "plt.rcParams['axes.facecolor']='#f2efef'"
   ]
  },
  {
   "cell_type": "code",
   "execution_count": 2,
   "metadata": {},
   "outputs": [],
   "source": [
    "font = {'fontname':'Calibri'}"
   ]
  },
  {
   "cell_type": "markdown",
   "metadata": {},
   "source": [
    "### Load csv, index out citalopram recordings"
   ]
  },
  {
   "cell_type": "code",
   "execution_count": 3,
   "metadata": {},
   "outputs": [],
   "source": [
    "recording = r'E:\\CIT_WAY\\dat_files\\cat\\csvs'\n",
    "filename ='neuron_stats.csv'\n",
    "figpath = r'C:\\Users\\ASUS\\Desktop\\Images\\Clustered Scatterplot'\n",
    "figname = 'Chronic Clusters.png'"
   ]
  },
  {
   "cell_type": "code",
   "execution_count": 4,
   "metadata": {},
   "outputs": [],
   "source": [
    "df = pd.read_csv(os.sep.join([recording, filename]))\n",
    "df.index.name = 'Cluster_ID'\n",
    "df = df[pd.notnull(df['SW_troff'])]"
   ]
  },
  {
   "cell_type": "code",
   "execution_count": 5,
   "metadata": {},
   "outputs": [],
   "source": [
    "df_cit = df[(df['recording']=='Chronic_04_2018-08-05')|(df['recording']=='Chronic_30_2018-07-28')|(df['recording']=='Chronic_40_2018-08-13')|(df['recording']=='Chronic_41_2018-08-09')]\n",
    "df_cit = df_cit[(df_cit['CV ISI'] != 0)&(df_cit['Firing Rate'] != 0)]"
   ]
  },
  {
   "cell_type": "markdown",
   "metadata": {},
   "source": [
    "### Scale and label data with GMM"
   ]
  },
  {
   "cell_type": "code",
   "execution_count": null,
   "metadata": {},
   "outputs": [],
   "source": [
    "scale =RobustScaler()\n",
    "scaled_data = scale.fit_transform(df_cit[['CV ISI', 'Firing Rate']])"
   ]
  },
  {
   "cell_type": "code",
   "execution_count": null,
   "metadata": {},
   "outputs": [],
   "source": [
    "gmm = GM(n_components=3, covariance_type='diag').fit(scaled_data)\n",
    "GMM_labels = gmm.predict(scaled_data)\n",
    "df_cit['GMM_labels']=list(GMM_labels)"
   ]
  },
  {
   "cell_type": "code",
   "execution_count": null,
   "metadata": {},
   "outputs": [],
   "source": [
    "sns.lmplot(data=df_cit, y='Firing Rate', x='CV ISI', fit_reg=False, legend= False, hue='GMM_labels', scatter_kws={'linewidths':1,'edgecolor':'grey', 's':500, 'alpha':0.8},palette=['#ee4035', '#0392cf', '#7bc043'], size=(20))\n",
    "plt.xlabel('CV ISI', **font, fontsize=90)\n",
    "plt.ylabel('Firing Rate [Hz]', **font, fontsize=90)\n",
    "plt.yticks(np.arange(0, 45, 5), **font, fontsize=80)\n",
    "plt.xticks(np.arange(0, 4, 0.5), **font, fontsize=80, rotation=70)\n",
    "plt.legend(['Fast Firing', 'Slow Regular', 'Slow Irregular'], prop={'size':50})\n",
    "plt.tight_layout()\n",
    "#plt.savefig(s.sep.join([figpath, figname]), dpi=600)\n",
    "plt.show()"
   ]
  },
  {
   "cell_type": "code",
   "execution_count": null,
   "metadata": {},
   "outputs": [],
   "source": []
  },
  {
   "cell_type": "markdown",
   "metadata": {},
   "source": [
    "# Plot using arbitrary cutoff"
   ]
  },
  {
   "cell_type": "markdown",
   "metadata": {},
   "source": [
    "#### Preferably this has been carried out using preprocess script"
   ]
  },
  {
   "cell_type": "code",
   "execution_count": null,
   "metadata": {},
   "outputs": [],
   "source": [
    "def neuron_category_mapper(row):\n",
    "\n",
    "    if (row['Firing Rate'] <= 10) & (row['CV ISI'] <= 0.8):\n",
    "        rate = 'slow'\n",
    "        reg = 'regular'\n",
    "    elif (row['Firing Rate'] <= 10) & (row['CV ISI'] >= 0.8):\n",
    "        rate = 'slow'\n",
    "        reg = 'irregular'\n",
    "    elif (row['Firing Rate'] > 10) & (row['Firing Rate'] <25):\n",
    "        rate= 'fast'\n",
    "        reg = 'firing'\n",
    "    else:\n",
    "        rate= 'V.fast'\n",
    "        reg = 'firing'\n",
    "    return ' '.join([rate, reg])\n"
   ]
  },
  {
   "cell_type": "code",
   "execution_count": null,
   "metadata": {},
   "outputs": [],
   "source": [
    "df_cit['category'] = df_cit.apply(neuron_category_mapper, axis=1)"
   ]
  },
  {
   "cell_type": "markdown",
   "metadata": {},
   "source": [
    "### Plot the arbitrary-labelled dataset"
   ]
  },
  {
   "cell_type": "code",
   "execution_count": null,
   "metadata": {},
   "outputs": [],
   "source": [
    "sns.lmplot(data=df_cit, y='Firing Rate', x='CV ISI', fit_reg=False, legend= False, hue='category', scatter_kws={'linewidths':1,'edgecolor':'grey', 's':500, 'alpha':0.8},palette=['#CCCC00','#7bc043', '#ee4035','#0392cf'], size=(20))\n",
    "plt.xlabel('CV ISI', **font, fontsize=90)\n",
    "plt.ylabel('Firing Rate [Hz]', **font, fontsize=90)\n",
    "plt.yticks(**font, fontsize=80)\n",
    "plt.xticks(**font, fontsize=80, rotation=70)\n",
    "plt.legend(['V.Fast Firing', 'Slow Irregular', 'Slow Regular', 'Fast Firing'], prop={'size':50})\n",
    "plt.tight_layout()\n",
    "#plt.savefig(r'C:\\Users\\ASUS\\Desktop\\Images\\Clustered Scatterplot\\Saline Clusters.png', dpi=600)\n",
    "plt.show()"
   ]
  },
  {
   "cell_type": "markdown",
   "metadata": {},
   "source": [
    "# Scatter plot with chosen clusters marked with a star"
   ]
  },
  {
   "cell_type": "markdown",
   "metadata": {},
   "source": [
    "### To find which cluster to mark, use the plotly plot in another notebook"
   ]
  },
  {
   "cell_type": "code",
   "execution_count": null,
   "metadata": {},
   "outputs": [],
   "source": [
    "df_chosen_cluster = df[(df['spike_cluster'] == 154) | (df['spike_cluster'] == 147) | (df['spike_cluster'] == 159) |(df['spike_cluster'] == 98) & (df['recording'] == '2018-05-20_05')]"
   ]
  },
  {
   "cell_type": "code",
   "execution_count": null,
   "metadata": {},
   "outputs": [],
   "source": [
    "path = r'C:\\Users\\ASUS\\Desktop\\Images'\n",
    "sns.lmplot(data=df, y='Firing Rate', x='CV ISI', fit_reg=False, legend= False, hue='GMM_labels', scatter_kws={'linewidths':1,'edgecolor':'grey', 's':500, 'alpha':0.7}, size=(20),  palette=['#0392cf', '#CCCC00', '#7bc043', '#ee4035'])\n",
    "plt.scatter(x=df_chosen_cluster['CV ISI'], y=df_chosen_cluster['Firing Rate'], c=df_chosen_cluster['colors'], alpha=1, s=3500, edgecolors='k', linewidths=1.5, marker='*')\n",
    "#plt.title('Scatterplot of Hierarchical Clustering', **font, fontsize=60)\n",
    "plt.xlabel('CV ISI', **font, fontsize=60)\n",
    "plt.ylabel('Firing Rate [Hz]', **font, fontsize=60)\n",
    "plt.yticks(**font, fontsize=50)\n",
    "plt.xticks(**font, fontsize=50, rotation=70)\n",
    "plt.legend(['Fast Firing','V.Fast Firing', 'Slow Irregular', 'Slow Regular'], prop={'size':50})\n",
    "plt.tight_layout()\n",
    "#plt.savefig(os.sep.join([path, 'Clustered Scatterplot', 'Clustered Scatterplot.png']), dpi=600)\n",
    "plt.show()\n"
   ]
  },
  {
   "cell_type": "markdown",
   "metadata": {},
   "source": [
    "### Generate the summary table for different neuron types"
   ]
  },
  {
   "cell_type": "markdown",
   "metadata": {},
   "source": [
    "The stats included are count, mean, std, min, and max for CV ISI and Firing Rate"
   ]
  },
  {
   "cell_type": "code",
   "execution_count": null,
   "metadata": {},
   "outputs": [],
   "source": [
    "df_cit.groupby('category')[['CV ISI', 'Firing Rate']].describe().loc[:, (slice('CV ISI', 'Firing Rate'), ['count', 'mean', 'std', 'min', 'max'])].transpose()"
   ]
  }
 ],
 "metadata": {
  "kernelspec": {
   "display_name": "Python 3",
   "language": "python",
   "name": "python3"
  },
  "language_info": {
   "codemirror_mode": {
    "name": "ipython",
    "version": 3
   },
   "file_extension": ".py",
   "mimetype": "text/x-python",
   "name": "python",
   "nbconvert_exporter": "python",
   "pygments_lexer": "ipython3",
   "version": "3.6.4"
  }
 },
 "nbformat": 4,
 "nbformat_minor": 2
}
