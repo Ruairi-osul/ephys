{
 "cells": [
  {
   "cell_type": "code",
   "execution_count": null,
   "metadata": {},
   "outputs": [],
   "source": [
    "import os\n",
    "import matplotlib.pyplot as plt\n",
    "import matplotlib.cm as cm\n",
    "from scipy.cluster.hierarchy import dendrogram, linkage\n",
    "from sklearn.preprocessing import StandardScaler, MinMaxScaler, RobustScaler, Normalizer\n",
    "import numpy as np\n",
    "import pandas as pd\n",
    "import seaborn as sns\n",
    "from scipy.cluster.hierarchy import fcluster, set_link_color_palette\n",
    "from sklearn.cluster import KMeans\n",
    "from sklearn.decomposition import PCA\n",
    "from sklearn.manifold import TSNE\n",
    "from sklearn.metrics import silhouette_samples, silhouette_score\n",
    "from sklearn.mixture import GaussianMixture as GM\n",
    "import dc_stat_think as dcst\n",
    "import dabest\n",
    "sep = '/'\n",
    "plt.style.use('ggplot')\n",
    "plt.rcParams['axes.facecolor']='#f2efef'"
   ]
  },
  {
   "cell_type": "code",
   "execution_count": null,
   "metadata": {},
   "outputs": [],
   "source": [
    "font = {'fontname':'Calibri'}"
   ]
  },
  {
   "cell_type": "markdown",
   "metadata": {},
   "source": [
    "### Open the csv and index out citalopram recordings"
   ]
  },
  {
   "cell_type": "code",
   "execution_count": null,
   "metadata": {},
   "outputs": [],
   "source": [
    "recording = r'E:\\CIT_WAY\\dat_files\\cat\\csvs'\n",
    "filename ='neuron_stats.csv'"
   ]
  },
  {
   "cell_type": "code",
   "execution_count": null,
   "metadata": {},
   "outputs": [],
   "source": [
    "df = pd.read_csv(os.sep.join([recording, filename]))\n",
    "df.index.name = 'Cluster_ID'\n",
    "df = df[pd.notnull(df['SW_troff'])]"
   ]
  },
  {
   "cell_type": "code",
   "execution_count": null,
   "metadata": {},
   "outputs": [],
   "source": [
    "df_cit = df[(df['recording']=='Chronic_04_2018-08-05')|(df['recording']=='Chronic_30_2018-07-28')|(df['recording']=='Chronic_40_2018-08-13')|(df['recording']=='Chronic_41_2018-08-09')]\n",
    "df_cit = df_cit[(df_cit['CV ISI'] != 0)&(df_cit['Firing Rate'] != 0)]\n"
   ]
  },
  {
   "cell_type": "markdown",
   "metadata": {},
   "source": [
    "### Scale the data and plot the elbow plot"
   ]
  },
  {
   "cell_type": "code",
   "execution_count": null,
   "metadata": {},
   "outputs": [],
   "source": [
    "scale =RobustScaler()\n",
    "scaled_data = scale.fit_transform(df_cit[['CV ISI', 'Firing Rate']])"
   ]
  },
  {
   "cell_type": "code",
   "execution_count": null,
   "metadata": {},
   "outputs": [],
   "source": [
    "cluster_range = range(1, 12)\n",
    "data = scaled_data\n",
    "inertias = []\n",
    "\n",
    "for clusters_no in cluster_range:\n",
    "    # Create a KMeans instance with k clusters: model\n",
    "    test_model = KMeans(clusters_no)\n",
    "    \n",
    "    # Fit model to samples\n",
    "    test_model.fit(data)\n",
    "    \n",
    "    # Append the inertia to the list of inertias\n",
    "    inertias.append(test_model.inertia_)\n",
    "    \n",
    "# Plot ks vs inertias\n",
    "plt.figure(figsize=(30, 30))\n",
    "plt.plot(cluster_range, inertias, '-o', linewidth=5, markersize=30)\n",
    "plt.xlabel('Number of clusters', **font, fontsize=80)\n",
    "plt.ylabel('Within-cluster sum-of-squares', **font, fontsize=80)\n",
    "plt.title('Hyperparameter tuning of KMeans cluster analysis', **font, fontsize=90)\n",
    "plt.xticks(cluster_range, **font, fontsize=50)\n",
    "plt.yticks(**font, fontsize=50)\n",
    "plt.tight_layout()\n",
    "#plt.savefig(figpath, dpi=600)\n",
    "plt.show()"
   ]
  }
 ],
 "metadata": {
  "kernelspec": {
   "display_name": "Python 3",
   "language": "python",
   "name": "python3"
  },
  "language_info": {
   "codemirror_mode": {
    "name": "ipython",
    "version": 3
   },
   "file_extension": ".py",
   "mimetype": "text/x-python",
   "name": "python",
   "nbconvert_exporter": "python",
   "pygments_lexer": "ipython3",
   "version": "3.6.4"
  }
 },
 "nbformat": 4,
 "nbformat_minor": 2
}
