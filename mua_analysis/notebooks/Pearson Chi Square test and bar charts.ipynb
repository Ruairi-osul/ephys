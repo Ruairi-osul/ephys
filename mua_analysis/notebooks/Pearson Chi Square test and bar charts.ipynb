{
 "cells": [
  {
   "cell_type": "code",
   "execution_count": null,
   "metadata": {},
   "outputs": [],
   "source": [
    "import os\n",
    "import matplotlib.pyplot as plt\n",
    "import matplotlib.cm as cm\n",
    "from scipy.cluster.hierarchy import dendrogram, linkage\n",
    "from sklearn.preprocessing import StandardScaler, MinMaxScaler, RobustScaler, Normalizer\n",
    "import numpy as np\n",
    "import pandas as pd\n",
    "import seaborn as sns\n",
    "from scipy.cluster.hierarchy import fcluster, set_link_color_palette\n",
    "from sklearn.cluster import KMeans\n",
    "from sklearn.decomposition import PCA\n",
    "from sklearn.manifold import TSNE\n",
    "from sklearn.metrics import silhouette_samples, silhouette_score\n",
    "from sklearn.mixture import GaussianMixture as GM\n",
    "import dc_stat_think as dcst\n",
    "from scipy.stats import chi2_contingency\n",
    "import dabest\n",
    "sep = '/'\n",
    "plt.style.use('ggplot')\n",
    "plt.rcParams['axes.facecolor']='#f2efef'"
   ]
  },
  {
   "cell_type": "code",
   "execution_count": null,
   "metadata": {},
   "outputs": [],
   "source": [
    "font = {'fontname':'Calibri'}"
   ]
  },
  {
   "cell_type": "code",
   "execution_count": null,
   "metadata": {},
   "outputs": [],
   "source": [
    "recording = r'E:\\CIT_WAY\\dat_files\\cat\\csvs'\n",
    "filename ='neuron_stats.csv'\n",
    "figpath = r'C:\\Users\\ASUS\\Desktop\\Images\\Pearson'\n",
    "figname = 'Pearson with labels.png'"
   ]
  },
  {
   "cell_type": "markdown",
   "metadata": {},
   "source": [
    "### Load data, separate into 2 dataframes for CIT and Saline groups"
   ]
  },
  {
   "cell_type": "code",
   "execution_count": null,
   "metadata": {},
   "outputs": [],
   "source": [
    "df = pd.read_csv(os.sep.join([recording, filename]))\n",
    "df.index.name = 'Cluster_ID'\n",
    "df = df[pd.notnull(df['SW_troff'])]"
   ]
  },
  {
   "cell_type": "code",
   "execution_count": null,
   "metadata": {},
   "outputs": [],
   "source": [
    "df_cit = df[(df['recording']=='Chronic_04_2018-08-05')|\n",
    "            (df['recording']=='Chronic_30_2018-07-28')|\n",
    "            (df['recording']=='Chronic_40_2018-08-13')|\n",
    "            (df['recording']=='Chronic_41_2018-08-09')]\n",
    "df_cit = df_cit[(df_cit['CV ISI'] != 0)&(df_cit['Firing Rate'] != 0)]"
   ]
  },
  {
   "cell_type": "code",
   "execution_count": null,
   "metadata": {},
   "outputs": [],
   "source": [
    "df_saline = df[(df['recording']=='Chronic_03_2018-07-29')|\n",
    "               (df['recording']=='Chronic_11_2018-08-04')|\n",
    "               (df['recording']=='Chronic_13_2018_08_08')|\n",
    "               (df['recording']=='Chronic_14_2018-08-14')|\n",
    "               (df['recording']=='Chronic_31_2018-08-10')]\n",
    "df_saline = df_saline[(df_saline['CV ISI'] != 0)&(df_saline['Firing Rate'] != 0)]"
   ]
  },
  {
   "cell_type": "markdown",
   "metadata": {},
   "source": [
    "### Make a table with the counts of each neuron type in the two groups"
   ]
  },
  {
   "cell_type": "code",
   "execution_count": null,
   "metadata": {},
   "outputs": [],
   "source": [
    "df_pearson=pd.concat([df_cit.groupby('category').count()['spike_cluster'],\n",
    "                      df_saline.groupby('category').count()['spike_cluster']], axis=1)\n",
    "df_pearson.columns = ['Chronic Citalopram', 'Control']\n",
    "df_pearson.fillna(0, inplace=True)"
   ]
  },
  {
   "cell_type": "code",
   "execution_count": null,
   "metadata": {},
   "outputs": [],
   "source": [
    "df_pearson"
   ]
  },
  {
   "cell_type": "markdown",
   "metadata": {},
   "source": [
    "### Chi square test using scipy stats library"
   ]
  },
  {
   "cell_type": "code",
   "execution_count": null,
   "metadata": {},
   "outputs": [],
   "source": [
    "chi2, p, dof, expected = chi2_contingency(df_pearson,correction=False)"
   ]
  },
  {
   "cell_type": "code",
   "execution_count": null,
   "metadata": {},
   "outputs": [],
   "source": []
  },
  {
   "cell_type": "markdown",
   "metadata": {},
   "source": [
    "# Bar charts comparing distribution of neuron types in 2 mice groups"
   ]
  },
  {
   "cell_type": "markdown",
   "metadata": {},
   "source": [
    "### Conver the counts into percentage "
   ]
  },
  {
   "cell_type": "code",
   "execution_count": null,
   "metadata": {},
   "outputs": [],
   "source": [
    "cols = ['Chronic Citalopram','Control']\n",
    "df_pearson[cols] = df_pearson[cols].div(df_pearson[cols].sum(axis=0), axis=1).multiply(100)"
   ]
  },
  {
   "cell_type": "markdown",
   "metadata": {},
   "source": [
    "### Plot "
   ]
  },
  {
   "cell_type": "code",
   "execution_count": null,
   "metadata": {},
   "outputs": [],
   "source": [
    "VFast = df_pearson.loc['V.fast firing',:]\n",
    "Fast = df_pearson.loc['fast firing',:]\n",
    "Irreg = df_pearson.loc['slow irregular',:]\n",
    "Reg = df_pearson.loc['slow regular',:]\n",
    "\n",
    "\n",
    "barWidth = 0.35\n",
    "r = [0,1]\n",
    "names = ('Chronic Citalopram','Control')\n",
    "\n",
    "plt.figure(figsize = (10,8))\n",
    "         \n",
    "plt.bar(r, Reg, color= '#ee4035', edgecolor='white', width=barWidth)\n",
    "         \n",
    "plt.bar(r, Irreg, bottom = Reg, color='#7bc043', edgecolor='white', width=barWidth)\n",
    "         \n",
    "plt.bar(r, Fast, bottom = [i+j for i,j in zip(Reg, Irreg)], color='#0392cf', edgecolor='white', width=barWidth)\n",
    "         \n",
    "plt.bar(r, VFast, bottom = [a+b+c for a,b,c in zip(Reg, Irreg, Fast)], color='#CCCC00', edgecolor='white', width=barWidth)\n",
    " \n",
    "# Custom x axis\n",
    "plt.xticks(r, names, **font, fontsize=25)\n",
    "plt.yticks( **font, fontsize=20)\n",
    "plt.ylabel('No. of neurons [%]', **font, fontsize=30)\n",
    "plt.legend(['Slow Regular','Slow Irregular', 'Fast Firing', 'V.Fast Firing'], prop={'size':20}, )\n",
    "#plt.savefig(figpath, dpi=600)\n",
    "plt.show()\n"
   ]
  },
  {
   "cell_type": "code",
   "execution_count": null,
   "metadata": {},
   "outputs": [],
   "source": []
  }
 ],
 "metadata": {
  "kernelspec": {
   "display_name": "Python 3",
   "language": "python",
   "name": "python3"
  },
  "language_info": {
   "codemirror_mode": {
    "name": "ipython",
    "version": 3
   },
   "file_extension": ".py",
   "mimetype": "text/x-python",
   "name": "python",
   "nbconvert_exporter": "python",
   "pygments_lexer": "ipython3",
   "version": "3.6.4"
  }
 },
 "nbformat": 4,
 "nbformat_minor": 2
}
