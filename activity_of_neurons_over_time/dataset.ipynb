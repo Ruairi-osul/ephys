{
 "cells": [
  {
   "cell_type": "code",
   "execution_count": 23,
   "metadata": {},
   "outputs": [],
   "source": [
    "import pandas as pd\n",
    "import os\n",
    "import numpy as np"
   ]
  },
  {
   "cell_type": "code",
   "execution_count": 13,
   "metadata": {},
   "outputs": [],
   "source": [
    "d = r'E:\\db\\drug_effects'"
   ]
  },
  {
   "cell_type": "code",
   "execution_count": 14,
   "metadata": {},
   "outputs": [],
   "source": [
    "def loader(par, exp):\n",
    "    increase = f'{exp}_increase.csv'\n",
    "    increase = pd.read_csv(os.path.join(par, increase), index_col=0)\n",
    "    \n",
    "    decrease = f'{exp}_decrease.csv'\n",
    "    decrease = pd.read_csv(os.path.join(par, decrease), index_col=0)\n",
    "    \n",
    "    non_responders = f'{exp}_non_responders.csv'\n",
    "    non_responders = pd.read_csv(os.path.join(par, non_responders), index_col=0)\n",
    "    \n",
    "    return increase, decrease, non_responders"
   ]
  },
  {
   "cell_type": "code",
   "execution_count": 20,
   "metadata": {},
   "outputs": [],
   "source": [
    "cit_increase, cit_decrease, cit_non_responders = loader(d, 'acute_cit')\n",
    "sal_increase, sal_decrease, sal_non_responders = loader(d, 'acute_sal')\n"
   ]
  },
  {
   "cell_type": "code",
   "execution_count": 27,
   "metadata": {},
   "outputs": [],
   "source": [
    "def total(df_list):\n",
    "    return np.sum([df.shape[1] for df in df_list])\n",
    "    \n",
    "\n",
    "    \n",
    "total_cit = total([cit_increase, cit_decrease, cit_non_responders])\n",
    "total_sal = total([sal_increase, sal_decrease, sal_non_responders])"
   ]
  },
  {
   "cell_type": "code",
   "execution_count": 30,
   "metadata": {},
   "outputs": [
    {
     "name": "stdout",
     "output_type": "stream",
     "text": [
      "Total Cit:\t 92\n",
      "Total Sal:\t 52\n",
      "Grand total:\t 144\n"
     ]
    }
   ],
   "source": [
    "print(f'Total Cit:\\t {total_cit}')\n",
    "print(f'Total Sal:\\t {total_sal}')\n",
    "print(f'Grand total:\\t {total_cit + total_sal}')"
   ]
  },
  {
   "cell_type": "code",
   "execution_count": null,
   "metadata": {},
   "outputs": [],
   "source": []
  }
 ],
 "metadata": {
  "kernelspec": {
   "display_name": "Python 3",
   "language": "python",
   "name": "python3"
  },
  "language_info": {
   "codemirror_mode": {
    "name": "ipython",
    "version": 3
   },
   "file_extension": ".py",
   "mimetype": "text/x-python",
   "name": "python",
   "nbconvert_exporter": "python",
   "pygments_lexer": "ipython3",
   "version": "3.7.1"
  }
 },
 "nbformat": 4,
 "nbformat_minor": 2
}
