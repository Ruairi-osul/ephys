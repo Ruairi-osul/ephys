{
 "cells": [
  {
   "cell_type": "code",
   "execution_count": 13,
   "metadata": {},
   "outputs": [],
   "source": [
    "import pandas as pd\n",
    "import os\n",
    "import matplotlib.pyplot as plt\n",
    "import sys\n",
    "import seaborn as sns\n",
    "plt.style.use('ggplot')"
   ]
  },
  {
   "cell_type": "code",
   "execution_count": 14,
   "metadata": {},
   "outputs": [],
   "source": [
    "df_clust = r'E:\\db\\excluded_dataset.csv'\n",
    "df_clust = pd.read_csv(df_clust)"
   ]
  },
  {
   "cell_type": "code",
   "execution_count": 15,
   "metadata": {},
   "outputs": [],
   "source": [
    "save_dir = r'E:\\figures\\inclustionexclusion\\scatters'"
   ]
  },
  {
   "cell_type": "code",
   "execution_count": 20,
   "metadata": {},
   "outputs": [],
   "source": [
    "for r in df_clust['recording_id'].unique():\n",
    "    df = df_clust[df_clust['recording_id']==r]\n",
    "\n",
    "    ax = sns.scatterplot(y=df['mfr'], x=df['cv isi'], \n",
    "                         hue=df['cluster'], s=40)\n",
    "    plt.title(f'Distrobution of Baseline Properties of Recorded Neurons.\\nRecording {r}')\n",
    "    plt.ylabel('Mean Firing Rate [Hz]')\n",
    "    plt.xlabel('CV ISI')\n",
    "    plt.savefig(os.path.join(save_dir, f'{r}.png'), dpi=300)\n",
    "    plt.close()"
   ]
  },
  {
   "cell_type": "code",
   "execution_count": null,
   "metadata": {},
   "outputs": [],
   "source": []
  }
 ],
 "metadata": {
  "kernelspec": {
   "display_name": "Python 3",
   "language": "python",
   "name": "python3"
  },
  "language_info": {
   "codemirror_mode": {
    "name": "ipython",
    "version": 3
   },
   "file_extension": ".py",
   "mimetype": "text/x-python",
   "name": "python",
   "nbconvert_exporter": "python",
   "pygments_lexer": "ipython3",
   "version": "3.6.6"
  }
 },
 "nbformat": 4,
 "nbformat_minor": 2
}
