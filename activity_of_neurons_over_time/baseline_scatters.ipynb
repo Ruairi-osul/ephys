{
 "cells": [
  {
   "cell_type": "code",
   "execution_count": 17,
   "metadata": {},
   "outputs": [],
   "source": [
    "import sqlalchemy as sql\n",
    "import pandas as pd\n",
    "import os\n",
    "import matplotlib.pyplot as plt\n",
    "import sys\n",
    "import seaborn as sns\n",
    "sys.path.append('/home/ruairi/repos/ephys/package/')\n",
    "from ephys_plots import heatmap_by_cluster\n",
    "\n"
   ]
  },
  {
   "cell_type": "code",
   "execution_count": 18,
   "metadata": {},
   "outputs": [],
   "source": [
    "df_clust = '/home/ruairi/data/tmp/baseline_stats_pre_exclusion_with_clusters.csv'\n",
    "df_clust = pd.read_csv(df_clust)"
   ]
  },
  {
   "cell_type": "code",
   "execution_count": 19,
   "metadata": {},
   "outputs": [],
   "source": [
    "save_dir = '/home/ruairi/data/figures/scatter'"
   ]
  },
  {
   "cell_type": "code",
   "execution_count": 27,
   "metadata": {},
   "outputs": [],
   "source": [
    "for r in df_clust['recording_id'].unique():\n",
    "    df = df_clust[df_clust['recording_id']==r]\n",
    "\n",
    "    ax = sns.scatterplot(y=df['mfr'], x=df['cv isi'], hue=df['cluster'], size=15)\n",
    "    plt.title(f'Distrobution of Baseline Properties of Recorded Neurons.\\nRecording {r}')\n",
    "    plt.ylabel('Mean Firing Rate [Hz]')\n",
    "    plt.xlabel('CV ISI')\n",
    "    plt.savefig(os.path.join(save_dir, f'{r}.png'), dpi=300)\n",
    "    plt.close()"
   ]
  },
  {
   "cell_type": "code",
   "execution_count": null,
   "metadata": {},
   "outputs": [],
   "source": []
  }
 ],
 "metadata": {
  "kernelspec": {
   "display_name": "Python 3",
   "language": "python",
   "name": "python3"
  },
  "language_info": {
   "codemirror_mode": {
    "name": "ipython",
    "version": 3
   },
   "file_extension": ".py",
   "mimetype": "text/x-python",
   "name": "python",
   "nbconvert_exporter": "python",
   "pygments_lexer": "ipython3",
   "version": "3.7.0"
  }
 },
 "nbformat": 4,
 "nbformat_minor": 2
}
