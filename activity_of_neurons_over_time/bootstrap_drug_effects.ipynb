{
 "cells": [
  {
   "cell_type": "code",
   "execution_count": 69,
   "metadata": {},
   "outputs": [],
   "source": [
    "import pandas as pd\n",
    "import numpy as np\n",
    "from scipy.stats import ttest_ind\n",
    "import dc_stat_think as dc\n",
    "import matplotlib.pyplot as plt\n",
    "import seaborn as sns\n",
    "sns.set_style('whitegrid')\n",
    "import os\n"
   ]
  },
  {
   "cell_type": "code",
   "execution_count": 70,
   "metadata": {},
   "outputs": [],
   "source": [
    "def select_cond_neurons(neurons, ifr_all, cond):\n",
    "    if cond == 'acute_cit':\n",
    "        good_recordings=[1,3,5,6,8,9,10]\n",
    "    elif cond == 'acute_sal':\n",
    "        good_recordings = [11, 12, 14, 15]\n",
    "    elif cond == 'sert_gq':\n",
    "        good_recordings = [29, 30, 34, 35, 36, 38]\n",
    "    elif cond == 'sert_mcherry':\n",
    "        good_recordings = [31, 32, 33]\n",
    "    elif cond == 'vgat_gq':\n",
    "        good_recordings = [42, 43, 44]\n",
    "    elif cond == 'vgat_mcherry':\n",
    "        good_recordings = [40, 41]\n",
    "        \n",
    "    ids = neurons[neurons['recording_id'].isin(good_recordings)]['neuron_id'].values\n",
    "    ids = list(map(str, ids))\n",
    "    return ifr_all.loc[:, ifr_all.columns.isin(ids)]\n",
    "\n",
    "\n",
    "def select_relovant_time_period(df, time_period=960, exp_start=3600):\n",
    "    lower = exp_start - time_period\n",
    "    upper = exp_start + time_period\n",
    "    return df.iloc[lower:upper, :]\n",
    "\n",
    "\n",
    "def firing_rate_cutoff(df, mfr_cut_off=0.9, time_cuttoff=480):\n",
    "    return df.loc[:, df.columns[(df.iloc[:time_cuttoff]>mfr_cut_off).all()]]\n",
    "\n",
    "\n",
    "def drug_analysis_filter(neurons, ifr_all, cond, time_period=960, \n",
    "                         exp_start=3600, mfr_cutoff=0.9):\n",
    "    df = select_cond_neurons(neurons, ifr_all, cond).fillna(0)\n",
    "    df = select_relovant_time_period(df, time_period, exp_start)\n",
    "    df = firing_rate_cutoff(df, mfr_cutoff, time_period)\n",
    "    return df\n",
    "\n",
    "\n",
    "def format_for_analysis(df, rs=10):\n",
    "    ind = pd.timedelta_range(start=0, periods=len(df), freq='s')\n",
    "    df.index = ind\n",
    "    df = df.resample(f'{rs}S').mean()\n",
    "    return df"
   ]
  },
  {
   "cell_type": "code",
   "execution_count": 71,
   "metadata": {},
   "outputs": [],
   "source": [
    "def permutation_test(col, time, method='two tailed'):\n",
    "    method = method.lower()\n",
    "    \n",
    "    a = col.iloc[:time].values.flatten()\n",
    "    b = col.iloc[time:time+time].values.flatten()\n",
    "    \n",
    "    reps = dc.draw_perm_reps(data_1=a, data_2=b, func=dc.diff_of_means, size=5000)\n",
    "    emp = dc.diff_of_means(a, b)\n",
    "    \n",
    "    if method.lower() == 'two tailed':\n",
    "        emp =  np.absolute(emp)\n",
    "        reps = np.absolute(reps)\n",
    "        p = np.sum(reps >= emp)\n",
    "        \n",
    "    elif method == 'decrease':\n",
    "        # emp will be a positive\n",
    "        p =  np.sum(reps >= emp)\n",
    "    \n",
    "    elif method == 'increase':\n",
    "        p =  np.sum(reps <= emp)\n",
    "        \n",
    "    \n",
    "    return p / len(reps)\n",
    "\n",
    "\n",
    "def select_responders(p_ser, alpha, ifr_all, inverse=False):\n",
    "    if inverse:\n",
    "        good_ids = p_ser[~(p_ser < alpha)].index.values\n",
    "    else:\n",
    "        good_ids = p_ser[p_ser < alpha].index.values\n",
    "    \n",
    "    return ifr_all.loc[:, list(map(str, good_ids))]\n",
    "\n",
    "\n",
    "\n",
    "def apply_pt_extract_save(df, time, method, inverse=False):\n",
    "    p = df.apply(permutation_test, time=time, method=method)\n",
    "    return select_responders(p_ser=p, alpha=0.0001, ifr_all=df, inverse=inverse)\n",
    "    "
   ]
  },
  {
   "cell_type": "code",
   "execution_count": 77,
   "metadata": {},
   "outputs": [],
   "source": [
    "out_dir = r'E:\\db\\drug_effects'\n",
    "\n",
    "p = r'E:\\db\\ifr\\dreadd.csv'\n",
    "ifr_all = pd.read_csv(p)\n",
    "\n",
    "\n",
    "p = r'E:\\db\\CLUSTERS_DONE.csv'\n",
    "c = pd.read_csv(p)\n",
    "\n",
    "p = r'E:\\db\\neurons.csv'\n",
    "n = pd.read_csv(p)"
   ]
  },
  {
   "cell_type": "code",
   "execution_count": 68,
   "metadata": {},
   "outputs": [],
   "source": [
    "time_period = 600\n",
    "resampling_period = 10\n",
    "\n",
    "\n",
    "out_dir = r'E:\\db\\drug_effects'\n",
    "conditions = ['acute_cit', 'acute_sal']\n",
    "tests = [('increase', False), ('decrease', False), ('two tailed', True)]\n",
    "out = []\n",
    "\n",
    "\n",
    "for cond in conditions:\n",
    "    df = drug_analysis_filter(neurons=n, \n",
    "                              ifr_all=ifr_all, \n",
    "                              cond=cond, \n",
    "                              time_period=time_period)\n",
    "    df = format_for_analysis(df, \n",
    "                             rs=resampling_period)\n",
    "\n",
    "    for test, inv in tests:\n",
    "        df_tmp = apply_pt_extract_save(df, \n",
    "                                  time=time_period//resampling_period,\n",
    "                                  method=test, \n",
    "                                  inverse=inv)\n",
    "        df_tmp.to_csv(os.path.join(out_dir, f'{cond}_{test}.csv'))\n",
    "        \n",
    "        out.append(df_tmp)"
   ]
  },
  {
   "cell_type": "code",
   "execution_count": 53,
   "metadata": {},
   "outputs": [
    {
     "data": {
      "image/png": "[encoded data removed]",
      "text/plain": [
       "<Figure size 432x288 with 2 Axes>"
      ]
     },
     "metadata": {},
     "output_type": "display_data"
    }
   ],
   "source": [
    "from sklearn.preprocessing import StandardScaler\n",
    "\n",
    "scaler =  StandardScaler()\n",
    "scaler.fit(df_tmp.iloc[:(600//10)//2])\n",
    "X = scaler.transform(df_tmp)\n",
    "sns.heatmap(X.transpose(), cmap='coolwarm', vmin=-10, vmax=10)\n",
    "plt.show()"
   ]
  },
  {
   "cell_type": "code",
   "execution_count": 48,
   "metadata": {},
   "outputs": [
    {
     "name": "stdout",
     "output_type": "stream",
     "text": [
      "0\n"
     ]
    }
   ],
   "source": [
    "\n",
    "\n",
    "df = select_cond_neurons(n, ifr_all=ifr_all, cond='acute_sal')\n",
    "total_sal = df.shape[1]\n",
    "df = select_cond_neurons(n, ifr_all=ifr_all, cond='acute_cit')\n",
    "total_cit = df.shape[1]\n",
    "\n",
    "print(total_sal + total_cit)"
   ]
  },
  {
   "cell_type": "code",
   "execution_count": null,
   "metadata": {},
   "outputs": [],
   "source": []
  }
 ],
 "metadata": {
  "kernelspec": {
   "display_name": "Python 3",
   "language": "python",
   "name": "python3"
  },
  "language_info": {
   "codemirror_mode": {
    "name": "ipython",
    "version": 3
   },
   "file_extension": ".py",
   "mimetype": "text/x-python",
   "name": "python",
   "nbconvert_exporter": "python",
   "pygments_lexer": "ipython3",
   "version": "3.6.6"
  }
 },
 "nbformat": 4,
 "nbformat_minor": 2
}
