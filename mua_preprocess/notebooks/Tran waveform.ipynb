{
 "cells": [
  {
   "cell_type": "code",
   "execution_count": 1,
   "metadata": {},
   "outputs": [],
   "source": [
    "import os\n",
    "import numpy as np\n",
    "import pandas as pd\n",
    "import array\n",
    "import mmap\n",
    "import matplotlib.pyplot as plt\n",
    "import seaborn as sns\n",
    "sep = '/'"
   ]
  },
  {
   "cell_type": "markdown",
   "metadata": {},
   "source": [
    "- Load raw data"
   ]
  },
  {
   "cell_type": "code",
   "execution_count": 2,
   "metadata": {},
   "outputs": [
    {
     "name": "stdout",
     "output_type": "stream",
     "text": [
      "\n",
      "Loading Data:\t2018-05-03_02 (done)\n",
      "\n"
     ]
    }
   ],
   "source": [
    "path = \"/Users/sharplab/tran/cat/Tran/2018-05-03_02 (done)/2018-05-03_02.dat\"\n",
    "kilosort_folder = '/Users/sharplab/tran/cat/Tran'\n",
    "recording = '2018-05-03_02 (done)'\n",
    "fig_path = \"/Users/sharplab/tran/cat/Tran/2018-05-03_02 (done)/figures\"\n",
    "data = np.memmap(path, shape =(327354368,32), dtype = np.int16)\n",
    "\n",
    "\n",
    "def load_kilosort_arrays(recording):\n",
    "    spike_clusters = np.load('spike_clusters.npy')\n",
    "    spike_times = np.load('spike_times.npy')\n",
    "    cluster_groups = pd.read_csv('cluster_groups.csv', sep='\\t')\n",
    "    try:  # check data quality\n",
    "        assert np.shape(spike_times.flatten()) == np.shape(spike_clusters)\n",
    "    except AssertionError:\n",
    "        AssertionError('Array lengths do not match in recording {}'.format(\n",
    "            recording))\n",
    "    return spike_clusters, spike_times, cluster_groups\n",
    "\n",
    "def load_data(recording, kilosort_folder, verbose, sep):\n",
    "    if verbose:\n",
    "        print('\\nLoading Data:\\t{}\\n'.format(recording))\n",
    "        os.chdir(sep.join([kilosort_folder, recording]))\n",
    "        spike_clusters, spike_times, cluster_groups = load_kilosort_arrays(\n",
    "            recording)\n",
    "    return spike_clusters, spike_times, cluster_groups\n",
    "\n",
    "def get_good_cluster_numbers(cluster_groups_df):\n",
    "    good_clusters_df = cluster_groups_df.loc[cluster_groups_df['group'] == 'good', :]\n",
    "    return good_clusters_df['cluster_id'].values\n",
    "\n",
    "spike_clusters, spike_times, cluster_groups = load_data(recording=recording,\n",
    "                                                        kilosort_folder=kilosort_folder,\n",
    "                                                        verbose=True,\n",
    "                                                        sep=sep)\n",
    "\n",
    "good_cluster_numbers = get_good_cluster_numbers(cluster_groups)"
   ]
  },
  {
   "cell_type": "markdown",
   "metadata": {},
   "source": [
    "Parameters for analysis"
   ]
  },
  {
   "cell_type": "code",
   "execution_count": 3,
   "metadata": {},
   "outputs": [],
   "source": [
    "cluster_to_plot = good_cluster_numbers[1]\n",
    "num_spikes_for_averaging = 1000\n",
    "num_channels = 32\n",
    "num_samples_per_waveform = 60\n",
    "waveform_window = np.arange(int(-num_samples_per_waveform/2),int(num_samples_per_waveform/2))\n",
    "fig_to_save = [fig_path,\"cluster\"+ str(cluster_to_plot)+'png']"
   ]
  },
  {
   "cell_type": "markdown",
   "metadata": {},
   "source": [
    "Indexing the spikes for analysis"
   ]
  },
  {
   "cell_type": "code",
   "execution_count": 4,
   "metadata": {},
   "outputs": [],
   "source": [
    "df = pd.DataFrame({'cluster':spike_clusters.flatten(), 'spike_times':spike_times.flatten()})\n",
    "df = df.loc[df['cluster'].isin(good_cluster_numbers)]\n",
    "extracted_spikes = df[df['cluster']==cluster_to_plot]['spike_times'][0:num_spikes_for_averaging]"
   ]
  },
  {
   "cell_type": "markdown",
   "metadata": {},
   "source": [
    "Generating the mean waveform"
   ]
  },
  {
   "cell_type": "code",
   "execution_count": 5,
   "metadata": {},
   "outputs": [],
   "source": [
    "threeD_matrix = np.zeros((num_spikes_for_averaging, num_samples_per_waveform, num_channels)) # Create the 3D matrix witht he shape (1000,60,32)\n",
    "\n",
    "for spike in np.arange(0,num_spikes_for_averaging):\n",
    "    start_index = int(extracted_spikes.iloc[spike]+waveform_window[0])  #  start of waveform in raw data\n",
    "    end_index = int((extracted_spikes.iloc[spike]+waveform_window[-1])+1)  #  end of waveform in raw data\n",
    "    \n",
    "    waveform = data[start_index:end_index, 0:num_channels] #  extract waveform from raw data\n",
    "    threeD_matrix[spike, :, :] = waveform[:,:]  #  add extracted waveform to 3d matrix\n",
    "\n",
    "mean_waveform = np.mean(threeD_matrix, axis=0)"
   ]
  },
  {
   "cell_type": "markdown",
   "metadata": {},
   "source": [
    "Index out the largest waveform"
   ]
  },
  {
   "cell_type": "code",
   "execution_count": 6,
   "metadata": {},
   "outputs": [],
   "source": [
    "waveform_per_channel_df = pd.DataFrame(mean_waveform)\n",
    "maxes = waveform_per_channel_df.apply(np.max, axis=0)\n",
    "lab = maxes.idxmax()"
   ]
  },
  {
   "cell_type": "markdown",
   "metadata": {},
   "source": [
    "Plot it"
   ]
  },
  {
   "cell_type": "code",
   "execution_count": 7,
   "metadata": {
    "scrolled": true
   },
   "outputs": [
    {
     "data": {
      "image/png": "[encoded data removed]",
      "text/plain": [
       "<matplotlib.figure.Figure at 0x10345f9b0>"
      ]
     },
     "metadata": {},
     "output_type": "display_data"
    }
   ],
   "source": [
    "sns.set()\n",
    "correct_chan = waveform_per_channel_df.loc[:, lab]\n",
    "correct_chan.plot()\n",
    "plt.show()"
   ]
  },
  {
   "cell_type": "code",
   "execution_count": 8,
   "metadata": {},
   "outputs": [],
   "source": [
    "correct_chan = correct_chan.reset_index()\n",
    "correct_chan.columns = ['figure', 'y_values']\n",
    "correct_chan.set_index('figure', inplace=True)\n",
    "new_list = [correct_chan['y_values'][trend_values] for trend_values in np.arange(0,59,1) if (correct_chan['y_values'][trend_values]<correct_chan['y_values'][trend_values+1])]\n",
    "correct_chan['trend'] = np.where(correct_chan['y_values'].isin(new_list), 'increase', 'decrease')"
   ]
  },
  {
   "cell_type": "code",
   "execution_count": null,
   "metadata": {},
   "outputs": [],
   "source": [
    "def find_return_point(min_peak_time, from_min_to_end, correct_chan):\n",
    "    return_point = []\n",
    "    baseline_value = correct_chan.loc[find_baseline(max_peak_time, from_start_to_max, correct_chan)[-1]][0]\n",
    "    \n",
    "    '''\n",
    "    return point is the first value after the trough that is between +- 50% of the baseline values\n",
    "    '''\n",
    "    for return_time_point in from_min_to_end:\n",
    "        if ((baseline_value + baseline_value/2) > np.absolute(correct_chan.loc[return_time_point][0]) > (baseline_value - baseline_value/2)) or ((baseline_value + baseline_value/2) < correct_chan.loc[return_time_point][0] < (baseline_value - baseline_value/2)):\n",
    "            return_point.append(return_time_point)\n",
    "        else:\n",
    "            pass\n",
    "    return return_point"
   ]
  },
  {
   "cell_type": "code",
   "execution_count": 23,
   "metadata": {},
   "outputs": [],
   "source": [
    "min_value = correct_chan['y_values'].min()\n",
    "max_value = correct_chan['y_values'].max()\n",
    "min_peak_time = correct_chan['y_values'].idxmin()\n",
    "max_peak_time = correct_chan['y_values'].idxmax()\n",
    "\n",
    "''' \n",
    "Split the data into 3 periods for analysis\n",
    "1) from start to the max (baseline value is in this period)\n",
    "2) from max to min (can just index max and min peak time directly)\n",
    "3) from min to end (return of baseline value is in this period)\n",
    "\n",
    "In case that there's no min peak, the data is split into\n",
    "1) from start to max\n",
    "2) from max to end\n",
    "'''\n",
    "\n",
    "from_start_to_max = np.arange(0, max_peak_time, 1)\n",
    "from_min_to_end = np.arange(min_peak_time, 60, 1) \n",
    "counter_when_no_min = np.arange(max_peak_time, 60, 1)\n",
    "\n",
    "def find_baseline(max_peak_time, from_start_to_max, correct_chan): #Method to find baseline is standardised for all types of waveforms \n",
    "    baseline = []\n",
    "    \n",
    "    ''' \n",
    "    Baseline is defined as the the last value, from start to max period, that is smaller than 10% of peak value \n",
    "    '''\n",
    "    \n",
    "    for time_point in from_start_to_max:\n",
    "        if (correct_chan.loc[time_point][0] < (correct_chan.loc[max_peak_time][0]/10)): \n",
    "            baseline.append(time_point)\n",
    "        else:\n",
    "            pass\n",
    "    return baseline\n",
    "\n",
    "def find_return_point(min_peak_time, from_min_to_end, correct_chan):\n",
    "    return_point = []\n",
    "    baseline_value = correct_chan.loc[find_baseline(max_peak_time, from_start_to_max, correct_chan)[-1]][0]\n",
    "    \n",
    "    '''\n",
    "    return point is the first value just before the value higher than baseline value\n",
    "    '''\n",
    "    for return_time_point in from_min_to_end:\n",
    "        if correct_chan.loc[return_time_point][0] > baseline_value:\n",
    "            return return_time_point-1\n",
    "        else:\n",
    "            pass\n",
    "\n",
    "def plot_waveform(fig_to_save, correct_chan, baseline, min_peak_time, baseline_value, return_point):\n",
    "    plt.plot(correct_chan['y_values'], linestyle=None, marker='.')\n",
    "    plt.plot(np.ones(5)*baseline, np.linspace(-400, 650, 5), 'k')\n",
    "    plt.plot(np.ones(5)*min_peak_time, np.linspace(-400, 650, 5), 'k')\n",
    "    plt.plot(np.ones(5)*return_point, np.linspace(-400, 650, 5), 'k')\n",
    "    \n",
    "    \n",
    "    '''\n",
    "    Find the estimation of the return to baseline value if the return point is not very accurate due to not having enough data points\n",
    "    \n",
    "    y=ax+b\n",
    "    \n",
    "    where y is our y value x is time\n",
    "    \n",
    "    we can find the values of a and b by solving the simultaneous equation using the x and y values of the two data points above and below:\n",
    "\n",
    "    y1 = ax1 + b \n",
    "    y2 = ax2 + b \n",
    "\n",
    "    => a = (x1-x2)/(y1-y2)\n",
    "   \n",
    "       b = y1-ax1\n",
    "    '''\n",
    "    \n",
    "    \n",
    "    a = (correct_chan.loc[return_point][0]-correct_chan.loc[return_point+1][0])/(return_point-(return_point+1))\n",
    "    b = correct_chan.loc[return_point][0]-a*(return_point)\n",
    "\n",
    "    estimated_return_time = (baseline_value-b)/a\n",
    "    plt.plot(np.ones(5)*estimated_return_time, np.linspace(-400, 650, 5), 'r')\n",
    "\n",
    "    plt.savefig(sep.join(fig_to_save))\n",
    "\n",
    "def find_return_point_when_no_min(max_peak_time, counter_when_no_min, correct_chan):\n",
    "    return_point_when_no_min = []\n",
    "    base_value = correct_chan.loc[find_baseline(max_peak_time, from_start_to_max, correct_chan)[-1]][0]\n",
    "    \n",
    "    '''\n",
    "    Same as the previous method except using the data points from max (instead of min) till the end:\n",
    "    '''\n",
    "        \n",
    "    for no_min_return_point in counter_when_no_min:\n",
    "        if np.absolute(base_value + base_value/2) > np.absolute(correct_chan.loc[no_min_return_point][0]) > np.absolute(base_value - base_value/2):\n",
    "            return_point_when_no_min.append(no_min_return_point)\n",
    "        else:\n",
    "            pass\n",
    "    return return_point_when_no_min\n",
    "\n",
    "\n",
    "def plot_waveform_when_no_min(fig_to_save, baseline, correct_chan, baseline_value, no_min_return_point):\n",
    "    plt.plot(correct_chan['y_values'], linestyle=None, marker='.')\n",
    "    plt.plot(np.ones(5)*baseline_value, np.linspace(-400, 650, 5), 'k')\n",
    "    plt.plot(np.ones(5)*no_min_return_point[0], np.linspace(-400, 650, 5), 'k')\n",
    "    \n",
    "    a = (correct_chan.loc[no_min_return_point][0]-correct_chan.loc[no_min_return_point+1][0])/(no_min_return_point-(no_min_return_point+1))\n",
    "    b = correct_chan.loc[no_min_return_point][0]-a*(no_min_return_point)\n",
    "\n",
    "    estimated_return_time = (baseline_value-b)/a\n",
    "    plt.plot(np.ones(5)*estimated_return_time, np.linspace(-400, 650, 5), 'r')\n",
    "    plt.savefig(sep.join(fig_to_save))\n"
   ]
  },
  {
   "cell_type": "code",
   "execution_count": 24,
   "metadata": {},
   "outputs": [
    {
     "data": {
      "text/plain": [
       "33"
      ]
     },
     "execution_count": 24,
     "metadata": {},
     "output_type": "execute_result"
    }
   ],
   "source": [
    "find_return_point(min_peak_time, from_min_to_end, correct_chan)"
   ]
  },
  {
   "cell_type": "markdown",
   "metadata": {},
   "source": [
    "Parameters and functions for waveform analysis"
   ]
  },
  {
   "cell_type": "code",
   "execution_count": 27,
   "metadata": {},
   "outputs": [
    {
     "data": {
      "text/html": [
       "<div>\n",
       "<style scoped>\n",
       "    .dataframe tbody tr th:only-of-type {\n",
       "        vertical-align: middle;\n",
       "    }\n",
       "\n",
       "    .dataframe tbody tr th {\n",
       "        vertical-align: top;\n",
       "    }\n",
       "\n",
       "    .dataframe thead th {\n",
       "        text-align: right;\n",
       "    }\n",
       "</style>\n",
       "<table border=\"1\" class=\"dataframe\">\n",
       "  <thead>\n",
       "    <tr style=\"text-align: right;\">\n",
       "      <th></th>\n",
       "      <th>Amplitude base-max (V)</th>\n",
       "      <th>Amplitude min-max (V)</th>\n",
       "      <th>Base to max (ms)</th>\n",
       "      <th>Base to min (ms)</th>\n",
       "      <th>Return to base (ms)</th>\n",
       "      <th>spike_category</th>\n",
       "    </tr>\n",
       "  </thead>\n",
       "  <tbody>\n",
       "    <tr>\n",
       "      <th>0</th>\n",
       "      <td>133.631</td>\n",
       "      <td>1282.16</td>\n",
       "      <td>0.433333</td>\n",
       "      <td>0.533333</td>\n",
       "      <td>0.666667</td>\n",
       "      <td>up_down_up</td>\n",
       "    </tr>\n",
       "  </tbody>\n",
       "</table>\n",
       "</div>"
      ],
      "text/plain": [
       "   Amplitude base-max (V)  Amplitude min-max (V)  Base to max (ms)  \\\n",
       "0                 133.631                1282.16          0.433333   \n",
       "\n",
       "   Base to min (ms)  Return to base (ms) spike_category  \n",
       "0          0.533333             0.666667     up_down_up  "
      ]
     },
     "execution_count": 27,
     "metadata": {},
     "output_type": "execute_result"
    },
    {
     "data": {
      "image/png": "[encoded data removed]",
      "text/plain": [
       "<matplotlib.figure.Figure at 0x1f07c02be0>"
      ]
     },
     "metadata": {},
     "output_type": "display_data"
    }
   ],
   "source": [
    "'''\n",
    "Find the baseline value and its corresponding time point\n",
    "'''\n",
    "\n",
    "\n",
    "baseline = find_baseline(max_peak_time, from_start_to_max, correct_chan)[-1]\n",
    "baseline_value = correct_chan.loc[baseline][0]\n",
    "\n",
    "\n",
    "'''\n",
    "3 categories: 1) if there's no max peak (max value <50) or \n",
    "                    \n",
    "                    there's a >50 max, but max occurs after min and min<-50. This is to distinguish with the 2nd category where there's no min peak.\n",
    "                    \n",
    "              2) if there's a max value (max > 50) but no min value (min>-50). \n",
    "              \n",
    "              3) normal up-down-up plot\n",
    "'''\n",
    "\n",
    "if (max_value-baseline_value<50) or (max_value-baseline_value>50 and max_peak_time>min_peak_time and min_value<-50):\n",
    "    return_point = find_return_point(min_peak_time, from_min_to_end, correct_chan)[0]\n",
    "    data_table = pd.DataFrame({'Base to min (ms)':(min_peak_time-baseline)/30, \n",
    "                               'Return to base (ms)': (return_point-baseline)/30, \n",
    "                               'Amplitude base-min (V)': min_value - baseline_value,\n",
    "                              'spike_category': 'down_up'},\n",
    "                              index=[0])\n",
    "    \n",
    "    plot_waveform(fig_to_save, correct_chan, baseline, min_peak_time, return_point)\n",
    "\n",
    "elif (max_value-baseline_value)>50 and (min_value>-50):\n",
    "    no_min_return_point = find_return_point_when_no_min(max_peak_time, counter_when_no_min, correct_chan)[0]\n",
    "    data_table = pd.DataFrame({'Base to max (ms)':(max_peak_time-baseline)/30, \n",
    "                               'Return to base (ms)': (no_min_return_point-baseline)/30, \n",
    "                               'Amplitude base-max (V)':max_value - baseline_value, \n",
    "                              'spike_category': 'just_up'}, index=[0])\n",
    "    \n",
    "    plot_waveform_when_no_min(fig_to_save, baseline, correct_chan, baseline_value, no_min_return_point)\n",
    "    \n",
    "else:\n",
    "    return_point = find_return_point(min_peak_time, from_min_to_end, correct_chan)\n",
    "    data_table = pd.DataFrame({'Base to max (ms)':(max_peak_time-baseline)/30, \n",
    "                               'Base to min (ms)':(min_peak_time-baseline)/30, \n",
    "                               'Return to base (ms)':(return_point-baseline)/30, \n",
    "                               'Amplitude base-max (V)':max_value - baseline_value, \n",
    "                               'Amplitude min-max (V)':max_value - min_value,\n",
    "                              'spike_category': 'up_down_up'}, index=[0])\n",
    "    \n",
    "    plot_waveform(fig_to_save, correct_chan, baseline, min_peak_time, baseline_value, return_point)\n",
    "    \n",
    "data_table\n",
    "    "
   ]
  },
  {
   "cell_type": "code",
   "execution_count": null,
   "metadata": {},
   "outputs": [],
   "source": [
    "estimated_return_time"
   ]
  },
  {
   "cell_type": "code",
   "execution_count": null,
   "metadata": {},
   "outputs": [],
   "source": [
    "print(baseline_value)\n",
    "print(correct_chan['y_values'].loc[32])\n",
    "print(correct_chan['y_values'].loc[33])"
   ]
  },
  {
   "cell_type": "markdown",
   "metadata": {},
   "source": [
    "## To be use when the first return point is not very accurate due to not having enough data points\n",
    "\n",
    "Assume the line connecting between the (presumably) return point and the next data point can be expressed by the linear equation:\n",
    "\n",
    "y=ax+b\n",
    "\n",
    "where y is our y value\n",
    "      x is time\n",
    "      \n",
    "we can find the values of a and be by solving the simultaneous equation using the x and y values of the two above data points:\n",
    "\n",
    "y1 = ax1 + b \n",
    "y2 = ax2 + b \n",
    "\n",
    "=> a = (x1-x2)/(y1-y2)\n",
    "   \n",
    "   b = y1-ax1\n",
    "   \n",
    "now we can estimate the baseline-return time:\n",
    "\n",
    "baseline-return time = (baseline-y value -b)/a"
   ]
  },
  {
   "cell_type": "code",
   "execution_count": null,
   "metadata": {},
   "outputs": [],
   "source": [
    "    a = (correct_chan.loc[return_point[0]][0]-correct_chan.loc[return_point[0]+1][0])/(return_point[0]-(return_point[0]+1))\n",
    "    b = correct_chan.loc[return_point[0]][0]-a*(return_point[0])\n",
    "\n",
    "    estimated_return_time = (correct_chan.loc[baseline[0]][0]-b)/a"
   ]
  },
  {
   "cell_type": "markdown",
   "metadata": {},
   "source": [
    "Now plot again"
   ]
  },
  {
   "cell_type": "code",
   "execution_count": null,
   "metadata": {},
   "outputs": [],
   "source": [
    "plt.plot(correct_chan, linestyle=None, marker='.')\n",
    "plt.plot(np.ones(5)*baseline[0], np.linspace(-400, 650, 5), 'k')\n",
    "plt.plot(np.ones(5)*min_peak_time, np.linspace(-400, 650, 5), 'k')\n",
    "\n",
    "#The initial baseline return point\n",
    "plt.plot(np.ones(5)*return_point[0], np.linspace(-400, 650, 5), 'k')\n",
    "\n",
    "#new estimated baseline return point shown in red\n",
    "plt.plot(np.ones(5)*estimated_return_time, np.linspace(-400, 650, 5), 'r')\n"
   ]
  },
  {
   "cell_type": "code",
   "execution_count": null,
   "metadata": {},
   "outputs": [],
   "source": []
  }
 ],
 "metadata": {
  "kernelspec": {
   "display_name": "Python 3",
   "language": "python",
   "name": "python3"
  },
  "language_info": {
   "codemirror_mode": {
    "name": "ipython",
    "version": 3
   },
   "file_extension": ".py",
   "mimetype": "text/x-python",
   "name": "python",
   "nbconvert_exporter": "python",
   "pygments_lexer": "ipython3",
   "version": "3.6.4"
  }
 },
 "nbformat": 4,
 "nbformat_minor": 2
}
