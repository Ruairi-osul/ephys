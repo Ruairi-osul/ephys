{
 "cells": [
  {
   "cell_type": "code",
   "execution_count": 1,
   "metadata": {},
   "outputs": [],
   "source": [
    "import os\n",
    "import numpy as np\n",
    "import pandas as pd\n",
    "import array\n",
    "import mmap\n",
    "sep = '/'"
   ]
  },
  {
   "cell_type": "markdown",
   "metadata": {},
   "source": [
    "- Load raw data"
   ]
  },
  {
   "cell_type": "code",
   "execution_count": 2,
   "metadata": {},
   "outputs": [],
   "source": [
    "path = \"/Users/sharplab/tran/cat/Tran/2018-05-03_02 (done)/2018-05-03_02.dat\"\n",
    "kilosort_folder = '/Users/sharplab/tran/cat/Tran'\n",
    "recording = '2018-05-03_02 (done)'\n",
    "data = np.memmap(path, shape =(327354368,32), dtype = np.int16)"
   ]
  },
  {
   "cell_type": "code",
   "execution_count": 3,
   "metadata": {},
   "outputs": [
    {
     "name": "stdout",
     "output_type": "stream",
     "text": [
      "\n",
      "Loading Data:\t2018-05-03_02 (done)\n",
      "\n"
     ]
    }
   ],
   "source": [
    "def load_kilosort_arrays(recording):\n",
    "    spike_clusters = np.load('spike_clusters.npy')\n",
    "    spike_times = np.load('spike_times.npy')\n",
    "    cluster_groups = pd.read_csv('cluster_groups.csv', sep='\\t')\n",
    "    try:  # check data quality\n",
    "        assert np.shape(spike_times.flatten()) == np.shape(spike_clusters)\n",
    "    except AssertionError:\n",
    "        AssertionError('Array lengths do not match in recording {}'.format(\n",
    "            recording))\n",
    "    return spike_clusters, spike_times, cluster_groups\n",
    "\n",
    "def load_data(recording, kilosort_folder, verbose, sep):\n",
    "    if verbose:\n",
    "        print('\\nLoading Data:\\t{}\\n'.format(recording))\n",
    "        os.chdir(sep.join([kilosort_folder, recording]))\n",
    "        spike_clusters, spike_times, cluster_groups = load_kilosort_arrays(\n",
    "            recording)\n",
    "    return spike_clusters, spike_times, cluster_groups\n",
    "\n",
    "def get_good_cluster_numbers(cluster_groups_df):\n",
    "    good_clusters_df = cluster_groups_df.loc[cluster_groups_df['group'] == 'good', :]\n",
    "    return good_clusters_df['cluster_id'].values\n",
    "\n",
    "spike_clusters, spike_times, cluster_groups = load_data(recording=recording,\n",
    "                                                        kilosort_folder=kilosort_folder,\n",
    "                                                        verbose=True,\n",
    "                                                        sep=sep)\n",
    "\n"
   ]
  },
  {
   "cell_type": "code",
   "execution_count": 4,
   "metadata": {},
   "outputs": [
    {
     "name": "stdout",
     "output_type": "stream",
     "text": [
      "\n",
      "Loading Data:\t2018-05-03_02 (done)\n",
      "\n"
     ]
    }
   ],
   "source": [
    "spike_clusters, spike_times, cluster_groups = load_data(recording=recording,\n",
    "                                                        kilosort_folder=kilosort_folder,\n",
    "                                                        verbose=True,\n",
    "                                                        sep=sep)\n",
    "\n",
    "good_cluster_numbers = get_good_cluster_numbers(cluster_groups)"
   ]
  },
  {
   "cell_type": "code",
   "execution_count": 23,
   "metadata": {},
   "outputs": [],
   "source": [
    "cluster_to_plot = good_cluster_numbers[12]\n",
    "num_spikes_for_averaging = 10000\n",
    "num_channels = 32\n",
    "num_samples_per_waveform = 60"
   ]
  },
  {
   "cell_type": "code",
   "execution_count": 24,
   "metadata": {},
   "outputs": [],
   "source": [
    "spike_times_0 = spike_times[spike_clusters==cluster_to_plot]\n",
    "spike_times_final = spike_times_0.ravel()"
   ]
  },
  {
   "cell_type": "code",
   "execution_count": 25,
   "metadata": {},
   "outputs": [
    {
     "data": {
      "text/html": [
       "<div>\n",
       "<style scoped>\n",
       "    .dataframe tbody tr th:only-of-type {\n",
       "        vertical-align: middle;\n",
       "    }\n",
       "\n",
       "    .dataframe tbody tr th {\n",
       "        vertical-align: top;\n",
       "    }\n",
       "\n",
       "    .dataframe thead th {\n",
       "        text-align: right;\n",
       "    }\n",
       "</style>\n",
       "<table border=\"1\" class=\"dataframe\">\n",
       "  <thead>\n",
       "    <tr style=\"text-align: right;\">\n",
       "      <th></th>\n",
       "      <th>cluster</th>\n",
       "      <th>spike_times</th>\n",
       "    </tr>\n",
       "  </thead>\n",
       "  <tbody>\n",
       "    <tr>\n",
       "      <th>0</th>\n",
       "      <td>125</td>\n",
       "      <td>129</td>\n",
       "    </tr>\n",
       "    <tr>\n",
       "      <th>1</th>\n",
       "      <td>132</td>\n",
       "      <td>254</td>\n",
       "    </tr>\n",
       "    <tr>\n",
       "      <th>2</th>\n",
       "      <td>118</td>\n",
       "      <td>698</td>\n",
       "    </tr>\n",
       "    <tr>\n",
       "      <th>3</th>\n",
       "      <td>132</td>\n",
       "      <td>836</td>\n",
       "    </tr>\n",
       "    <tr>\n",
       "      <th>4</th>\n",
       "      <td>23</td>\n",
       "      <td>913</td>\n",
       "    </tr>\n",
       "  </tbody>\n",
       "</table>\n",
       "</div>"
      ],
      "text/plain": [
       "   cluster  spike_times\n",
       "0      125          129\n",
       "1      132          254\n",
       "2      118          698\n",
       "3      132          836\n",
       "4       23          913"
      ]
     },
     "execution_count": 25,
     "metadata": {},
     "output_type": "execute_result"
    }
   ],
   "source": [
    "df = pd.DataFrame({'cluster':spike_clusters.flatten(), 'spike_times':spike_times.flatten()})\n",
    "df.head()"
   ]
  },
  {
   "cell_type": "code",
   "execution_count": 26,
   "metadata": {},
   "outputs": [],
   "source": [
    "df = df.loc[df['cluster'].isin(good_cluster_numbers)]"
   ]
  },
  {
   "cell_type": "code",
   "execution_count": 27,
   "metadata": {},
   "outputs": [],
   "source": [
    "extracted_spikes = df[df['cluster']==cluster_to_plot]['spike_times'][0:num_spikes_for_averaging]"
   ]
  },
  {
   "cell_type": "code",
   "execution_count": 28,
   "metadata": {},
   "outputs": [],
   "source": [
    "waveform_window = np.arange(int(-num_samples_per_waveform/2),int(num_samples_per_waveform/2))"
   ]
  },
  {
   "cell_type": "code",
   "execution_count": 29,
   "metadata": {},
   "outputs": [],
   "source": [
    "threeD_matrix = np.zeros((num_spikes_for_averaging, num_samples_per_waveform, num_channels))"
   ]
  },
  {
   "cell_type": "code",
   "execution_count": 30,
   "metadata": {},
   "outputs": [],
   "source": [
    "for spike in np.arange(0,num_spikes_for_averaging):\n",
    "    start_index = int(extracted_spikes.iloc[spike]+waveform_window[0])  #  start of waveform in raw data\n",
    "    end_index = int((extracted_spikes.iloc[spike]+waveform_window[-1])+1)  #  end of waveform in raw data\n",
    "    \n",
    "    waveform = data[start_index:end_index, 0:num_channels] #  extract waveform from raw data\n",
    "    threeD_matrix[spike, :, :] = waveform[:,:]  #  add extracted waveform to 3d matrix\n",
    "\n",
    "mean_waveform = np.mean(threeD_matrix, axis=0)"
   ]
  },
  {
   "cell_type": "code",
   "execution_count": 31,
   "metadata": {},
   "outputs": [],
   "source": [
    "cols = [''.join(['Chan_', str(num)]) for num in range(1, 33)]"
   ]
  },
  {
   "cell_type": "code",
   "execution_count": 32,
   "metadata": {},
   "outputs": [],
   "source": [
    "waveform_per_channel_df = pd.DataFrame(mean_waveform, columns=cols)"
   ]
  },
  {
   "cell_type": "markdown",
   "metadata": {},
   "source": [
    "## Todo\n",
    "    - Take max of each column\n",
    "    - Take min of each column\n",
    "    - Take absolute value of the min and max per column\n",
    "    - Find column that has the highest distance\n",
    "    - Plot that column"
   ]
  },
  {
   "cell_type": "code",
   "execution_count": 33,
   "metadata": {},
   "outputs": [],
   "source": [
    "maxes = waveform_per_channel_df.apply(np.max, axis=0)"
   ]
  },
  {
   "cell_type": "code",
   "execution_count": 34,
   "metadata": {},
   "outputs": [],
   "source": [
    "lab = maxes.idxmax()"
   ]
  },
  {
   "cell_type": "code",
   "execution_count": 35,
   "metadata": {
    "scrolled": true
   },
   "outputs": [
    {
     "data": {
      "image/png": "[encoded data removed]",
      "text/plain": [
       "<matplotlib.figure.Figure at 0x1f0ddead30>"
      ]
     },
     "metadata": {},
     "output_type": "display_data"
    }
   ],
   "source": [
    "import matplotlib.pyplot as plt\n",
    "import seaborn as sns\n",
    "sns.set()\n",
    "correct_chan = waveform_per_channel_df.loc[:, lab]\n",
    "correct_chan.plot()\n",
    "plt.show()"
   ]
  },
  {
   "cell_type": "code",
   "execution_count": 36,
   "metadata": {},
   "outputs": [],
   "source": [
    "correct_chan = correct_chan.reset_index()\n",
    "correct_chan.columns = ['figure', 'y_values']\n",
    "correct_chan.set_index('figure', inplace=True)"
   ]
  },
  {
   "cell_type": "markdown",
   "metadata": {},
   "source": [
    "## Calculate half spike width\n",
    "    - Convert x axis from samples to seconds or ms\n",
    "    - Find the peak y value, store the x value (time) as a variable\n",
    "    - Write an algorythm that detect when the y value stops decreases with decreasing x values\n",
    "    - Return the x value at which this occurs\n",
    "    - Calculate the distance in time between these points"
   ]
  },
  {
   "cell_type": "code",
   "execution_count": 58,
   "metadata": {},
   "outputs": [],
   "source": [
    "max_peak_time = correct_chan.idxmax()[0]\n",
    "min_peak_time = correct_chan.idxmin()[0]"
   ]
  },
  {
   "cell_type": "code",
   "execution_count": 59,
   "metadata": {},
   "outputs": [],
   "source": [
    "counter = np.arange(0, min_peak_time, 1)\n",
    "\n",
    "from_min_to_end = np.arange(min_peak_time, 60, 1)\n",
    "\n"
   ]
  },
  {
   "cell_type": "code",
   "execution_count": 60,
   "metadata": {},
   "outputs": [],
   "source": [
    "baseline = []\n",
    "return_point = []\n",
    "\n",
    "for time_point in counter:\n",
    "    if correct_chan.loc[time_point][0] > (correct_chan.loc[max_peak_time][0]/20):\n",
    "        baseline.append(time_point)\n",
    "    else:\n",
    "        pass\n",
    "\n",
    "for return_time_point in from_min_to_end:\n",
    "    if np.absolute(np.absolute(correct_chan.loc[return_time_point][0]) - correct_chan.loc[baseline[-1]][0])<(correct_chan.loc[baseline[-1]][0]/2):\n",
    "        return_point.append(return_time_point)\n",
    "    else:\n",
    "        pass\n"
   ]
  },
  {
   "cell_type": "code",
   "execution_count": 63,
   "metadata": {},
   "outputs": [
    {
     "data": {
      "text/plain": [
       "[<matplotlib.lines.Line2D at 0x101fdb5c0>]"
      ]
     },
     "execution_count": 63,
     "metadata": {},
     "output_type": "execute_result"
    },
    {
     "data": {
      "image/png": "[encoded data removed]",
      "text/plain": [
       "<matplotlib.figure.Figure at 0x101f7c6a0>"
      ]
     },
     "metadata": {},
     "output_type": "display_data"
    }
   ],
   "source": [
    "plt.plot(correct_chan, linestyle=None, marker='.')\n",
    "plt.plot(np.ones(5)*baseline[0], np.linspace(-400, 650, 5), 'k')\n",
    "#plt.plot(np.ones(5)*max_peak_time, np.linspace(-400, 650, 5), 'k')\n",
    "plt.plot(np.ones(5)*min_peak_time, np.linspace(-400, 650, 5), 'k')\n",
    "plt.plot(np.ones(5)*return_point[-1], np.linspace(-400, 650, 5), 'k')\n",
    "plt.plot(np.ones(5)*return_point[0], np.linspace(-400, 650, 5), 'k')"
   ]
  },
  {
   "cell_type": "markdown",
   "metadata": {},
   "source": [
    "## To be use when the first return point is not very accurate due to not having enough data points\n",
    "\n",
    "Assume the line connecting between the (presumably) return point and the next data point can be expressed by the linear equation:\n",
    "\n",
    "y=ax+b\n",
    "\n",
    "where y is our y value\n",
    "      x is time\n",
    "      \n",
    "we can find the values of a and be by solving the simultaneous equation using the x and y values of the two above data points:\n",
    "\n",
    "y1 = ax1 + b \n",
    "y2 = ax2 + b \n",
    "\n",
    "=> a = (x1-x2)/(y1-y2)\n",
    "   b = y1-ax1\n",
    "   \n",
    "now we can estimate the baseline-return time:\n",
    "\n",
    "baseline-return time = (baseline-y value -b)/a"
   ]
  },
  {
   "cell_type": "code",
   "execution_count": 64,
   "metadata": {},
   "outputs": [
    {
     "data": {
      "text/plain": [
       "32.64108774166136"
      ]
     },
     "execution_count": 64,
     "metadata": {},
     "output_type": "execute_result"
    }
   ],
   "source": [
    "a = (correct_chan.loc[return_point[0]+1][0]-correct_chan.loc[return_point[0]][0])\n",
    "b = correct_chan.loc[return_point[0]][0]-a*(return_point[0])\n",
    "\n",
    "estimated_return_time = (correct_chan.loc[baseline[-1]][0]-b)/a\n",
    "estimated_return_time\n"
   ]
  },
  {
   "cell_type": "markdown",
   "metadata": {},
   "source": [
    "Now plot again"
   ]
  },
  {
   "cell_type": "code",
   "execution_count": 69,
   "metadata": {},
   "outputs": [
    {
     "data": {
      "text/plain": [
       "[<matplotlib.lines.Line2D at 0x5fb0a7160>]"
      ]
     },
     "execution_count": 69,
     "metadata": {},
     "output_type": "execute_result"
    },
    {
     "data": {
      "image/png": "[encoded data removed]",
      "text/plain": [
       "<matplotlib.figure.Figure at 0x5fb050b00>"
      ]
     },
     "metadata": {},
     "output_type": "display_data"
    }
   ],
   "source": [
    "plt.plot(correct_chan, linestyle=None, marker='.')\n",
    "plt.plot(np.ones(5)*baseline[0], np.linspace(-400, 650, 5), 'k')\n",
    "plt.plot(np.ones(5)*min_peak_time, np.linspace(-400, 650, 5), 'k')\n",
    "\n",
    "#The initial baseline return point\n",
    "plt.plot(np.ones(5)*return_point[0], np.linspace(-400, 650, 5), 'k')\n",
    "\n",
    "#new estimated baseline return point shown in red\n",
    "plt.plot(np.ones(5)*estimated_return_time, np.linspace(-400, 650, 5), 'r')\n",
    "\n",
    "plt.plot(np.ones(5)*return_point[-1], np.linspace(-400, 650, 5), 'k')"
   ]
  },
  {
   "cell_type": "markdown",
   "metadata": {},
   "source": [
    "## Calculate the full spike wide (to troff)\n",
    "    - Find the minimum value\n",
    "    - x value\n",
    "    - calculate the diffference in time between the baseline and the mimum point"
   ]
  },
  {
   "cell_type": "code",
   "execution_count": 72,
   "metadata": {},
   "outputs": [],
   "source": [
    "Base_to_max = (correct_chan.idxmax()[0]-baseline[0])/30\n",
    "Base_to_min = (correct_chan.idxmin()[0]-baseline[0])/30\n",
    "Base_to_return_to_base = (return_point[0]-baseline[0])/30\n",
    "\n",
    "#If use estimated baseline return\n",
    "#Base_to_return_to_base = (estimated_return_time - baseline[-1])/30\n",
    "\n",
    "amplitude_base_to_peak = correct_chan.max()[0] - correct_chan.loc[baseline[0]][0]\n",
    "amplitude_min_to_max = correct_chan.max()[0] - correct_chan.min()[0]\n",
    "amplitude_base_to_min = correct_chan.min()[0] - correct_chan.loc[baseline[0]][0]"
   ]
  },
  {
   "cell_type": "code",
   "execution_count": 88,
   "metadata": {},
   "outputs": [
    {
     "data": {
      "text/html": [
       "<div>\n",
       "<style scoped>\n",
       "    .dataframe tbody tr th:only-of-type {\n",
       "        vertical-align: middle;\n",
       "    }\n",
       "\n",
       "    .dataframe tbody tr th {\n",
       "        vertical-align: top;\n",
       "    }\n",
       "\n",
       "    .dataframe thead th {\n",
       "        text-align: right;\n",
       "    }\n",
       "</style>\n",
       "<table border=\"1\" class=\"dataframe\">\n",
       "  <thead>\n",
       "    <tr style=\"text-align: right;\">\n",
       "      <th></th>\n",
       "      <th>Amplitude base-max (V)</th>\n",
       "      <th>Amplitude min-max (V)</th>\n",
       "      <th>Base to max (ms)</th>\n",
       "      <th>Base to min (ms)</th>\n",
       "      <th>Return to base (ms)</th>\n",
       "      <th>spike_category</th>\n",
       "    </tr>\n",
       "  </thead>\n",
       "  <tbody>\n",
       "    <tr>\n",
       "      <th>0</th>\n",
       "      <td>608.8534</td>\n",
       "      <td>1096.5435</td>\n",
       "      <td>0.1</td>\n",
       "      <td>0.266667</td>\n",
       "      <td>0.366667</td>\n",
       "      <td>up_down_up</td>\n",
       "    </tr>\n",
       "  </tbody>\n",
       "</table>\n",
       "</div>"
      ],
      "text/plain": [
       "   Amplitude base-max (V)  Amplitude min-max (V)  Base to max (ms)  \\\n",
       "0                608.8534              1096.5435               0.1   \n",
       "\n",
       "   Base to min (ms)  Return to base (ms) spike_category  \n",
       "0          0.266667             0.366667     up_down_up  "
      ]
     },
     "execution_count": 88,
     "metadata": {},
     "output_type": "execute_result"
    }
   ],
   "source": [
    "if (correct_chan.max()[0] - correct_chan.loc[baseline[-1]][0])<50 or ((correct_chan.max()[0] - correct_chan.loc[baseline[-1]][0])>50 and correct_chan.idxmax()[0]>correct_chan.idxmin()[0]):\n",
    "    Base_to_min = (correct_chan.idxmin()[0]-baseline[-1])/30\n",
    "    Base_to_return_to_base = (return_point[0]-baseline[0])/30\n",
    "    amplitude_base_to_min = correct_chan.min()[0] - correct_chan.loc[baseline[0]][0]\n",
    "    data_table = pd.DataFrame({'Base to min (ms)':Base_to_min, \n",
    "                               'Return to base (ms)': Base_to_return_to_base, \n",
    "                               'Amplitude base-min (V)':amplitude_base_to_min,\n",
    "                              'spike_category': 'down_up'},\n",
    "                              index=[0])\n",
    "else:\n",
    "    Base_to_max = (correct_chan.idxmax()[0]-baseline[0])/30\n",
    "    Base_to_min = (correct_chan.idxmin()[0]-baseline[0])/30\n",
    "    Base_to_return_to_base = (return_point[0]-baseline[0])/30\n",
    "    amplitude_base_to_peak = correct_chan.max()[0] - correct_chan.loc[baseline[0]][0]\n",
    "    amplitude_min_to_max = correct_chan.max()[0] - correct_chan.min()[0]\n",
    "    data_table = pd.DataFrame({'Base to max (ms)':Base_to_max, \n",
    "                               'Base to min (ms)':Base_to_min, \n",
    "                               'Return to base (ms)': Base_to_return_to_base, \n",
    "                               'Amplitude base-max (V)':amplitude_base_to_peak, \n",
    "                               'Amplitude min-max (V)':amplitude_min_to_max,\n",
    "                              'spike_category': 'up_down_up'}, index=[0])\n",
    "    \n",
    "    \n",
    "data_table   "
   ]
  },
  {
   "cell_type": "code",
   "execution_count": null,
   "metadata": {},
   "outputs": [],
   "source": [
    "pd.concat([df_1, df_2 ....], how='outer', axis=1)"
   ]
  }
 ],
 "metadata": {
  "kernelspec": {
   "display_name": "Python 3",
   "language": "python",
   "name": "python3"
  },
  "language_info": {
   "codemirror_mode": {
    "name": "ipython",
    "version": 3
   },
   "file_extension": ".py",
   "mimetype": "text/x-python",
   "name": "python",
   "nbconvert_exporter": "python",
   "pygments_lexer": "ipython3",
   "version": "3.6.4"
  }
 },
 "nbformat": 4,
 "nbformat_minor": 2
}
