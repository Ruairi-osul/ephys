{
 "cells": [
  {
   "cell_type": "code",
   "execution_count": 13,
   "metadata": {},
   "outputs": [],
   "source": [
    "mass_per_animal = 0.04\n",
    "num_animals = 5\n",
    "num_days = 14\n",
    "injections_per_day = 2"
   ]
  },
  {
   "cell_type": "code",
   "execution_count": 14,
   "metadata": {},
   "outputs": [],
   "source": [
    "drug_per_kg = 1 * 10\n",
    "drug_per_injection = mass_per_animal * 10"
   ]
  },
  {
   "cell_type": "code",
   "execution_count": 15,
   "metadata": {},
   "outputs": [],
   "source": [
    "num_injections = num_days * injections_per_day"
   ]
  },
  {
   "cell_type": "code",
   "execution_count": 29,
   "metadata": {},
   "outputs": [],
   "source": [
    "total_drug_mg_c = round(num_injections * drug_per_injection * num_animals)"
   ]
  },
  {
   "cell_type": "code",
   "execution_count": 30,
   "metadata": {},
   "outputs": [
    {
     "name": "stdout",
     "output_type": "stream",
     "text": [
      "Totoal drug needed for chronic administeration:\t56\n"
     ]
    }
   ],
   "source": [
    "print(f'Totoal drug needed for chronic administeration:\\t{total_drug_mg_c}mg')"
   ]
  },
  {
   "cell_type": "code",
   "execution_count": 25,
   "metadata": {},
   "outputs": [],
   "source": [
    "num_animals_acute = 10\n",
    "drug_for_acute = drug_per_injection * num_animals_acute"
   ]
  },
  {
   "cell_type": "code",
   "execution_count": 26,
   "metadata": {},
   "outputs": [
    {
     "name": "stdout",
     "output_type": "stream",
     "text": [
      "Totoal drug needed for acute recordings:\t4.0\n"
     ]
    }
   ],
   "source": [
    "print(f'Totoal drug needed for acute recordings:\\t{drug_for_acute}mg')"
   ]
  },
  {
   "cell_type": "code",
   "execution_count": 28,
   "metadata": {},
   "outputs": [
    {
     "name": "stdout",
     "output_type": "stream",
     "text": [
      "Totoal drug needed for acute recordings:\t60\n"
     ]
    }
   ],
   "source": [
    "total_drug_mg = round(drug_for_acute + total_drug_mg_c)\n",
    "print(f'Totoal drug needed for acute recordings:\\t{total_drug_mg}mg')"
   ]
  },
  {
   "cell_type": "code",
   "execution_count": null,
   "metadata": {},
   "outputs": [],
   "source": []
  }
 ],
 "metadata": {
  "kernelspec": {
   "display_name": "Python 3",
   "language": "python",
   "name": "python3"
  },
  "language_info": {
   "codemirror_mode": {
    "name": "ipython",
    "version": 3
   },
   "file_extension": ".py",
   "mimetype": "text/x-python",
   "name": "python",
   "nbconvert_exporter": "python",
   "pygments_lexer": "ipython3",
   "version": "3.6.5"
  }
 },
 "nbformat": 4,
 "nbformat_minor": 2
}
