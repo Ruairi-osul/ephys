{
 "cells": [
  {
   "cell_type": "code",
   "execution_count": 1,
   "metadata": {},
   "outputs": [],
   "source": [
    "import os\n",
    "import numpy as np\n",
    "import pandas as pd\n",
    "import matplotlib.pyplot as plt; plt.style.use('ggplot')"
   ]
  },
  {
   "cell_type": "code",
   "execution_count": 2,
   "metadata": {},
   "outputs": [],
   "source": [
    "kilosort_folder = r'C:\\Users\\Rory\\raw_data\\CIT_WAY\\dat_files\\cat'\n",
    "recording = r'2018-05-01_01'\n",
    "sep = '\\\\'\n",
    "\n",
    "num_spikes_for_averaging = 1000\n",
    "num_channels = 32\n",
    "num_samples_per_waveform = 120"
   ]
  },
  {
   "cell_type": "code",
   "execution_count": 3,
   "metadata": {},
   "outputs": [],
   "source": [
    "cols = [''.join(['Chan_', str(num)]) for num in range(1, 33)]\n",
    "path = recording + '.dat'\n",
    "waveform_window = np.arange(-num_samples_per_waveform/2,\n",
    "                                 num_samples_per_waveform/2)"
   ]
  },
  {
   "cell_type": "code",
   "execution_count": 4,
   "metadata": {},
   "outputs": [],
   "source": [
    "def load_kilosort_arrays(recording):\n",
    "    '''\n",
    "    Loads arrays generated during kilosort into numpy arrays and pandas DataFrames\n",
    "    Parameters:\n",
    "        recording       = name of the recording being analysed\n",
    "    Returns:\n",
    "        spike_clusters  = numpy array of len(num_spikes) identifying the cluster from which each spike arrose\n",
    "        spike_times     = numpy array of len(num_spikes) identifying the time in samples at which each spike occured\n",
    "        cluster_groups  = pandas DataDrame with one row per cluster and column 'cluster_group' identifying whether\n",
    "                          that cluster had been marked as 'Noise', 'MUA' or 'Good'\n",
    "    '''\n",
    "    spike_clusters = np.load('spike_clusters.npy')\n",
    "    spike_times = np.load('spike_times.npy')\n",
    "    cluster_groups = pd.read_csv('cluster_groups.csv', sep='\\t')\n",
    "    try:  # check data quality\n",
    "        assert np.shape(spike_times.flatten()) == np.shape(spike_clusters)\n",
    "    except AssertionError:\n",
    "        AssertionError('Array lengths do not match in recording {}'.format(\n",
    "            recording))\n",
    "    return spike_clusters, spike_times, cluster_groups\n",
    "\n",
    "\n",
    "def load_data(recording, kilosort_folder, verbose, sep):\n",
    "    '''\n",
    "    Loads arrays generated during kilosort into numpy arrays and pandas DataFrames\n",
    "    Parameters:\n",
    "        recording       = name of the recording being analysed\n",
    "        kilosort_folder = the name of the root directory in which subdirectories for each recording are stored\n",
    "                          inside the sub-directories should be the files generated during spike sorting with\n",
    "                          kilosort and phy\n",
    "        verbose         = True or False\n",
    "        sep             = os directory delimeter e.g. '/'\n",
    "    Returns:\n",
    "        spike_clusters  = numpy array of len(num_spikes) identifying the cluster from which each spike arrose\n",
    "        spike_times     = numpy array of len(num_spikes) identifying the time in samples at which each spike occured\n",
    "        cluster_groups  = pandas DataDrame with one row per cluster and column\n",
    "                          'cluster_group' identifying whetherthat cluster had been marked as 'Noise', 'MUA' or 'Good'\n",
    "    '''\n",
    "    if verbose:\n",
    "        print('\\nLoading Data:\\t{}\\n'.format(recording))\n",
    "    os.chdir(sep.join([kilosort_folder, recording]))\n",
    "    spike_clusters, spike_times, cluster_groups = load_kilosort_arrays(\n",
    "        recording)\n",
    "    return spike_clusters, spike_times, cluster_groups\n",
    "\n",
    "\n",
    "def get_good_cluster_numbers(cluster_groups_df):\n",
    "    '''\n",
    "    Takes the cluster_groups pandas DataFrame fomed during data loading and returns a numpy array of cluster\n",
    "    ids defined as 'Good' during kilosort and phy spike sorting\n",
    "    Parameters:\n",
    "        cluster_groups_df   = the pandas DataFrame containing information on which cluster is 'Good', 'Noise' etc.\n",
    "    Returns:\n",
    "        A numpy array of 'Good' cluster ids\n",
    "    '''\n",
    "    good_clusters_df = cluster_groups_df.loc[cluster_groups_df['group'] == 'good', :]\n",
    "    return good_clusters_df['cluster_id'].values"
   ]
  },
  {
   "cell_type": "markdown",
   "metadata": {},
   "source": [
    "#### Load and Reshape Spike Data"
   ]
  },
  {
   "cell_type": "code",
   "execution_count": 5,
   "metadata": {
    "scrolled": true
   },
   "outputs": [
    {
     "name": "stdout",
     "output_type": "stream",
     "text": [
      "\n",
      "Loading Data:\t2018-05-01_01\n",
      "\n"
     ]
    }
   ],
   "source": [
    "spike_clusters, spike_times, cluster_groups = load_data(recording=recording,\n",
    "                                                        kilosort_folder=kilosort_folder,\n",
    "                                                        verbose=True,\n",
    "                                                        sep=sep)\n",
    "good_cluster_numbers = get_good_cluster_numbers(cluster_groups)\n",
    "df = pd.DataFrame({'spike_time':  spike_times.flatten(), 'spike_cluster':spike_clusters.flatten()})\n",
    "df = df.loc[df['spike_cluster'].isin(good_cluster_numbers), :]"
   ]
  },
  {
   "cell_type": "code",
   "execution_count": 6,
   "metadata": {},
   "outputs": [
    {
     "name": "stdout",
     "output_type": "stream",
     "text": [
      "0     5502\n",
      "1     8250\n",
      "2    21055\n",
      "3    44434\n",
      "4    48444\n",
      "Name: spike_time, dtype: uint64\n"
     ]
    }
   ],
   "source": [
    "cluster_to_plot = good_cluster_numbers[18]\n",
    "\n",
    "spike_times = df.loc[df['spike_cluster']==cluster_to_plot, 'spike_time'].iloc[:num_spikes_for_averaging]\n",
    "spike_times.index = range(len(spike_times))  # change index \n",
    "print(spike_times.head())"
   ]
  },
  {
   "cell_type": "markdown",
   "metadata": {},
   "source": [
    "#### Load and Raw Data"
   ]
  },
  {
   "cell_type": "code",
   "execution_count": 7,
   "metadata": {},
   "outputs": [],
   "source": [
    "temp = np.memmap(path, dtype=np.int16)\n",
    "total_len = len(temp)\n",
    "real_len = int(total_len/num_channels)\n",
    "raw_data = np.memmap(path, dtype=np.int16, shape=(real_len, num_channels))"
   ]
  },
  {
   "cell_type": "markdown",
   "metadata": {},
   "source": [
    "#### Create empty template and fill with waveforms"
   ]
  },
  {
   "cell_type": "code",
   "execution_count": 8,
   "metadata": {},
   "outputs": [],
   "source": [
    "empty_template = np.zeros((num_spikes_for_averaging,\n",
    "                         num_samples_per_waveform,\n",
    "                         num_channels))"
   ]
  },
  {
   "cell_type": "code",
   "execution_count": 9,
   "metadata": {
    "scrolled": false
   },
   "outputs": [],
   "source": [
    "for spike in range(num_spikes_for_averaging):\n",
    "    start_index = int(spike_times.iloc[spike]+waveform_window[0])  # start of waveform in raw data\n",
    "    end_index = int((spike_times.iloc[spike]+waveform_window[-1])+1)  # end of waveform in raw data\n",
    "    \n",
    "    waveform = raw_data[start_index:end_index, 0:num_channels]  # extract waveform from raw data\n",
    "    empty_template[spike, :, :] = waveform[:,:]  #  add extracted waveform to 3d matrix\n",
    "\n"
   ]
  },
  {
   "cell_type": "markdown",
   "metadata": {},
   "source": [
    "#### Create average waveform per channel and find channel with highest amplitude waveform"
   ]
  },
  {
   "cell_type": "code",
   "execution_count": 10,
   "metadata": {},
   "outputs": [],
   "source": [
    "mean_waveform = np.mean(empty_template, axis=0)\n",
    "waveform_per_channel_df = pd.DataFrame(mean_waveform, columns=cols)\n",
    "maxes = waveform_per_channel_df.apply(np.max, axis=0)\n",
    "correct_chan = waveform_per_channel_df.loc[:, maxes.idxmax()]"
   ]
  },
  {
   "cell_type": "markdown",
   "metadata": {},
   "source": [
    "#### Plot Average Waveform"
   ]
  },
  {
   "cell_type": "code",
   "execution_count": 11,
   "metadata": {},
   "outputs": [
    {
     "data": {
      "text/plain": [
       "<matplotlib.axes._subplots.AxesSubplot at 0x1a906bc37f0>"
      ]
     },
     "execution_count": 11,
     "metadata": {},
     "output_type": "execute_result"
    },
    {
     "data": {
      "image/png": "[encoded data removed]",
      "text/plain": [
       "<Figure size 432x288 with 1 Axes>"
      ]
     },
     "metadata": {},
     "output_type": "display_data"
    }
   ],
   "source": [
    "correct_chan.plot()"
   ]
  },
  {
   "cell_type": "code",
   "execution_count": 12,
   "metadata": {},
   "outputs": [
    {
     "data": {
      "text/html": [
       "<div>\n",
       "<style scoped>\n",
       "    .dataframe tbody tr th:only-of-type {\n",
       "        vertical-align: middle;\n",
       "    }\n",
       "\n",
       "    .dataframe tbody tr th {\n",
       "        vertical-align: top;\n",
       "    }\n",
       "\n",
       "    .dataframe thead th {\n",
       "        text-align: right;\n",
       "    }\n",
       "</style>\n",
       "<table border=\"1\" class=\"dataframe\">\n",
       "  <thead>\n",
       "    <tr style=\"text-align: right;\">\n",
       "      <th></th>\n",
       "      <th>y_values</th>\n",
       "      <th>diff_reverse</th>\n",
       "    </tr>\n",
       "  </thead>\n",
       "  <tbody>\n",
       "    <tr>\n",
       "      <th>0</th>\n",
       "      <td>2.019</td>\n",
       "      <td>decline</td>\n",
       "    </tr>\n",
       "    <tr>\n",
       "      <th>1</th>\n",
       "      <td>6.083</td>\n",
       "      <td>increase</td>\n",
       "    </tr>\n",
       "    <tr>\n",
       "      <th>2</th>\n",
       "      <td>2.803</td>\n",
       "      <td>decline</td>\n",
       "    </tr>\n",
       "    <tr>\n",
       "      <th>3</th>\n",
       "      <td>2.990</td>\n",
       "      <td>increase</td>\n",
       "    </tr>\n",
       "    <tr>\n",
       "      <th>4</th>\n",
       "      <td>2.602</td>\n",
       "      <td>decline</td>\n",
       "    </tr>\n",
       "  </tbody>\n",
       "</table>\n",
       "</div>"
      ],
      "text/plain": [
       "   y_values diff_reverse\n",
       "0     2.019      decline\n",
       "1     6.083     increase\n",
       "2     2.803      decline\n",
       "3     2.990     increase\n",
       "4     2.602      decline"
      ]
     },
     "execution_count": 12,
     "metadata": {},
     "output_type": "execute_result"
    }
   ],
   "source": [
    "df = pd.DataFrame({'y_values':correct_chan})\n",
    "df['diff_reverse'] = np.where(df.y_values.diff(periods=-1) > 0, 'increase', 'decline')\n",
    "df.head()"
   ]
  },
  {
   "cell_type": "code",
   "execution_count": 13,
   "metadata": {},
   "outputs": [],
   "source": [
    "peak_amp = df['y_values'].max()\n",
    "peak_sample = df['y_values'].idxmax()"
   ]
  },
  {
   "cell_type": "code",
   "execution_count": 14,
   "metadata": {},
   "outputs": [],
   "source": [
    "min_amp = df['y_values'].min()\n",
    "min_sample = df['y_values'].idxmin()"
   ]
  },
  {
   "cell_type": "code",
   "execution_count": 15,
   "metadata": {},
   "outputs": [],
   "source": [
    "baseline_amp = peak_amp * 0.1"
   ]
  },
  {
   "cell_type": "code",
   "execution_count": 16,
   "metadata": {},
   "outputs": [],
   "source": [
    "baseline_sample = df.loc[(df['y_values']<peak_amp) \n",
    "                       & (df.index < peak_sample) \n",
    "                       & (df['diff_reverse']=='decline') \n",
    "                       & (df['y_values']>=baseline_amp), 'y_values'].idxmin()"
   ]
  },
  {
   "cell_type": "code",
   "execution_count": 17,
   "metadata": {},
   "outputs": [],
   "source": [
    "return_baseline_sample = df.loc[(df['y_values']>min_amp)\n",
    "                               &(df['y_values']<=baseline_amp)\n",
    "                               &(df.index>min_sample), 'y_values'].idxmin()"
   ]
  },
  {
   "cell_type": "code",
   "execution_count": 18,
   "metadata": {},
   "outputs": [],
   "source": [
    "SW_peak = np.absolute(peak_sample - baseline_sample)/30\n",
    "SW_troff = np.absolute(min_sample - baseline_sample)/30\n",
    "SW_base = np.absolute(return_baseline_sample - baseline_sample)/30"
   ]
  },
  {
   "cell_type": "code",
   "execution_count": 19,
   "metadata": {},
   "outputs": [
    {
     "data": {
      "text/plain": [
       "[<matplotlib.lines.Line2D at 0x1a9068471d0>]"
      ]
     },
     "execution_count": 19,
     "metadata": {},
     "output_type": "execute_result"
    },
    {
     "data": {
      "image/png": "[encoded data removed]",
      "text/plain": [
       "<Figure size 432x288 with 1 Axes>"
      ]
     },
     "metadata": {},
     "output_type": "display_data"
    }
   ],
   "source": [
    "plt.plot(df.index/30, df.y_values)"
   ]
  },
  {
   "cell_type": "markdown",
   "metadata": {},
   "source": [
    "### TODO:\n",
    "\n",
    "    - Work around spikes with no positive peak\n",
    "    - Turn into scirpt (loop over recordings, loop over clusters)"
   ]
  },
  {
   "cell_type": "code",
   "execution_count": null,
   "metadata": {},
   "outputs": [],
   "source": []
  }
 ],
 "metadata": {
  "kernelspec": {
   "display_name": "Python 3",
   "language": "python",
   "name": "python3"
  },
  "language_info": {
   "codemirror_mode": {
    "name": "ipython",
    "version": 3
   },
   "file_extension": ".py",
   "mimetype": "text/x-python",
   "name": "python",
   "nbconvert_exporter": "python",
   "pygments_lexer": "ipython3",
   "version": "3.6.4"
  }
 },
 "nbformat": 4,
 "nbformat_minor": 2
}
