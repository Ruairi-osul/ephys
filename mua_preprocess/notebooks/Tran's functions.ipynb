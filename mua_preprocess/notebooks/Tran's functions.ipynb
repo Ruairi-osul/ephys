{
 "cells": [
  {
   "cell_type": "code",
   "execution_count": 3,
   "metadata": {},
   "outputs": [],
   "source": [
    "def find_baseline(from_start_to_max, num_samples, df, thresh): \n",
    "    from_start_to_max = np.arange(0, df['y_values'].iloc[:int(num_samples/2)].idxmax()+1, 1)\n",
    "    ''' \n",
    "    Function to find baseline for up-down-up\n",
    "    '''\n",
    "    \n",
    "    for time_point in from_start_to_max:\n",
    "        if np.absolute(df.loc[time_point+1][0]-df.loc[time_point][0])> thresh and df.loc[time_point]['change']=='increase': \n",
    "            return time_point\n"
   ]
  },
  {
   "cell_type": "code",
   "execution_count": null,
   "metadata": {},
   "outputs": [],
   "source": [
    "                                                         \n",
    "def find_baseline_for_down_up(from_start_to_min, df, thresh): #Method to find baseline is standardised for all types of waveforms \n",
    "    from_start_to_min = np.arange(0, df['y_values'].idxmin()+1, 1)\n",
    "    ''' \n",
    "    Same as standard baseline except the value is the first point where there's a significant y-value DECREASE\n",
    "    '''\n",
    "    \n",
    "    for time_point_for_down_up in from_start_to_min:\n",
    "        if np.absolute(df.loc[time_point_for_down_up+1][0]-df.loc[time_point_for_down_up][0])> thresh and correct_chan.loc[time_point_for_down_up]['trend']=='decrease': \n",
    "            return time_point_for_down_up"
   ]
  }
 ],
 "metadata": {
  "kernelspec": {
   "display_name": "Python 3",
   "language": "python",
   "name": "python3"
  },
  "language_info": {
   "codemirror_mode": {
    "name": "ipython",
    "version": 3
   },
   "file_extension": ".py",
   "mimetype": "text/x-python",
   "name": "python",
   "nbconvert_exporter": "python",
   "pygments_lexer": "ipython3",
   "version": "3.6.4"
  }
 },
 "nbformat": 4,
 "nbformat_minor": 2
}
